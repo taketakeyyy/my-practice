{
 "metadata": {
  "language_info": {
   "codemirror_mode": {
    "name": "ipython",
    "version": 3
   },
   "file_extension": ".py",
   "mimetype": "text/x-python",
   "name": "python",
   "nbconvert_exporter": "python",
   "pygments_lexer": "ipython3",
   "version": "3.8.5"
  },
  "orig_nbformat": 2,
  "kernelspec": {
   "name": "python385jvsc74a57bd00d455debe23b5cbea925a1a696b1f59ab8c36b9ab020f57b3eec3f830c0dd381",
   "display_name": "Python 3.8.5 64-bit ('venv')"
  },
  "metadata": {
   "interpreter": {
    "hash": "0d455debe23b5cbea925a1a696b1f59ab8c36b9ab020f57b3eec3f830c0dd381"
   }
  }
 },
 "nbformat": 4,
 "nbformat_minor": 2,
 "cells": [
  {
   "cell_type": "code",
   "execution_count": null,
   "metadata": {},
   "outputs": [],
   "source": [
    "\"\"\"SymPyを用いて量子ビットを表示してみる\n",
    "https://dojo.qulacs.org/ja/latest/notebooks/1.1_qubit_representation.html\n",
    "\"\"\""
   ]
  },
  {
   "cell_type": "code",
   "execution_count": 15,
   "metadata": {},
   "outputs": [],
   "source": [
    "\"\"\"色々準備\"\"\"\n",
    "# from Ipython.display import Image, display_png\n",
    "from sympy import *\n",
    "from sympy.physics.quantum import *\n",
    "from sympy.physics.quantum.qubit import Qubit, QubitBra\n",
    "init_printing() # ベクトルや行列を綺麗に表示するため"
   ]
  },
  {
   "cell_type": "code",
   "execution_count": 20,
   "metadata": {},
   "outputs": [
    {
     "output_type": "stream",
     "name": "stdout",
     "text": [
      "|0>\n"
     ]
    }
   ],
   "source": [
    "\"\"\"量子ビットを作成\"\"\"\n",
    "psi = Qubit('0')\n",
    "# ブラケット表示\n",
    "print(psi)"
   ]
  },
  {
   "cell_type": "code",
   "execution_count": 21,
   "metadata": {},
   "outputs": [
    {
     "output_type": "execute_result",
     "data": {
      "text/plain": [
       "⎡1⎤\n",
       "⎢ ⎥\n",
       "⎣0⎦"
      ],
      "text/latex": "$\\displaystyle \\left[\\begin{matrix}1\\\\0\\end{matrix}\\right]$"
     },
     "metadata": {},
     "execution_count": 21
    }
   ],
   "source": [
    "## 列ベクトルで表示\n",
    "represent(psi)"
   ]
  },
  {
   "cell_type": "code",
   "execution_count": 23,
   "metadata": {},
   "outputs": [
    {
     "output_type": "execute_result",
     "data": {
      "text/plain": [
       "α⋅❘0⟩ + β⋅❘1⟩"
      ],
      "text/latex": "$\\displaystyle \\alpha {\\left|0\\right\\rangle } + \\beta {\\left|1\\right\\rangle }$"
     },
     "metadata": {},
     "execution_count": 23
    }
   ],
   "source": [
    "\"\"\"α|0> + β|1>\"\"\"\n",
    "a, b = symbols(\"alpha, beta\")  # a, bをシンボルとして、alpha, betaとして表示\n",
    "ket0 = Qubit(\"0\")\n",
    "ket1 = Qubit(\"1\")\n",
    "psi = a*ket0 + b*ket1\n",
    "psi"
   ]
  },
  {
   "cell_type": "code",
   "execution_count": 19,
   "metadata": {},
   "outputs": [
    {
     "output_type": "execute_result",
     "data": {
      "text/plain": [
       "⎡α⎤\n",
       "⎢ ⎥\n",
       "⎣β⎦"
      ],
      "text/latex": "$\\displaystyle \\left[\\begin{matrix}\\alpha\\\\\\beta\\end{matrix}\\right]$"
     },
     "metadata": {},
     "execution_count": 19
    }
   ],
   "source": [
    "represent(psi)"
   ]
  },
  {
   "cell_type": "code",
   "execution_count": 24,
   "metadata": {},
   "outputs": [
    {
     "output_type": "execute_result",
     "data": {
      "text/plain": [
       "√2⋅❘0⟩   √2⋅❘1⟩\n",
       "────── + ──────\n",
       "  2        2   "
      ],
      "text/latex": "$\\displaystyle \\frac{\\sqrt{2} {\\left|0\\right\\rangle }}{2} + \\frac{\\sqrt{2} {\\left|1\\right\\rangle }}{2}$"
     },
     "metadata": {},
     "execution_count": 24
    }
   ],
   "source": [
    "\"\"\"具体的な数値を代入してみる\"\"\"\n",
    "psi.subs([([a,1/sqrt(2)]),([b,1/sqrt(2)])]) # alpha, betaに具体的な数字を代入"
   ]
  }
 ]
}