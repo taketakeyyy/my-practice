{
 "metadata": {
  "language_info": {
   "codemirror_mode": {
    "name": "ipython",
    "version": 3
   },
   "file_extension": ".py",
   "mimetype": "text/x-python",
   "name": "python",
   "nbconvert_exporter": "python",
   "pygments_lexer": "ipython3",
   "version": "3.8.10"
  },
  "orig_nbformat": 2,
  "kernelspec": {
   "name": "python3",
   "display_name": "Python 3.8.10 64-bit ('venv': venv)"
  },
  "interpreter": {
   "hash": "0d455debe23b5cbea925a1a696b1f59ab8c36b9ab020f57b3eec3f830c0dd381"
  }
 },
 "nbformat": 4,
 "nbformat_minor": 2,
 "cells": [
  {
   "cell_type": "code",
   "execution_count": null,
   "metadata": {},
   "outputs": [],
   "source": [
    "\"\"\"SymPyを用いた量子ビット演算\n",
    "https://dojo.qulacs.org/ja/latest/notebooks/1.2_qubit_operations.html\n",
    "\"\"\""
   ]
  },
  {
   "cell_type": "code",
   "execution_count": 12,
   "metadata": {},
   "outputs": [],
   "source": [
    "\"\"\"色々準備\"\"\"\n",
    "from IPython.display import Image, display_png\n",
    "from sympy import *\n",
    "from sympy.physics.quantum import *\n",
    "from sympy.physics.quantum.qubit import Qubit,QubitBra\n",
    "init_printing() # ベクトルや行列を綺麗に表示するため\n",
    "from sympy.physics.quantum.gate import X, Y, Z, H, S, T, CNOT, SWAP, CPHASE"
   ]
  },
  {
   "cell_type": "code",
   "execution_count": 13,
   "metadata": {},
   "outputs": [
    {
     "output_type": "execute_result",
     "data": {
      "text/plain": [
       "X \n",
       " 0"
      ],
      "text/latex": "$\\displaystyle X_{0}$"
     },
     "metadata": {},
     "execution_count": 13
    }
   ],
   "source": [
    "\"\"\"量子ビットの作成\"\"\"\n",
    "# 0番目の量子ビットに作用するパウリ演算子Xを作成\n",
    "X(0)"
   ]
  },
  {
   "cell_type": "code",
   "execution_count": 5,
   "metadata": {},
   "outputs": [
    {
     "output_type": "execute_result",
     "data": {
      "text/plain": [
       "⎡0  1⎤\n",
       "⎢    ⎥\n",
       "⎣1  0⎦"
      ],
      "text/latex": "$\\displaystyle \\left[\\begin{matrix}0 & 1\\\\1 & 0\\end{matrix}\\right]$"
     },
     "metadata": {},
     "execution_count": 5
    }
   ],
   "source": [
    "\"\"\"パウリ演算子Xを行列表示\"\"\"\n",
    "# nqubits := 「いくつの量子ビットの空間で表現するか」を指定\n",
    "# 今回は量子ビットは1つしかないので nqubits=1\n",
    "represent(X(0), nqubits=1)  # パウリX"
   ]
  },
  {
   "cell_type": "code",
   "execution_count": 6,
   "metadata": {},
   "outputs": [
    {
     "output_type": "execute_result",
     "data": {
      "text/plain": [
       "⎡0  -ⅈ⎤\n",
       "⎢     ⎥\n",
       "⎣ⅈ  0 ⎦"
      ],
      "text/latex": "$\\displaystyle \\left[\\begin{matrix}0 & - i\\\\i & 0\\end{matrix}\\right]$"
     },
     "metadata": {},
     "execution_count": 6
    }
   ],
   "source": [
    "\"\"\"パウリ演算子Yを行列表示\"\"\"\n",
    "represent(Y(0), nqubits=1)"
   ]
  },
  {
   "cell_type": "code",
   "execution_count": 7,
   "metadata": {},
   "outputs": [
    {
     "output_type": "execute_result",
     "data": {
      "text/plain": [
       "⎡1  0 ⎤\n",
       "⎢     ⎥\n",
       "⎣0  -1⎦"
      ],
      "text/latex": "$\\displaystyle \\left[\\begin{matrix}1 & 0\\\\0 & -1\\end{matrix}\\right]$"
     },
     "metadata": {},
     "execution_count": 7
    }
   ],
   "source": [
    "\"\"\"パウリ演算子Zを行列表示\"\"\"\n",
    "represent(Z(0), nqubits=1)"
   ]
  },
  {
   "cell_type": "code",
   "execution_count": 9,
   "metadata": {},
   "outputs": [
    {
     "output_type": "execute_result",
     "data": {
      "text/plain": [
       "⎡1    1  ⎤\n",
       "⎢──   ── ⎥\n",
       "⎢√2   √2 ⎥\n",
       "⎢        ⎥\n",
       "⎢1   -√2 ⎥\n",
       "⎢──  ────⎥\n",
       "⎣√2   2  ⎦"
      ],
      "text/latex": "$\\displaystyle \\left[\\begin{matrix}\\frac{1}{\\sqrt{2}} & \\frac{1}{\\sqrt{2}}\\\\\\frac{1}{\\sqrt{2}} & - \\frac{\\sqrt{2}}{2}\\end{matrix}\\right]$"
     },
     "metadata": {},
     "execution_count": 9
    }
   ],
   "source": [
    "\"\"\"アダマール演算子Hを行列表示\"\"\"\n",
    "represent(H(0), nqubits=1)"
   ]
  },
  {
   "cell_type": "code",
   "execution_count": 10,
   "metadata": {},
   "outputs": [
    {
     "output_type": "execute_result",
     "data": {
      "text/plain": [
       "⎡1  0⎤\n",
       "⎢    ⎥\n",
       "⎣0  ⅈ⎦"
      ],
      "text/latex": "$\\displaystyle \\left[\\begin{matrix}1 & 0\\\\0 & i\\end{matrix}\\right]$"
     },
     "metadata": {},
     "execution_count": 10
    }
   ],
   "source": [
    "\"\"\"位相演算子Sを行列表示\"\"\"\n",
    "represent(S(0), nqubits=1)"
   ]
  },
  {
   "cell_type": "code",
   "execution_count": 11,
   "metadata": {},
   "outputs": [
    {
     "output_type": "execute_result",
     "data": {
      "text/plain": [
       "⎡1   0  ⎤\n",
       "⎢       ⎥\n",
       "⎢    ⅈ⋅π⎥\n",
       "⎢    ───⎥\n",
       "⎢     4 ⎥\n",
       "⎣0  ℯ   ⎦"
      ],
      "text/latex": "$\\displaystyle \\left[\\begin{matrix}1 & 0\\\\0 & e^{\\frac{i \\pi}{4}}\\end{matrix}\\right]$"
     },
     "metadata": {},
     "execution_count": 11
    }
   ],
   "source": [
    "\"\"\"π/4の位相演算子Tを行列表示\"\"\"\n",
    "represent(T(0), nqubits=1)"
   ]
  },
  {
   "cell_type": "code",
   "execution_count": 12,
   "metadata": {},
   "outputs": [
    {
     "output_type": "execute_result",
     "data": {
      "text/plain": [
       "S ⋅Y ⋅X ⋅H ⋅❘0⟩\n",
       " 0  0  0  0    "
      ],
      "text/latex": "$\\displaystyle S_{0} Y_{0} X_{0} H_{0} {\\left|0\\right\\rangle }$"
     },
     "metadata": {},
     "execution_count": 12
    }
   ],
   "source": [
    "\"\"\"演算を状態に作用させる\"\"\"\n",
    "ket0 = Qubit(\"0\")\n",
    "S(0)*Y(0)*X(0)*H(0)*ket0"
   ]
  },
  {
   "cell_type": "code",
   "execution_count": 16,
   "metadata": {},
   "outputs": [
    {
     "output_type": "execute_result",
     "data": {
      "text/plain": [
       "  √2⋅ⅈ⋅❘0⟩   √2⋅❘1⟩\n",
       "- ──────── - ──────\n",
       "     2         2   "
      ],
      "text/latex": "$\\displaystyle - \\frac{\\sqrt{2} i {\\left|0\\right\\rangle }}{2} - \\frac{\\sqrt{2} {\\left|1\\right\\rangle }}{2}$"
     },
     "metadata": {},
     "execution_count": 16
    }
   ],
   "source": [
    "# 実際に計算をする場合はqapply()を使う\n",
    "result = qapply(S(0)*Y(0)*X(0)*H(0)*ket0)\n",
    "result"
   ]
  },
  {
   "cell_type": "code",
   "execution_count": 17,
   "metadata": {},
   "outputs": [
    {
     "output_type": "execute_result",
     "data": {
      "text/plain": [
       "⎡-√2⋅ⅈ ⎤\n",
       "⎢──────⎥\n",
       "⎢  2   ⎥\n",
       "⎢      ⎥\n",
       "⎢ -√2  ⎥\n",
       "⎢ ──── ⎥\n",
       "⎣  2   ⎦"
      ],
      "text/latex": "$\\displaystyle \\left[\\begin{matrix}- \\frac{\\sqrt{2} i}{2}\\\\- \\frac{\\sqrt{2}}{2}\\end{matrix}\\right]$"
     },
     "metadata": {},
     "execution_count": 17
    }
   ],
   "source": [
    "# 計算結果を列ベクトル表示\n",
    "represent(result)"
   ]
  }
 ]
}