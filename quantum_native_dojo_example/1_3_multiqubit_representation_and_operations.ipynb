{
 "metadata": {
  "language_info": {
   "codemirror_mode": {
    "name": "ipython",
    "version": 3
   },
   "file_extension": ".py",
   "mimetype": "text/x-python",
   "name": "python",
   "nbconvert_exporter": "python",
   "pygments_lexer": "ipython3",
   "version": "3.8.5"
  },
  "orig_nbformat": 2,
  "kernelspec": {
   "name": "python385jvsc74a57bd00d455debe23b5cbea925a1a696b1f59ab8c36b9ab020f57b3eec3f830c0dd381",
   "display_name": "Python 3.8.5 64-bit ('venv')"
  }
 },
 "nbformat": 4,
 "nbformat_minor": 2,
 "cells": [
  {
   "cell_type": "code",
   "execution_count": null,
   "metadata": {},
   "outputs": [],
   "source": [
    "\"\"\"SymPyを用いたテンソル積の計算\n",
    "https://dojo.qulacs.org/ja/latest/notebooks/1.3_multiqubit_representation_and_operations.html\n",
    "\"\"\""
   ]
  },
  {
   "cell_type": "code",
   "execution_count": 49,
   "metadata": {},
   "outputs": [],
   "source": [
    "\"\"\"色々準備\"\"\"\n",
    "from IPython.display import Image, display_png\n",
    "from sympy import *\n",
    "from sympy.physics.quantum import *\n",
    "from sympy.physics.quantum.qubit import Qubit, QubitBra, measure_all, measure_partial\n",
    "from sympy.physics.quantum.gate import X,Y,Z,H,S,T,CNOT,SWAP, CPHASE\n",
    "init_printing() # ベクトルや行列を綺麗に表示するため"
   ]
  },
  {
   "cell_type": "code",
   "execution_count": 37,
   "metadata": {},
   "outputs": [],
   "source": [
    "\"\"\"テンソル積を計算してみる\"\"\"\n",
    "a,b,c,d = symbols(\"alpha, beta, gamma, delta\")\n",
    "psi = a*Qubit(\"0\") + b*Qubit(\"1\")\n",
    "phi = c*Qubit(\"0\") + d*Qubit(\"1\")"
   ]
  },
  {
   "cell_type": "code",
   "execution_count": 41,
   "metadata": {},
   "outputs": [
    {
     "output_type": "execute_result",
     "data": {
      "text/plain": [
       "(α⋅❘0⟩ + β⋅❘1⟩)⨂ (δ⋅❘1⟩ + γ⋅❘0⟩)"
      ],
      "text/latex": "$\\displaystyle \\left({\\alpha {\\left|0\\right\\rangle } + \\beta {\\left|1\\right\\rangle }}\\right)\\otimes \\left({\\delta {\\left|1\\right\\rangle } + \\gamma {\\left|0\\right\\rangle }}\\right)$"
     },
     "metadata": {},
     "execution_count": 41
    }
   ],
   "source": [
    "res = TensorProduct(psi, phi) #テンソル積\n",
    "res"
   ]
  },
  {
   "cell_type": "code",
   "execution_count": 42,
   "metadata": {},
   "outputs": [
    {
     "output_type": "execute_result",
     "data": {
      "text/plain": [
       "⎡α⋅γ⎤\n",
       "⎢   ⎥\n",
       "⎢α⋅δ⎥\n",
       "⎢   ⎥\n",
       "⎢β⋅γ⎥\n",
       "⎢   ⎥\n",
       "⎣β⋅δ⎦"
      ],
      "text/latex": "$\\displaystyle \\left[\\begin{matrix}\\alpha \\gamma\\\\\\alpha \\delta\\\\\\beta \\gamma\\\\\\beta \\delta\\end{matrix}\\right]$"
     },
     "metadata": {},
     "execution_count": 42
    }
   ],
   "source": [
    "represent(res)"
   ]
  },
  {
   "cell_type": "code",
   "execution_count": 43,
   "metadata": {},
   "outputs": [
    {
     "output_type": "execute_result",
     "data": {
      "text/plain": [
       "⎡ 2   ⎤\n",
       "⎢α ⋅γ ⎥\n",
       "⎢     ⎥\n",
       "⎢ 2   ⎥\n",
       "⎢α ⋅δ ⎥\n",
       "⎢     ⎥\n",
       "⎢α⋅β⋅γ⎥\n",
       "⎢     ⎥\n",
       "⎢α⋅β⋅δ⎥\n",
       "⎢     ⎥\n",
       "⎢α⋅β⋅γ⎥\n",
       "⎢     ⎥\n",
       "⎢α⋅β⋅δ⎥\n",
       "⎢     ⎥\n",
       "⎢ 2   ⎥\n",
       "⎢β ⋅γ ⎥\n",
       "⎢     ⎥\n",
       "⎢ 2   ⎥\n",
       "⎣β ⋅δ ⎦"
      ],
      "text/latex": "$\\displaystyle \\left[\\begin{matrix}\\alpha^{2} \\gamma\\\\\\alpha^{2} \\delta\\\\\\alpha \\beta \\gamma\\\\\\alpha \\beta \\delta\\\\\\alpha \\beta \\gamma\\\\\\alpha \\beta \\delta\\\\\\beta^{2} \\gamma\\\\\\beta^{2} \\delta\\end{matrix}\\right]$"
     },
     "metadata": {},
     "execution_count": 43
    }
   ],
   "source": [
    "\"\"\"さらに |Ψ> とのテンソル積をとると8次元のベクトルになる\"\"\"\n",
    "res2 = represent(TensorProduct(psi, res))\n",
    "res2"
   ]
  },
  {
   "cell_type": "code",
   "execution_count": 45,
   "metadata": {},
   "outputs": [
    {
     "output_type": "execute_result",
     "data": {
      "text/plain": [
       "⎡1    1  ⎤\n",
       "⎢──   ── ⎥\n",
       "⎢√2   √2 ⎥\n",
       "⎢        ⎥\n",
       "⎢1   -√2 ⎥\n",
       "⎢──  ────⎥\n",
       "⎣√2   2  ⎦"
      ],
      "text/latex": "$\\displaystyle \\left[\\begin{matrix}\\frac{1}{\\sqrt{2}} & \\frac{1}{\\sqrt{2}}\\\\\\frac{1}{\\sqrt{2}} & - \\frac{\\sqrt{2}}{2}\\end{matrix}\\right]$"
     },
     "metadata": {},
     "execution_count": 45
    }
   ],
   "source": [
    "\"\"\"SymPyを用いた演算子のテンソル積\"\"\"\n",
    "# H(0)を1量子ビットで表示\n",
    "represent(H(0), nqubits=1)"
   ]
  },
  {
   "cell_type": "code",
   "execution_count": 46,
   "metadata": {},
   "outputs": [
    {
     "output_type": "execute_result",
     "data": {
      "text/plain": [
       "⎡1        1        ⎤\n",
       "⎢──  0    ──    0  ⎥\n",
       "⎢√2       √2       ⎥\n",
       "⎢                  ⎥\n",
       "⎢    1          1  ⎥\n",
       "⎢0   ──   0     ── ⎥\n",
       "⎢    √2         √2 ⎥\n",
       "⎢                  ⎥\n",
       "⎢1       -√2       ⎥\n",
       "⎢──  0   ────   0  ⎥\n",
       "⎢√2       2        ⎥\n",
       "⎢                  ⎥\n",
       "⎢    1         -√2 ⎥\n",
       "⎢0   ──   0    ────⎥\n",
       "⎣    √2         2  ⎦"
      ],
      "text/latex": "$\\displaystyle \\left[\\begin{matrix}\\frac{1}{\\sqrt{2}} & 0 & \\frac{1}{\\sqrt{2}} & 0\\\\0 & \\frac{1}{\\sqrt{2}} & 0 & \\frac{1}{\\sqrt{2}}\\\\\\frac{1}{\\sqrt{2}} & 0 & - \\frac{\\sqrt{2}}{2} & 0\\\\0 & \\frac{1}{\\sqrt{2}} & 0 & - \\frac{\\sqrt{2}}{2}\\end{matrix}\\right]$"
     },
     "metadata": {},
     "execution_count": 46
    }
   ],
   "source": [
    "# 2量子ビット空間では、H⊗Iに対応している\n",
    "represent(H(1), nqubits=2)"
   ]
  },
  {
   "cell_type": "code",
   "execution_count": 47,
   "metadata": {},
   "outputs": [
    {
     "output_type": "execute_result",
     "data": {
      "text/plain": [
       "⎡1  0  0  0⎤\n",
       "⎢          ⎥\n",
       "⎢0  1  0  0⎥\n",
       "⎢          ⎥\n",
       "⎢0  0  0  1⎥\n",
       "⎢          ⎥\n",
       "⎣0  0  1  0⎦"
      ],
      "text/latex": "$\\displaystyle \\left[\\begin{matrix}1 & 0 & 0 & 0\\\\0 & 1 & 0 & 0\\\\0 & 0 & 0 & 1\\\\0 & 0 & 1 & 0\\end{matrix}\\right]$"
     },
     "metadata": {},
     "execution_count": 47
    }
   ],
   "source": [
    "# CNOT演算については\n",
    "represent(CNOT(1,0), nqubits=2)"
   ]
  },
  {
   "cell_type": "code",
   "execution_count": 48,
   "metadata": {},
   "outputs": [
    {
     "output_type": "execute_result",
     "data": {
      "text/plain": [
       "⎡0  0   0   0  0  0   -ⅈ  0⎤\n",
       "⎢                          ⎥\n",
       "⎢0  0   0   0  0  0   0   ⅈ⎥\n",
       "⎢                          ⎥\n",
       "⎢0  0   0   0  ⅈ  0   0   0⎥\n",
       "⎢                          ⎥\n",
       "⎢0  0   0   0  0  -ⅈ  0   0⎥\n",
       "⎢                          ⎥\n",
       "⎢0  0   -ⅈ  0  0  0   0   0⎥\n",
       "⎢                          ⎥\n",
       "⎢0  0   0   ⅈ  0  0   0   0⎥\n",
       "⎢                          ⎥\n",
       "⎢ⅈ  0   0   0  0  0   0   0⎥\n",
       "⎢                          ⎥\n",
       "⎣0  -ⅈ  0   0  0  0   0   0⎦"
      ],
      "text/latex": "$\\displaystyle \\left[\\begin{matrix}0 & 0 & 0 & 0 & 0 & 0 & - i & 0\\\\0 & 0 & 0 & 0 & 0 & 0 & 0 & i\\\\0 & 0 & 0 & 0 & i & 0 & 0 & 0\\\\0 & 0 & 0 & 0 & 0 & - i & 0 & 0\\\\0 & 0 & - i & 0 & 0 & 0 & 0 & 0\\\\0 & 0 & 0 & i & 0 & 0 & 0 & 0\\\\i & 0 & 0 & 0 & 0 & 0 & 0 & 0\\\\0 & - i & 0 & 0 & 0 & 0 & 0 & 0\\end{matrix}\\right]$"
     },
     "metadata": {},
     "execution_count": 48
    }
   ],
   "source": [
    "# パウリ演算子のテンソル積X⊗Y⊗Zについては\n",
    "represent(X(2)*Y(1)*Z(0), nqubits=3)"
   ]
  },
  {
   "cell_type": "code",
   "execution_count": 53,
   "metadata": {},
   "outputs": [
    {
     "output_type": "execute_result",
     "data": {
      "text/plain": [
       "⎛√2⋅❘00⟩   √2⋅❘01⟩     ⎞\n",
       "⎜─────── + ───────, 1/2⎟\n",
       "⎝   2         2        ⎠"
      ],
      "text/latex": "$\\displaystyle \\left( \\frac{\\sqrt{2} {\\left|00\\right\\rangle }}{2} + \\frac{\\sqrt{2} {\\left|01\\right\\rangle }}{2}, \\  \\frac{1}{2}\\right)$"
     },
     "metadata": {},
     "execution_count": 53
    }
   ],
   "source": [
    "\"\"\"複数の量子ビットの一部分だけを測定する\"\"\"\n",
    "psi = qapply(CNOT(1, 0)*H(1)*H(0)*Qubit('00'))\n",
    "psi\n",
    "\n",
    "# 一部の量子ビットを測定した場合の確率と測定後の状態を計算する\n",
    "# 第1引数：測定する状態\n",
    "# 第2引数：測定を行う量子ビットのインデックス\n",
    "# 返り値：「測定後の状態」と「測定の確率の組」のリスト\n",
    "measured_state_and_probability = measure_partial(psi, (1,))\n",
    "\n",
    "# 測定結果が0だった場合の、量子状態と確率を表示する\n",
    "measured_state_and_probability[0]"
   ]
  },
  {
   "cell_type": "code",
   "execution_count": 54,
   "metadata": {},
   "outputs": [
    {
     "output_type": "execute_result",
     "data": {
      "text/plain": [
       "⎛√2⋅❘10⟩   √2⋅❘11⟩     ⎞\n",
       "⎜─────── + ───────, 1/2⎟\n",
       "⎝   2         2        ⎠"
      ],
      "text/latex": "$\\displaystyle \\left( \\frac{\\sqrt{2} {\\left|10\\right\\rangle }}{2} + \\frac{\\sqrt{2} {\\left|11\\right\\rangle }}{2}, \\  \\frac{1}{2}\\right)$"
     },
     "metadata": {},
     "execution_count": 54
    }
   ],
   "source": [
    "# 測定結果が1だった場合の、量子状態と確率を表示する\n",
    "measured_state_and_probability[1]"
   ]
  }
 ]
}