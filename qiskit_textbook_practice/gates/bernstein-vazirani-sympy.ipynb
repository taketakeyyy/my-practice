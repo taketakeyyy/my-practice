{
 "metadata": {
  "language_info": {
   "codemirror_mode": {
    "name": "ipython",
    "version": 3
   },
   "file_extension": ".py",
   "mimetype": "text/x-python",
   "name": "python",
   "nbconvert_exporter": "python",
   "pygments_lexer": "ipython3",
   "version": "3.8.10"
  },
  "orig_nbformat": 4,
  "kernelspec": {
   "name": "python3810jvsc74a57bd0a714f5fc795d77d60324ec410824b84908c00753350b90aa983a8f1d0315275f",
   "display_name": "Python 3.8.10 64-bit ('venv': venv)",
   "language": "python"
  }
 },
 "nbformat": 4,
 "nbformat_minor": 2,
 "cells": [
  {
   "cell_type": "code",
   "execution_count": 10,
   "metadata": {},
   "outputs": [],
   "source": [
    "import sympy\n",
    "from sympy.physics.quantum import represent, qapply\n",
    "from sympy.physics.quantum.qubit import Qubit, QubitBra, measure_all, measure_partial\n",
    "from sympy.physics.quantum.gate import X,Y,Z,H,S,T,CNOT,SWAP,CPHASE,CGate,IdentityGate\n",
    "# sympy.init_printing() # ベクトルや行列を綺麗に表示するため"
   ]
  },
  {
   "cell_type": "code",
   "execution_count": 11,
   "metadata": {},
   "outputs": [
    {
     "output_type": "execute_result",
     "data": {
      "text/plain": [
       "|0000>"
      ],
      "text/latex": "$\\displaystyle {\\left|0000\\right\\rangle }$"
     },
     "metadata": {},
     "execution_count": 11
    }
   ],
   "source": [
    "# psi0 初期化\n",
    "q_in = 3\n",
    "q_out = 1\n",
    "\n",
    "psi0 = qapply(Qubit(0,0,0,0))\n",
    "psi0"
   ]
  },
  {
   "cell_type": "code",
   "execution_count": 12,
   "metadata": {},
   "outputs": [
    {
     "output_type": "execute_result",
     "data": {
      "text/plain": [
       "|0000>/4 + |0001>/4 + |0010>/4 + |0011>/4 + |0100>/4 + |0101>/4 + |0110>/4 + |0111>/4 - |1000>/4 - |1001>/4 - |1010>/4 - |1011>/4 - |1100>/4 - |1101>/4 - |1110>/4 - |1111>/4"
      ],
      "text/latex": "$\\displaystyle \\frac{{\\left|0000\\right\\rangle }}{4} + \\frac{{\\left|0001\\right\\rangle }}{4} + \\frac{{\\left|0010\\right\\rangle }}{4} + \\frac{{\\left|0011\\right\\rangle }}{4} + \\frac{{\\left|0100\\right\\rangle }}{4} + \\frac{{\\left|0101\\right\\rangle }}{4} + \\frac{{\\left|0110\\right\\rangle }}{4} + \\frac{{\\left|0111\\right\\rangle }}{4} - \\frac{{\\left|1000\\right\\rangle }}{4} - \\frac{{\\left|1001\\right\\rangle }}{4} - \\frac{{\\left|1010\\right\\rangle }}{4} - \\frac{{\\left|1011\\right\\rangle }}{4} - \\frac{{\\left|1100\\right\\rangle }}{4} - \\frac{{\\left|1101\\right\\rangle }}{4} - \\frac{{\\left|1110\\right\\rangle }}{4} - \\frac{{\\left|1111\\right\\rangle }}{4}$"
     },
     "metadata": {},
     "execution_count": 12
    }
   ],
   "source": [
    "# psi1\n",
    "psi1 = psi0\n",
    "for i in range(q_in+q_out):\n",
    "    psi1 = H(i)*psi1\n",
    "psi1 = Z(q_in+q_out-1)*psi1\n",
    "psi1 = qapply(psi1)\n",
    "psi1"
   ]
  },
  {
   "cell_type": "code",
   "execution_count": 26,
   "metadata": {},
   "outputs": [
    {
     "output_type": "execute_result",
     "data": {
      "text/plain": [
       "|0000>/4 - |0001>/4 - |0010>/4 + |0011>/4 + |0100>/4 - |0101>/4 - |0110>/4 + |0111>/4 - |1000>/4 + |1001>/4 + |1010>/4 - |1011>/4 - |1100>/4 + |1101>/4 + |1110>/4 - |1111>/4"
      ],
      "text/latex": "$\\displaystyle \\frac{{\\left|0000\\right\\rangle }}{4} - \\frac{{\\left|0001\\right\\rangle }}{4} - \\frac{{\\left|0010\\right\\rangle }}{4} + \\frac{{\\left|0011\\right\\rangle }}{4} + \\frac{{\\left|0100\\right\\rangle }}{4} - \\frac{{\\left|0101\\right\\rangle }}{4} - \\frac{{\\left|0110\\right\\rangle }}{4} + \\frac{{\\left|0111\\right\\rangle }}{4} - \\frac{{\\left|1000\\right\\rangle }}{4} + \\frac{{\\left|1001\\right\\rangle }}{4} + \\frac{{\\left|1010\\right\\rangle }}{4} - \\frac{{\\left|1011\\right\\rangle }}{4} - \\frac{{\\left|1100\\right\\rangle }}{4} + \\frac{{\\left|1101\\right\\rangle }}{4} + \\frac{{\\left|1110\\right\\rangle }}{4} - \\frac{{\\left|1111\\right\\rangle }}{4}$"
     },
     "metadata": {},
     "execution_count": 26
    }
   ],
   "source": [
    "# psi2\n",
    "s = \"011\"\n",
    "rs = s[::-1]\n",
    "psi2 = psi1\n",
    "for i in range(q_in):\n",
    "    if rs[i]==\"0\":\n",
    "        psi2 = IdentityGate(i)*psi2\n",
    "    else:\n",
    "        psi2 = CNOT(i, q_in)*psi2\n",
    "psi2 = qapply(psi2)\n",
    "psi2"
   ]
  },
  {
   "cell_type": "code",
   "execution_count": 27,
   "metadata": {},
   "outputs": [
    {
     "output_type": "execute_result",
     "data": {
      "text/plain": [
       "sqrt(2)*|0011>/2 - sqrt(2)*|1011>/2"
      ],
      "text/latex": "$\\displaystyle \\frac{\\sqrt{2} {\\left|0011\\right\\rangle }}{2} - \\frac{\\sqrt{2} {\\left|1011\\right\\rangle }}{2}$"
     },
     "metadata": {},
     "execution_count": 27
    }
   ],
   "source": [
    "# psi3\n",
    "psi3 = psi2\n",
    "\n",
    "for i in range(q_in):\n",
    "    psi3 = H(i) * psi3\n",
    "psi3 = qapply(psi3)\n",
    "psi3"
   ]
  },
  {
   "cell_type": "code",
   "execution_count": 28,
   "metadata": {},
   "outputs": [
    {
     "output_type": "execute_result",
     "data": {
      "text/plain": [
       "[(sqrt(2)*|0011>/2 - sqrt(2)*|1011>/2, 1)]"
      ]
     },
     "metadata": {},
     "execution_count": 28
    }
   ],
   "source": [
    "# 測定\n",
    "# |q2,q1,q0> = |0,1,1>を100%の確率で測定できた\n",
    "result = measure_partial(psi3, range(q_in))\n",
    "result"
   ]
  },
  {
   "cell_type": "code",
   "execution_count": 29,
   "metadata": {},
   "outputs": [
    {
     "output_type": "execute_result",
     "data": {
      "text/plain": [
       "(sqrt(2)*|0011>/2 - sqrt(2)*|1011>/2, 1)"
      ]
     },
     "metadata": {},
     "execution_count": 29
    }
   ],
   "source": [
    "result[0]"
   ]
  }
 ]
}