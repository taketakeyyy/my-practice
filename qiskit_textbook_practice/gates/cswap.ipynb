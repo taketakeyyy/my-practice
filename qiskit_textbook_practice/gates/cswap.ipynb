{
 "metadata": {
  "language_info": {
   "codemirror_mode": {
    "name": "ipython",
    "version": 3
   },
   "file_extension": ".py",
   "mimetype": "text/x-python",
   "name": "python",
   "nbconvert_exporter": "python",
   "pygments_lexer": "ipython3",
   "version": "3.8.10"
  },
  "orig_nbformat": 4,
  "kernelspec": {
   "name": "python3810jvsc74a57bd0a714f5fc795d77d60324ec410824b84908c00753350b90aa983a8f1d0315275f",
   "display_name": "Python 3.8.10 64-bit ('venv': venv)",
   "language": "python"
  }
 },
 "nbformat": 4,
 "nbformat_minor": 2,
 "cells": [
  {
   "cell_type": "code",
   "execution_count": 1,
   "metadata": {},
   "outputs": [],
   "source": [
    "from qiskit import QuantumCircuit"
   ]
  },
  {
   "cell_type": "code",
   "execution_count": 3,
   "metadata": {},
   "outputs": [
    {
     "output_type": "execute_result",
     "data": {
      "text/plain": [
       "<Figure size 146.797x204.68 with 1 Axes>"
      ],
      "image/svg+xml": "<?xml version=\"1.0\" encoding=\"utf-8\" standalone=\"no\"?>\r\n<!DOCTYPE svg PUBLIC \"-//W3C//DTD SVG 1.1//EN\"\r\n  \"http://www.w3.org/Graphics/SVG/1.1/DTD/svg11.dtd\">\r\n<svg height=\"168.9334pt\" version=\"1.1\" viewBox=\"0 0 125.232036 168.9334\" width=\"125.232036pt\" xmlns=\"http://www.w3.org/2000/svg\" xmlns:xlink=\"http://www.w3.org/1999/xlink\">\r\n <metadata>\r\n  <rdf:RDF xmlns:cc=\"http://creativecommons.org/ns#\" xmlns:dc=\"http://purl.org/dc/elements/1.1/\" xmlns:rdf=\"http://www.w3.org/1999/02/22-rdf-syntax-ns#\">\r\n   <cc:Work>\r\n    <dc:type rdf:resource=\"http://purl.org/dc/dcmitype/StillImage\"/>\r\n    <dc:date>2021-06-30T13:09:59.273404</dc:date>\r\n    <dc:format>image/svg+xml</dc:format>\r\n    <dc:creator>\r\n     <cc:Agent>\r\n      <dc:title>Matplotlib v3.4.2, https://matplotlib.org/</dc:title>\r\n     </cc:Agent>\r\n    </dc:creator>\r\n   </cc:Work>\r\n  </rdf:RDF>\r\n </metadata>\r\n <defs>\r\n  <style type=\"text/css\">*{stroke-linecap:butt;stroke-linejoin:round;}</style>\r\n </defs>\r\n <g id=\"figure_1\">\r\n  <g id=\"patch_1\">\r\n   <path d=\"M 0 168.9334 \r\nL 125.232036 168.9334 \r\nL 125.232036 0 \r\nL 0 0 \r\nz\r\n\" style=\"fill:#ffffff;\"/>\r\n  </g>\r\n  <g id=\"axes_1\">\r\n   <g id=\"line2d_1\">\r\n    <path clip-path=\"url(#p30d342cea9)\" d=\"M 63.490836 43.5608 \r\nL 113.486936 43.5608 \r\n\" style=\"fill:none;stroke:#000000;stroke-linecap:square;stroke-width:2;\"/>\r\n   </g>\r\n   <g id=\"line2d_2\">\r\n    <path clip-path=\"url(#p30d342cea9)\" d=\"M 63.490836 89.0118 \r\nL 113.486936 89.0118 \r\n\" style=\"fill:none;stroke:#000000;stroke-linecap:square;stroke-width:2;\"/>\r\n   </g>\r\n   <g id=\"line2d_3\">\r\n    <path clip-path=\"url(#p30d342cea9)\" d=\"M 63.490836 134.4628 \r\nL 113.486936 134.4628 \r\n\" style=\"fill:none;stroke:#000000;stroke-linecap:square;stroke-width:2;\"/>\r\n   </g>\r\n   <g id=\"line2d_4\">\r\n    <path clip-path=\"url(#p30d342cea9)\" d=\"M 88.034376 134.4628 \r\nL 88.034376 43.5608 \r\n\" style=\"fill:none;stroke:#bb8bff;stroke-linecap:square;stroke-width:2;\"/>\r\n   </g>\r\n   <g id=\"line2d_5\">\r\n    <path clip-path=\"url(#p30d342cea9)\" d=\"M 82.125746 94.92043 \r\nL 93.943006 83.10317 \r\n\" style=\"fill:none;stroke:#bb8bff;stroke-linecap:square;stroke-width:2;\"/>\r\n   </g>\r\n   <g id=\"line2d_6\">\r\n    <path clip-path=\"url(#p30d342cea9)\" d=\"M 82.125746 83.10317 \r\nL 93.943006 94.92043 \r\n\" style=\"fill:none;stroke:#bb8bff;stroke-linecap:square;stroke-width:2;\"/>\r\n   </g>\r\n   <g id=\"line2d_7\">\r\n    <path clip-path=\"url(#p30d342cea9)\" d=\"M 82.125746 140.37143 \r\nL 93.943006 128.55417 \r\n\" style=\"fill:none;stroke:#bb8bff;stroke-linecap:square;stroke-width:2;\"/>\r\n   </g>\r\n   <g id=\"line2d_8\">\r\n    <path clip-path=\"url(#p30d342cea9)\" d=\"M 82.125746 128.55417 \r\nL 93.943006 140.37143 \r\n\" style=\"fill:none;stroke:#bb8bff;stroke-linecap:square;stroke-width:2;\"/>\r\n   </g>\r\n   <g id=\"patch_2\">\r\n    <path clip-path=\"url(#p30d342cea9)\" d=\"M 88.034376 47.992272 \r\nC 89.209616 47.992272 90.33688 47.525345 91.167901 46.694324 \r\nC 91.998921 45.863304 92.465849 44.73604 92.465849 43.5608 \r\nC 92.465849 42.38556 91.998921 41.258296 91.167901 40.427276 \r\nC 90.33688 39.596255 89.209616 39.129327 88.034376 39.129327 \r\nC 86.859136 39.129327 85.731872 39.596255 84.900852 40.427276 \r\nC 84.069832 41.258296 83.602904 42.38556 83.602904 43.5608 \r\nC 83.602904 44.73604 84.069832 45.863304 84.900852 46.694324 \r\nC 85.731872 47.525345 86.859136 47.992272 88.034376 47.992272 \r\nz\r\n\" style=\"fill:#bb8bff;stroke:#bb8bff;stroke-linejoin:miter;stroke-width:1.5;\"/>\r\n   </g>\r\n   <g id=\"text_1\">\r\n    <g clip-path=\"url(#p30d342cea9)\">\r\n     <!-- ${q}_{0}$ -->\r\n     <g transform=\"translate(36.363136 48.011777)scale(0.1625 -0.1625)\">\r\n      <defs>\r\n       <path d=\"M 2669 525 \r\nQ 2438 222 2123 65 \r\nQ 1809 -91 1428 -91 \r\nQ 897 -91 595 267 \r\nQ 294 625 294 1253 \r\nQ 294 1759 480 2231 \r\nQ 666 2703 1013 3078 \r\nQ 1238 3322 1530 3453 \r\nQ 1822 3584 2144 3584 \r\nQ 2531 3584 2781 3431 \r\nQ 3031 3278 3144 2969 \r\nL 3244 3494 \r\nL 3822 3494 \r\nL 2888 -1319 \r\nL 2309 -1319 \r\nL 2669 525 \r\nz\r\nM 891 1338 \r\nQ 891 875 1084 633 \r\nQ 1278 391 1644 391 \r\nQ 2188 391 2572 911 \r\nQ 2956 1431 2956 2175 \r\nQ 2956 2625 2757 2864 \r\nQ 2559 3103 2188 3103 \r\nQ 1916 3103 1684 2976 \r\nQ 1453 2850 1281 2606 \r\nQ 1100 2350 995 2006 \r\nQ 891 1663 891 1338 \r\nz\r\n\" id=\"DejaVuSans-Oblique-71\" transform=\"scale(0.015625)\"/>\r\n       <path d=\"M 2034 4250 \r\nQ 1547 4250 1301 3770 \r\nQ 1056 3291 1056 2328 \r\nQ 1056 1369 1301 889 \r\nQ 1547 409 2034 409 \r\nQ 2525 409 2770 889 \r\nQ 3016 1369 3016 2328 \r\nQ 3016 3291 2770 3770 \r\nQ 2525 4250 2034 4250 \r\nz\r\nM 2034 4750 \r\nQ 2819 4750 3233 4129 \r\nQ 3647 3509 3647 2328 \r\nQ 3647 1150 3233 529 \r\nQ 2819 -91 2034 -91 \r\nQ 1250 -91 836 529 \r\nQ 422 1150 422 2328 \r\nQ 422 3509 836 4129 \r\nQ 1250 4750 2034 4750 \r\nz\r\n\" id=\"DejaVuSans-30\" transform=\"scale(0.015625)\"/>\r\n      </defs>\r\n      <use xlink:href=\"#DejaVuSans-Oblique-71\"/>\r\n      <use transform=\"translate(63.476562 -16.40625)scale(0.7)\" xlink:href=\"#DejaVuSans-30\"/>\r\n     </g>\r\n    </g>\r\n   </g>\r\n   <g id=\"text_2\">\r\n    <g clip-path=\"url(#p30d342cea9)\">\r\n     <!-- ${q}_{1}$ -->\r\n     <g transform=\"translate(36.363136 93.462777)scale(0.1625 -0.1625)\">\r\n      <defs>\r\n       <path d=\"M 794 531 \r\nL 1825 531 \r\nL 1825 4091 \r\nL 703 3866 \r\nL 703 4441 \r\nL 1819 4666 \r\nL 2450 4666 \r\nL 2450 531 \r\nL 3481 531 \r\nL 3481 0 \r\nL 794 0 \r\nL 794 531 \r\nz\r\n\" id=\"DejaVuSans-31\" transform=\"scale(0.015625)\"/>\r\n      </defs>\r\n      <use xlink:href=\"#DejaVuSans-Oblique-71\"/>\r\n      <use transform=\"translate(63.476562 -16.40625)scale(0.7)\" xlink:href=\"#DejaVuSans-31\"/>\r\n     </g>\r\n    </g>\r\n   </g>\r\n   <g id=\"text_3\">\r\n    <g clip-path=\"url(#p30d342cea9)\">\r\n     <!-- ${q}_{2}$ -->\r\n     <g transform=\"translate(36.363136 138.913777)scale(0.1625 -0.1625)\">\r\n      <defs>\r\n       <path d=\"M 1228 531 \r\nL 3431 531 \r\nL 3431 0 \r\nL 469 0 \r\nL 469 531 \r\nQ 828 903 1448 1529 \r\nQ 2069 2156 2228 2338 \r\nQ 2531 2678 2651 2914 \r\nQ 2772 3150 2772 3378 \r\nQ 2772 3750 2511 3984 \r\nQ 2250 4219 1831 4219 \r\nQ 1534 4219 1204 4116 \r\nQ 875 4013 500 3803 \r\nL 500 4441 \r\nQ 881 4594 1212 4672 \r\nQ 1544 4750 1819 4750 \r\nQ 2544 4750 2975 4387 \r\nQ 3406 4025 3406 3419 \r\nQ 3406 3131 3298 2873 \r\nQ 3191 2616 2906 2266 \r\nQ 2828 2175 2409 1742 \r\nQ 1991 1309 1228 531 \r\nz\r\n\" id=\"DejaVuSans-32\" transform=\"scale(0.015625)\"/>\r\n      </defs>\r\n      <use xlink:href=\"#DejaVuSans-Oblique-71\"/>\r\n      <use transform=\"translate(63.476562 -16.40625)scale(0.7)\" xlink:href=\"#DejaVuSans-32\"/>\r\n     </g>\r\n    </g>\r\n   </g>\r\n  </g>\r\n </g>\r\n <defs>\r\n  <clipPath id=\"p30d342cea9\">\r\n   <rect height=\"154.5334\" width=\"110.832036\" x=\"7.2\" y=\"7.2\"/>\r\n  </clipPath>\r\n </defs>\r\n</svg>\r\n"
     },
     "metadata": {},
     "execution_count": 3
    }
   ],
   "source": [
    "qc = QuantumCircuit(3)\n",
    "qc.cswap(0, 1, 2)\n",
    "qc.draw()"
   ]
  },
  {
   "cell_type": "code",
   "execution_count": null,
   "metadata": {},
   "outputs": [],
   "source": []
  }
 ]
}