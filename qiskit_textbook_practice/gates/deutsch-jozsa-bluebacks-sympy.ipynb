{
 "metadata": {
  "language_info": {
   "codemirror_mode": {
    "name": "ipython",
    "version": 3
   },
   "file_extension": ".py",
   "mimetype": "text/x-python",
   "name": "python",
   "nbconvert_exporter": "python",
   "pygments_lexer": "ipython3",
   "version": "3.8.10"
  },
  "orig_nbformat": 4,
  "kernelspec": {
   "name": "qiskit_textbook_practice_venv",
   "display_name": "qiskit_textbook_practice_venv",
   "language": "python"
  },
  "interpreter": {
   "hash": "a714f5fc795d77d60324ec410824b84908c00753350b90aa983a8f1d0315275f"
  }
 },
 "nbformat": 4,
 "nbformat_minor": 2,
 "cells": [
  {
   "cell_type": "code",
   "execution_count": 1,
   "metadata": {},
   "outputs": [],
   "source": [
    "\"\"\"色々準備\"\"\"\n",
    "from IPython.display import Image, display_png\n",
    "import sympy\n",
    "from sympy.physics.quantum import represent, qapply\n",
    "from sympy.physics.quantum.qubit import Qubit, QubitBra, measure_all, measure_partial\n",
    "from sympy.physics.quantum.gate import X,Y,Z,H,S,T,CNOT,SWAP,CPHASE,CGate,IdentityGate\n",
    "from matplotlib.mathtext import math_to_image\n",
    "sympy.init_printing() # ベクトルや行列を綺麗に表示するため"
   ]
  },
  {
   "cell_type": "code",
   "execution_count": 12,
   "metadata": {},
   "outputs": [
    {
     "output_type": "execute_result",
     "data": {
      "text/plain": [
       "❘0000⟩"
      ],
      "image/png": "[encoded data removed]",
      "text/latex": "$\\displaystyle {\\left|0000\\right\\rangle }$"
     },
     "metadata": {},
     "execution_count": 12
    }
   ],
   "source": [
    "# Hゲートを通る\n",
    "psi1 = Qubit(0,0,0,0)\n",
    "qapply(psi1)"
   ]
  },
  {
   "cell_type": "code",
   "execution_count": 3,
   "metadata": {},
   "outputs": [
    {
     "output_type": "execute_result",
     "data": {
      "text/plain": [
       "√2⋅❘0000⟩   √2⋅❘0001⟩   √2⋅❘0010⟩   √2⋅❘0011⟩   √2⋅❘0100⟩   √2⋅❘0101⟩   √2⋅❘01\n",
       "───────── + ───────── + ───────── + ───────── + ───────── + ───────── + ──────\n",
       "    4           4           4           4           4           4           4 \n",
       "\n",
       "10⟩   √2⋅❘0111⟩\n",
       "─── + ─────────\n",
       "          4    "
      ],
      "image/png": "[encoded data removed]",
      "text/latex": "$\\displaystyle \\frac{\\sqrt{2} {\\left|0000\\right\\rangle }}{4} + \\frac{\\sqrt{2} {\\left|0001\\right\\rangle }}{4} + \\frac{\\sqrt{2} {\\left|0010\\right\\rangle }}{4} + \\frac{\\sqrt{2} {\\left|0011\\right\\rangle }}{4} + \\frac{\\sqrt{2} {\\left|0100\\right\\rangle }}{4} + \\frac{\\sqrt{2} {\\left|0101\\right\\rangle }}{4} + \\frac{\\sqrt{2} {\\left|0110\\right\\rangle }}{4} + \\frac{\\sqrt{2} {\\left|0111\\right\\rangle }}{4}$"
     },
     "metadata": {},
     "execution_count": 3
    }
   ],
   "source": [
    "psi2 = qapply(H(0)*H(1)*H(2)*psi1)\n",
    "qapply(psi2)"
   ]
  },
  {
   "cell_type": "code",
   "execution_count": 4,
   "metadata": {},
   "outputs": [
    {
     "output_type": "execute_result",
     "data": {
      "text/plain": [
       "⎡                                             ⎛√2⋅❘0011⟩   √2⋅❘0100⟩     ⎞    \n",
       "⎢(❘0000⟩, 1/8), (❘0001⟩, 1/8), (❘0010⟩, 1/8), ⎜───────── + ─────────, 1/4⎟, (❘\n",
       "⎣                                             ⎝    2           2         ⎠    \n",
       "\n",
       "                                         ⎤\n",
       "0101⟩, 1/8), (❘0110⟩, 1/8), (❘0111⟩, 1/8)⎥\n",
       "                                         ⎦"
      ],
      "image/png": "[encoded data removed]",
      "text/latex": "$\\displaystyle \\left[ \\left( {\\left|0000\\right\\rangle }, \\  \\frac{1}{8}\\right), \\  \\left( {\\left|0001\\right\\rangle }, \\  \\frac{1}{8}\\right), \\  \\left( {\\left|0010\\right\\rangle }, \\  \\frac{1}{8}\\right), \\  \\left( \\frac{\\sqrt{2} {\\left|0011\\right\\rangle }}{2} + \\frac{\\sqrt{2} {\\left|0100\\right\\rangle }}{2}, \\  \\frac{1}{4}\\right), \\  \\left( {\\left|0101\\right\\rangle }, \\  \\frac{1}{8}\\right), \\  \\left( {\\left|0110\\right\\rangle }, \\  \\frac{1}{8}\\right), \\  \\left( {\\left|0111\\right\\rangle }, \\  \\frac{1}{8}\\right)\\right]$"
     },
     "metadata": {},
     "execution_count": 4
    }
   ],
   "source": [
    "measure_partial(qapply(psi2), (0,1,2,3))"
   ]
  },
  {
   "cell_type": "code",
   "execution_count": 5,
   "metadata": {},
   "outputs": [],
   "source": [
    "cx_000_gate = X(0)*X(1)*X(2)*CGate((0,1,2), X(3))*X(0)*X(1)*X(2)\n",
    "cx_001_gate = X(1)*X(2)*CGate((0,1,2), X(3))*X(1)*X(2)\n",
    "cx_010_gate = X(0)*X(2)*CGate((0,1,2), X(3))*X(0)*X(2)\n",
    "cx_011_gate = X(2)*CGate((0,1,2), X(3))*X(2)\n",
    "cx_100_gate = X(0)*X(1)*CGate((0,1,2), X(3))*X(0)*X(1)\n",
    "cx_101_gate = X(1)*CGate((0,1,2), X(3))*X(1)\n",
    "cx_110_gate = X(0)*CGate((0,1,2), X(3))*X(0)\n",
    "cx_111_gate = CGate((0,1,2), X(3))"
   ]
  },
  {
   "cell_type": "code",
   "execution_count": 6,
   "metadata": {},
   "outputs": [
    {
     "output_type": "execute_result",
     "data": {
      "text/plain": [
       "√2⋅❘0001⟩   √2⋅❘0100⟩   √2⋅❘0110⟩   √2⋅❘0111⟩   √2⋅❘1000⟩   √2⋅❘1010⟩   √2⋅❘10\n",
       "───────── + ───────── + ───────── + ───────── + ───────── + ───────── + ──────\n",
       "    4           4           4           4           4           4           4 \n",
       "\n",
       "11⟩   √2⋅❘1101⟩\n",
       "─── + ─────────\n",
       "          4    "
      ],
      "image/png": "[encoded data removed]",
      "text/latex": "$\\displaystyle \\frac{\\sqrt{2} {\\left|0001\\right\\rangle }}{4} + \\frac{\\sqrt{2} {\\left|0100\\right\\rangle }}{4} + \\frac{\\sqrt{2} {\\left|0110\\right\\rangle }}{4} + \\frac{\\sqrt{2} {\\left|0111\\right\\rangle }}{4} + \\frac{\\sqrt{2} {\\left|1000\\right\\rangle }}{4} + \\frac{\\sqrt{2} {\\left|1010\\right\\rangle }}{4} + \\frac{\\sqrt{2} {\\left|1011\\right\\rangle }}{4} + \\frac{\\sqrt{2} {\\left|1101\\right\\rangle }}{4}$"
     },
     "metadata": {},
     "execution_count": 6
    }
   ],
   "source": [
    "# ブラックボックス回路を通る\n",
    "# [10100110]\n",
    "# blackbox = cx_001_gate*cx_010_gate*cx_101_gate*cx_111_gate\n",
    "\n",
    "# [10110100]\n",
    "# blackbox = cx_010_gate*cx_100_gate*cx_101_gate*cx_111_gate\n",
    "\n",
    "# [00101101]\n",
    "blackbox = cx_000_gate*cx_010_gate*cx_011_gate*cx_101_gate\n",
    "\n",
    "# [01010101] => -|0001>\n",
    "# blackbox = cx_000_gate*cx_010_gate*cx_100_gate*cx_110_gate\n",
    "\n",
    "# [10101010] => |0001>\n",
    "# blackbox = cx_001_gate*cx_011_gate*cx_101_gate*cx_111_gate\n",
    "\n",
    "# [11110000] => |0100>\n",
    "# blackbox = cx_100_gate*cx_101_gate*cx_110_gate*cx_111_gate\n",
    "\n",
    "# [00001111] => -|0100>\n",
    "# blackbox = cx_000_gate*cx_001_gate*cx_010_gate*cx_011_gate\n",
    "\n",
    "# [00111100]\n",
    "# blackbox = cx_010_gate*cx_011_gate*cx_100_gate*cx_101_gate\n",
    "\n",
    "# [00000000]\n",
    "# blackbox = IdentityGate(0)\n",
    "\n",
    "# [11111111]\n",
    "# blackbox = X(3)\n",
    "\n",
    "# [00000001]\n",
    "# blackbox = cx_000_gate\n",
    "\n",
    "psi3 = blackbox*psi2\n",
    "qapply(psi3)"
   ]
  },
  {
   "cell_type": "code",
   "execution_count": 7,
   "metadata": {},
   "outputs": [
    {
     "output_type": "execute_result",
     "data": {
      "text/plain": [
       "√2⋅❘0001⟩   √2⋅❘0100⟩   √2⋅❘0110⟩   √2⋅❘0111⟩   √2⋅❘1000⟩   √2⋅❘1010⟩   √2⋅❘10\n",
       "───────── + ───────── + ───────── + ───────── - ───────── - ───────── - ──────\n",
       "    4           4           4           4           4           4           4 \n",
       "\n",
       "11⟩   √2⋅❘1101⟩\n",
       "─── - ─────────\n",
       "          4    "
      ],
      "image/png": "[encoded data removed]",
      "text/latex": "$\\displaystyle \\frac{\\sqrt{2} {\\left|0001\\right\\rangle }}{4} + \\frac{\\sqrt{2} {\\left|0100\\right\\rangle }}{4} + \\frac{\\sqrt{2} {\\left|0110\\right\\rangle }}{4} + \\frac{\\sqrt{2} {\\left|0111\\right\\rangle }}{4} - \\frac{\\sqrt{2} {\\left|1000\\right\\rangle }}{4} - \\frac{\\sqrt{2} {\\left|1010\\right\\rangle }}{4} - \\frac{\\sqrt{2} {\\left|1011\\right\\rangle }}{4} - \\frac{\\sqrt{2} {\\left|1101\\right\\rangle }}{4}$"
     },
     "metadata": {},
     "execution_count": 7
    }
   ],
   "source": [
    "# Zゲートを通る\n",
    "psi4 = Z(3)*psi3\n",
    "qapply(psi4)"
   ]
  },
  {
   "cell_type": "code",
   "execution_count": 8,
   "metadata": {},
   "outputs": [
    {
     "output_type": "execute_result",
     "data": {
      "text/plain": [
       "  √2⋅❘0000⟩   √2⋅❘0001⟩   √2⋅❘0010⟩   √2⋅❘0011⟩   √2⋅❘0100⟩   √2⋅❘0101⟩   √2⋅❘\n",
       "- ───────── + ───────── - ───────── - ───────── + ───────── - ───────── + ────\n",
       "      4           4           4           4           4           4           \n",
       "\n",
       "0110⟩   √2⋅❘0111⟩\n",
       "───── + ─────────\n",
       "4           4    "
      ],
      "image/png": "[encoded data removed]",
      "text/latex": "$\\displaystyle - \\frac{\\sqrt{2} {\\left|0000\\right\\rangle }}{4} + \\frac{\\sqrt{2} {\\left|0001\\right\\rangle }}{4} - \\frac{\\sqrt{2} {\\left|0010\\right\\rangle }}{4} - \\frac{\\sqrt{2} {\\left|0011\\right\\rangle }}{4} + \\frac{\\sqrt{2} {\\left|0100\\right\\rangle }}{4} - \\frac{\\sqrt{2} {\\left|0101\\right\\rangle }}{4} + \\frac{\\sqrt{2} {\\left|0110\\right\\rangle }}{4} + \\frac{\\sqrt{2} {\\left|0111\\right\\rangle }}{4}$"
     },
     "metadata": {},
     "execution_count": 8
    }
   ],
   "source": [
    "# 再度、ブラックボックス回路を通る\n",
    "psi5 = blackbox*psi4\n",
    "qapply(psi5)"
   ]
  },
  {
   "cell_type": "code",
   "execution_count": 9,
   "metadata": {},
   "outputs": [
    {
     "output_type": "execute_result",
     "data": {
      "text/plain": [
       "  ❘0100⟩   ❘0101⟩   ❘0110⟩   ❘0111⟩\n",
       "- ────── - ────── + ────── - ──────\n",
       "    2        2        2        2   "
      ],
      "image/png": "[encoded data removed]",
      "text/latex": "$\\displaystyle - \\frac{{\\left|0100\\right\\rangle }}{2} - \\frac{{\\left|0101\\right\\rangle }}{2} + \\frac{{\\left|0110\\right\\rangle }}{2} - \\frac{{\\left|0111\\right\\rangle }}{2}$"
     },
     "metadata": {},
     "execution_count": 9
    }
   ],
   "source": [
    "# 再度、アダマールゲートを通る\n",
    "psi6 = H(0)*H(1)*H(2)*psi5\n",
    "qapply(psi6)"
   ]
  },
  {
   "cell_type": "code",
   "execution_count": 10,
   "metadata": {},
   "outputs": [
    {
     "output_type": "execute_result",
     "data": {
      "text/plain": [
       "[(-❘0100⟩, 1/4), (-❘0101⟩, 1/4), (❘0110⟩, 1/4), (-❘0111⟩, 1/4)]"
      ],
      "image/png": "[encoded data removed]",
      "text/latex": "$\\displaystyle \\left[ \\left( - {\\left|0100\\right\\rangle }, \\  \\frac{1}{4}\\right), \\  \\left( - {\\left|0101\\right\\rangle }, \\  \\frac{1}{4}\\right), \\  \\left( {\\left|0110\\right\\rangle }, \\  \\frac{1}{4}\\right), \\  \\left( - {\\left|0111\\right\\rangle }, \\  \\frac{1}{4}\\right)\\right]$"
     },
     "metadata": {},
     "execution_count": 10
    }
   ],
   "source": [
    "# 測定\n",
    "result = measure_partial(qapply(psi6), (0,1,2))\n",
    "result"
   ]
  },
  {
   "cell_type": "code",
   "execution_count": 11,
   "metadata": {},
   "outputs": [
    {
     "output_type": "execute_result",
     "data": {
      "text/plain": [
       "(-❘0100⟩, 1/4)"
      ],
      "image/png": "[encoded data removed]",
      "text/latex": "$\\displaystyle \\left( - {\\left|0100\\right\\rangle }, \\  \\frac{1}{4}\\right)$"
     },
     "metadata": {},
     "execution_count": 11
    }
   ],
   "source": [
    "result[0]"
   ]
  },
  {
   "cell_type": "code",
   "execution_count": null,
   "metadata": {},
   "outputs": [],
   "source": []
  }
 ]
}