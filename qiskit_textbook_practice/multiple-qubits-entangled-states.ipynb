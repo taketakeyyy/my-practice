{
 "metadata": {
  "language_info": {
   "codemirror_mode": {
    "name": "ipython",
    "version": 3
   },
   "file_extension": ".py",
   "mimetype": "text/x-python",
   "name": "python",
   "nbconvert_exporter": "python",
   "pygments_lexer": "ipython3",
   "version": "3.8.5"
  },
  "orig_nbformat": 2,
  "kernelspec": {
   "name": "qiskit_textbook_practice_venv",
   "display_name": "qiskit_textbook_practice_venv",
   "language": "python"
  }
 },
 "nbformat": 4,
 "nbformat_minor": 2,
 "cells": [
  {
   "cell_type": "code",
   "execution_count": 5,
   "metadata": {},
   "outputs": [],
   "source": [
    "\"\"\"色々準備\"\"\"\n",
    "from qiskit import *\n",
    "from math import pi\n",
    "import numpy as np\n",
    "from qiskit.visualization import plot_bloch_multivector, plot_histogram\n",
    "from qiskit_textbook.tools import array_to_latex"
   ]
  },
  {
   "source": [
    "# 1. 複数量子ビット状態の表現"
   ],
   "cell_type": "markdown",
   "metadata": {}
  },
  {
   "cell_type": "code",
   "execution_count": 3,
   "metadata": {},
   "outputs": [
    {
     "output_type": "execute_result",
     "data": {
      "text/plain": [
       "<Figure size 146.797x204.68 with 1 Axes>"
      ],
      "image/svg+xml": "<?xml version=\"1.0\" encoding=\"utf-8\" standalone=\"no\"?>\r\n<!DOCTYPE svg PUBLIC \"-//W3C//DTD SVG 1.1//EN\"\r\n  \"http://www.w3.org/Graphics/SVG/1.1/DTD/svg11.dtd\">\r\n<svg height=\"168.9334pt\" version=\"1.1\" viewBox=\"0 0 125.232036 168.9334\" width=\"125.232036pt\" xmlns=\"http://www.w3.org/2000/svg\" xmlns:xlink=\"http://www.w3.org/1999/xlink\">\r\n <metadata>\r\n  <rdf:RDF xmlns:cc=\"http://creativecommons.org/ns#\" xmlns:dc=\"http://purl.org/dc/elements/1.1/\" xmlns:rdf=\"http://www.w3.org/1999/02/22-rdf-syntax-ns#\">\r\n   <cc:Work>\r\n    <dc:type rdf:resource=\"http://purl.org/dc/dcmitype/StillImage\"/>\r\n    <dc:date>2021-06-03T19:03:29.176991</dc:date>\r\n    <dc:format>image/svg+xml</dc:format>\r\n    <dc:creator>\r\n     <cc:Agent>\r\n      <dc:title>Matplotlib v3.4.2, https://matplotlib.org/</dc:title>\r\n     </cc:Agent>\r\n    </dc:creator>\r\n   </cc:Work>\r\n  </rdf:RDF>\r\n </metadata>\r\n <defs>\r\n  <style type=\"text/css\">*{stroke-linecap:butt;stroke-linejoin:round;}</style>\r\n </defs>\r\n <g id=\"figure_1\">\r\n  <g id=\"patch_1\">\r\n   <path d=\"M 0 168.9334 \r\nL 125.232036 168.9334 \r\nL 125.232036 0 \r\nL 0 0 \r\nz\r\n\" style=\"fill:#ffffff;\"/>\r\n  </g>\r\n  <g id=\"axes_1\">\r\n   <g id=\"line2d_1\">\r\n    <path clip-path=\"url(#p9ce93505d2)\" d=\"M 63.490836 43.5608 \r\nL 113.486936 43.5608 \r\n\" style=\"fill:none;stroke:#000000;stroke-linecap:square;stroke-width:2;\"/>\r\n   </g>\r\n   <g id=\"line2d_2\">\r\n    <path clip-path=\"url(#p9ce93505d2)\" d=\"M 63.490836 89.0118 \r\nL 113.486936 89.0118 \r\n\" style=\"fill:none;stroke:#000000;stroke-linecap:square;stroke-width:2;\"/>\r\n   </g>\r\n   <g id=\"line2d_3\">\r\n    <path clip-path=\"url(#p9ce93505d2)\" d=\"M 63.490836 134.4628 \r\nL 113.486936 134.4628 \r\n\" style=\"fill:none;stroke:#000000;stroke-linecap:square;stroke-width:2;\"/>\r\n   </g>\r\n   <g id=\"patch_2\">\r\n    <path clip-path=\"url(#p9ce93505d2)\" d=\"M 73.262801 58.332375 \r\nL 102.805951 58.332375 \r\nL 102.805951 28.789225 \r\nL 73.262801 28.789225 \r\nz\r\n\" style=\"fill:#6fa4ff;stroke:#6fa4ff;stroke-linejoin:miter;stroke-width:1.5;\"/>\r\n   </g>\r\n   <g id=\"patch_3\">\r\n    <path clip-path=\"url(#p9ce93505d2)\" d=\"M 73.262801 103.783375 \r\nL 102.805951 103.783375 \r\nL 102.805951 74.240225 \r\nL 73.262801 74.240225 \r\nz\r\n\" style=\"fill:#6fa4ff;stroke:#6fa4ff;stroke-linejoin:miter;stroke-width:1.5;\"/>\r\n   </g>\r\n   <g id=\"patch_4\">\r\n    <path clip-path=\"url(#p9ce93505d2)\" d=\"M 73.262801 149.234375 \r\nL 102.805951 149.234375 \r\nL 102.805951 119.691225 \r\nL 73.262801 119.691225 \r\nz\r\n\" style=\"fill:#6fa4ff;stroke:#6fa4ff;stroke-linejoin:miter;stroke-width:1.5;\"/>\r\n   </g>\r\n   <g id=\"text_1\">\r\n    <g clip-path=\"url(#p9ce93505d2)\">\r\n     <!-- H -->\r\n     <g transform=\"translate(83.146173 47.147987)scale(0.13 -0.13)\">\r\n      <defs>\r\n       <path d=\"M 628 4666 \r\nL 1259 4666 \r\nL 1259 2753 \r\nL 3553 2753 \r\nL 3553 4666 \r\nL 4184 4666 \r\nL 4184 0 \r\nL 3553 0 \r\nL 3553 2222 \r\nL 1259 2222 \r\nL 1259 0 \r\nL 628 0 \r\nL 628 4666 \r\nz\r\n\" id=\"DejaVuSans-48\" transform=\"scale(0.015625)\"/>\r\n      </defs>\r\n      <use xlink:href=\"#DejaVuSans-48\"/>\r\n     </g>\r\n    </g>\r\n   </g>\r\n   <g id=\"text_2\">\r\n    <g clip-path=\"url(#p9ce93505d2)\">\r\n     <!-- H -->\r\n     <g transform=\"translate(83.146173 92.598987)scale(0.13 -0.13)\">\r\n      <use xlink:href=\"#DejaVuSans-48\"/>\r\n     </g>\r\n    </g>\r\n   </g>\r\n   <g id=\"text_3\">\r\n    <g clip-path=\"url(#p9ce93505d2)\">\r\n     <!-- H -->\r\n     <g transform=\"translate(83.146173 138.049987)scale(0.13 -0.13)\">\r\n      <use xlink:href=\"#DejaVuSans-48\"/>\r\n     </g>\r\n    </g>\r\n   </g>\r\n   <g id=\"text_4\">\r\n    <g clip-path=\"url(#p9ce93505d2)\">\r\n     <!-- ${q}_{0}$ -->\r\n     <g transform=\"translate(36.363136 48.011777)scale(0.1625 -0.1625)\">\r\n      <defs>\r\n       <path d=\"M 2669 525 \r\nQ 2438 222 2123 65 \r\nQ 1809 -91 1428 -91 \r\nQ 897 -91 595 267 \r\nQ 294 625 294 1253 \r\nQ 294 1759 480 2231 \r\nQ 666 2703 1013 3078 \r\nQ 1238 3322 1530 3453 \r\nQ 1822 3584 2144 3584 \r\nQ 2531 3584 2781 3431 \r\nQ 3031 3278 3144 2969 \r\nL 3244 3494 \r\nL 3822 3494 \r\nL 2888 -1319 \r\nL 2309 -1319 \r\nL 2669 525 \r\nz\r\nM 891 1338 \r\nQ 891 875 1084 633 \r\nQ 1278 391 1644 391 \r\nQ 2188 391 2572 911 \r\nQ 2956 1431 2956 2175 \r\nQ 2956 2625 2757 2864 \r\nQ 2559 3103 2188 3103 \r\nQ 1916 3103 1684 2976 \r\nQ 1453 2850 1281 2606 \r\nQ 1100 2350 995 2006 \r\nQ 891 1663 891 1338 \r\nz\r\n\" id=\"DejaVuSans-Oblique-71\" transform=\"scale(0.015625)\"/>\r\n       <path d=\"M 2034 4250 \r\nQ 1547 4250 1301 3770 \r\nQ 1056 3291 1056 2328 \r\nQ 1056 1369 1301 889 \r\nQ 1547 409 2034 409 \r\nQ 2525 409 2770 889 \r\nQ 3016 1369 3016 2328 \r\nQ 3016 3291 2770 3770 \r\nQ 2525 4250 2034 4250 \r\nz\r\nM 2034 4750 \r\nQ 2819 4750 3233 4129 \r\nQ 3647 3509 3647 2328 \r\nQ 3647 1150 3233 529 \r\nQ 2819 -91 2034 -91 \r\nQ 1250 -91 836 529 \r\nQ 422 1150 422 2328 \r\nQ 422 3509 836 4129 \r\nQ 1250 4750 2034 4750 \r\nz\r\n\" id=\"DejaVuSans-30\" transform=\"scale(0.015625)\"/>\r\n      </defs>\r\n      <use xlink:href=\"#DejaVuSans-Oblique-71\"/>\r\n      <use transform=\"translate(63.476562 -16.40625)scale(0.7)\" xlink:href=\"#DejaVuSans-30\"/>\r\n     </g>\r\n    </g>\r\n   </g>\r\n   <g id=\"text_5\">\r\n    <g clip-path=\"url(#p9ce93505d2)\">\r\n     <!-- ${q}_{1}$ -->\r\n     <g transform=\"translate(36.363136 93.462777)scale(0.1625 -0.1625)\">\r\n      <defs>\r\n       <path d=\"M 794 531 \r\nL 1825 531 \r\nL 1825 4091 \r\nL 703 3866 \r\nL 703 4441 \r\nL 1819 4666 \r\nL 2450 4666 \r\nL 2450 531 \r\nL 3481 531 \r\nL 3481 0 \r\nL 794 0 \r\nL 794 531 \r\nz\r\n\" id=\"DejaVuSans-31\" transform=\"scale(0.015625)\"/>\r\n      </defs>\r\n      <use xlink:href=\"#DejaVuSans-Oblique-71\"/>\r\n      <use transform=\"translate(63.476562 -16.40625)scale(0.7)\" xlink:href=\"#DejaVuSans-31\"/>\r\n     </g>\r\n    </g>\r\n   </g>\r\n   <g id=\"text_6\">\r\n    <g clip-path=\"url(#p9ce93505d2)\">\r\n     <!-- ${q}_{2}$ -->\r\n     <g transform=\"translate(36.363136 138.913777)scale(0.1625 -0.1625)\">\r\n      <defs>\r\n       <path d=\"M 1228 531 \r\nL 3431 531 \r\nL 3431 0 \r\nL 469 0 \r\nL 469 531 \r\nQ 828 903 1448 1529 \r\nQ 2069 2156 2228 2338 \r\nQ 2531 2678 2651 2914 \r\nQ 2772 3150 2772 3378 \r\nQ 2772 3750 2511 3984 \r\nQ 2250 4219 1831 4219 \r\nQ 1534 4219 1204 4116 \r\nQ 875 4013 500 3803 \r\nL 500 4441 \r\nQ 881 4594 1212 4672 \r\nQ 1544 4750 1819 4750 \r\nQ 2544 4750 2975 4387 \r\nQ 3406 4025 3406 3419 \r\nQ 3406 3131 3298 2873 \r\nQ 3191 2616 2906 2266 \r\nQ 2828 2175 2409 1742 \r\nQ 1991 1309 1228 531 \r\nz\r\n\" id=\"DejaVuSans-32\" transform=\"scale(0.015625)\"/>\r\n      </defs>\r\n      <use xlink:href=\"#DejaVuSans-Oblique-71\"/>\r\n      <use transform=\"translate(63.476562 -16.40625)scale(0.7)\" xlink:href=\"#DejaVuSans-32\"/>\r\n     </g>\r\n    </g>\r\n   </g>\r\n  </g>\r\n </g>\r\n <defs>\r\n  <clipPath id=\"p9ce93505d2\">\r\n   <rect height=\"154.5334\" width=\"110.832036\" x=\"7.2\" y=\"7.2\"/>\r\n  </clipPath>\r\n </defs>\r\n</svg>\r\n",
      "image/png": "[encoded data removed]"
     },
     "metadata": {},
     "execution_count": 3
    }
   ],
   "source": [
    "\"\"\"n量子ビットの複素確率振幅は、2^n個になる。\n",
    "なので、10量子ビット程度はまあ計算できるが、スパコンでも100量子ビットは不可能\n",
    "\"\"\"\n",
    "# 3量子ビットの回路作成\n",
    "qc = QuantumCircuit(3)\n",
    "\n",
    "# Apply H-gate to each qubit:\n",
    "for qubit in range(3):\n",
    "    qc.h(qubit)\n",
    "\n",
    "# See the circuit:\n",
    "qc.draw()"
   ]
  },
  {
   "cell_type": "code",
   "execution_count": 4,
   "metadata": {},
   "outputs": [
    {
     "output_type": "display_data",
     "data": {
      "text/plain": "<IPython.core.display.Math object>",
      "text/latex": "$\\displaystyle \n\\text{Statevector} = \\begin{bmatrix}\n\\tfrac{1}{\\sqrt{8}} \\\\\n\\tfrac{1}{\\sqrt{8}} \\\\\n\\tfrac{1}{\\sqrt{8}} \\\\\n\\tfrac{1}{\\sqrt{8}} \\\\\n\\tfrac{1}{\\sqrt{8}} \\\\\n\\tfrac{1}{\\sqrt{8}} \\\\\n\\tfrac{1}{\\sqrt{8}} \\\\\n\\tfrac{1}{\\sqrt{8}}\n\\end{bmatrix}\n$"
     },
     "metadata": {}
    }
   ],
   "source": [
    "# Let's see the result\n",
    "backend = Aer.get_backend('statevector_simulator')\n",
    "final_state = execute(qc,backend).result().get_statevector()\n",
    "\n",
    "# In Jupyter Notebooks we can display this nicely using Latex.\n",
    "# If not using Jupyter Notebooks you may need to remove the \n",
    "# array_to_latex function and use print(final_state) instead.\n",
    "from qiskit_textbook.tools import array_to_latex\n",
    "array_to_latex(final_state, pretext=\"\\\\text{Statevector} = \")"
   ]
  },
  {
   "source": [
    "# 2. 複数量子ビット状態ベクトル上の単一量子ビットゲート"
   ],
   "cell_type": "markdown",
   "metadata": {}
  },
  {
   "cell_type": "code",
   "execution_count": 2,
   "metadata": {},
   "outputs": [
    {
     "output_type": "execute_result",
     "data": {
      "text/plain": [
       "<Figure size 146.652x144.48 with 1 Axes>"
      ],
      "image/svg+xml": "<?xml version=\"1.0\" encoding=\"utf-8\" standalone=\"no\"?>\r\n<!DOCTYPE svg PUBLIC \"-//W3C//DTD SVG 1.1//EN\"\r\n  \"http://www.w3.org/Graphics/SVG/1.1/DTD/svg11.dtd\">\r\n<svg height=\"123.4824pt\" version=\"1.1\" viewBox=\"0 0 125.122272 123.4824\" width=\"125.122272pt\" xmlns=\"http://www.w3.org/2000/svg\" xmlns:xlink=\"http://www.w3.org/1999/xlink\">\r\n <metadata>\r\n  <rdf:RDF xmlns:cc=\"http://creativecommons.org/ns#\" xmlns:dc=\"http://purl.org/dc/elements/1.1/\" xmlns:rdf=\"http://www.w3.org/1999/02/22-rdf-syntax-ns#\">\r\n   <cc:Work>\r\n    <dc:type rdf:resource=\"http://purl.org/dc/dcmitype/StillImage\"/>\r\n    <dc:date>2021-06-06T05:08:13.199376</dc:date>\r\n    <dc:format>image/svg+xml</dc:format>\r\n    <dc:creator>\r\n     <cc:Agent>\r\n      <dc:title>Matplotlib v3.4.2, https://matplotlib.org/</dc:title>\r\n     </cc:Agent>\r\n    </dc:creator>\r\n   </cc:Work>\r\n  </rdf:RDF>\r\n </metadata>\r\n <defs>\r\n  <style type=\"text/css\">*{stroke-linecap:butt;stroke-linejoin:round;}</style>\r\n </defs>\r\n <g id=\"figure_1\">\r\n  <g id=\"patch_1\">\r\n   <path d=\"M 0 123.4824 \r\nL 125.122272 123.4824 \r\nL 125.122272 0 \r\nL 0 0 \r\nz\r\n\" style=\"fill:#ffffff;\"/>\r\n  </g>\r\n  <g id=\"axes_1\">\r\n   <g id=\"line2d_1\">\r\n    <path clip-path=\"url(#pbb02fd302e)\" d=\"M 63.381072 43.5608 \r\nL 113.377172 43.5608 \r\n\" style=\"fill:none;stroke:#000000;stroke-linecap:square;stroke-width:2;\"/>\r\n   </g>\r\n   <g id=\"line2d_2\">\r\n    <path clip-path=\"url(#pbb02fd302e)\" d=\"M 63.381072 89.0118 \r\nL 113.377172 89.0118 \r\n\" style=\"fill:none;stroke:#000000;stroke-linecap:square;stroke-width:2;\"/>\r\n   </g>\r\n   <g id=\"patch_2\">\r\n    <path clip-path=\"url(#pbb02fd302e)\" d=\"M 73.153037 58.332375 \r\nL 102.696187 58.332375 \r\nL 102.696187 28.789225 \r\nL 73.153037 28.789225 \r\nz\r\n\" style=\"fill:#6fa4ff;stroke:#6fa4ff;stroke-linejoin:miter;stroke-width:1.5;\"/>\r\n   </g>\r\n   <g id=\"patch_3\">\r\n    <path clip-path=\"url(#pbb02fd302e)\" d=\"M 73.153037 103.783375 \r\nL 102.696187 103.783375 \r\nL 102.696187 74.240225 \r\nL 73.153037 74.240225 \r\nz\r\n\" style=\"fill:#05bab6;stroke:#05bab6;stroke-linejoin:miter;stroke-width:1.5;\"/>\r\n   </g>\r\n   <g id=\"text_1\">\r\n    <g clip-path=\"url(#pbb02fd302e)\">\r\n     <!-- H -->\r\n     <g transform=\"translate(83.036409 47.147988)scale(0.13 -0.13)\">\r\n      <defs>\r\n       <path d=\"M 628 4666 \r\nL 1259 4666 \r\nL 1259 2753 \r\nL 3553 2753 \r\nL 3553 4666 \r\nL 4184 4666 \r\nL 4184 0 \r\nL 3553 0 \r\nL 3553 2222 \r\nL 1259 2222 \r\nL 1259 0 \r\nL 628 0 \r\nL 628 4666 \r\nz\r\n\" id=\"DejaVuSans-48\" transform=\"scale(0.015625)\"/>\r\n      </defs>\r\n      <use xlink:href=\"#DejaVuSans-48\"/>\r\n     </g>\r\n    </g>\r\n   </g>\r\n   <g id=\"text_2\">\r\n    <g clip-path=\"url(#pbb02fd302e)\">\r\n     <!-- X -->\r\n     <g transform=\"translate(83.472112 92.598988)scale(0.13 -0.13)\">\r\n      <defs>\r\n       <path d=\"M 403 4666 \r\nL 1081 4666 \r\nL 2241 2931 \r\nL 3406 4666 \r\nL 4084 4666 \r\nL 2584 2425 \r\nL 4184 0 \r\nL 3506 0 \r\nL 2194 1984 \r\nL 872 0 \r\nL 191 0 \r\nL 1856 2491 \r\nL 403 4666 \r\nz\r\n\" id=\"DejaVuSans-58\" transform=\"scale(0.015625)\"/>\r\n      </defs>\r\n      <use xlink:href=\"#DejaVuSans-58\"/>\r\n     </g>\r\n    </g>\r\n   </g>\r\n   <g id=\"text_3\">\r\n    <g clip-path=\"url(#pbb02fd302e)\">\r\n     <!-- ${q}_{0}$ -->\r\n     <g transform=\"translate(36.253372 48.011777)scale(0.1625 -0.1625)\">\r\n      <defs>\r\n       <path d=\"M 2669 525 \r\nQ 2438 222 2123 65 \r\nQ 1809 -91 1428 -91 \r\nQ 897 -91 595 267 \r\nQ 294 625 294 1253 \r\nQ 294 1759 480 2231 \r\nQ 666 2703 1013 3078 \r\nQ 1238 3322 1530 3453 \r\nQ 1822 3584 2144 3584 \r\nQ 2531 3584 2781 3431 \r\nQ 3031 3278 3144 2969 \r\nL 3244 3494 \r\nL 3822 3494 \r\nL 2888 -1319 \r\nL 2309 -1319 \r\nL 2669 525 \r\nz\r\nM 891 1338 \r\nQ 891 875 1084 633 \r\nQ 1278 391 1644 391 \r\nQ 2188 391 2572 911 \r\nQ 2956 1431 2956 2175 \r\nQ 2956 2625 2757 2864 \r\nQ 2559 3103 2188 3103 \r\nQ 1916 3103 1684 2976 \r\nQ 1453 2850 1281 2606 \r\nQ 1100 2350 995 2006 \r\nQ 891 1663 891 1338 \r\nz\r\n\" id=\"DejaVuSans-Oblique-71\" transform=\"scale(0.015625)\"/>\r\n       <path d=\"M 2034 4250 \r\nQ 1547 4250 1301 3770 \r\nQ 1056 3291 1056 2328 \r\nQ 1056 1369 1301 889 \r\nQ 1547 409 2034 409 \r\nQ 2525 409 2770 889 \r\nQ 3016 1369 3016 2328 \r\nQ 3016 3291 2770 3770 \r\nQ 2525 4250 2034 4250 \r\nz\r\nM 2034 4750 \r\nQ 2819 4750 3233 4129 \r\nQ 3647 3509 3647 2328 \r\nQ 3647 1150 3233 529 \r\nQ 2819 -91 2034 -91 \r\nQ 1250 -91 836 529 \r\nQ 422 1150 422 2328 \r\nQ 422 3509 836 4129 \r\nQ 1250 4750 2034 4750 \r\nz\r\n\" id=\"DejaVuSans-30\" transform=\"scale(0.015625)\"/>\r\n      </defs>\r\n      <use xlink:href=\"#DejaVuSans-Oblique-71\"/>\r\n      <use transform=\"translate(63.476562 -16.40625)scale(0.7)\" xlink:href=\"#DejaVuSans-30\"/>\r\n     </g>\r\n    </g>\r\n   </g>\r\n   <g id=\"text_4\">\r\n    <g clip-path=\"url(#pbb02fd302e)\">\r\n     <!-- ${q}_{1}$ -->\r\n     <g transform=\"translate(36.253372 93.462777)scale(0.1625 -0.1625)\">\r\n      <defs>\r\n       <path d=\"M 794 531 \r\nL 1825 531 \r\nL 1825 4091 \r\nL 703 3866 \r\nL 703 4441 \r\nL 1819 4666 \r\nL 2450 4666 \r\nL 2450 531 \r\nL 3481 531 \r\nL 3481 0 \r\nL 794 0 \r\nL 794 531 \r\nz\r\n\" id=\"DejaVuSans-31\" transform=\"scale(0.015625)\"/>\r\n      </defs>\r\n      <use xlink:href=\"#DejaVuSans-Oblique-71\"/>\r\n      <use transform=\"translate(63.476562 -16.40625)scale(0.7)\" xlink:href=\"#DejaVuSans-31\"/>\r\n     </g>\r\n    </g>\r\n   </g>\r\n  </g>\r\n </g>\r\n <defs>\r\n  <clipPath id=\"pbb02fd302e\">\r\n   <rect height=\"109.0824\" width=\"110.722272\" x=\"7.2\" y=\"7.2\"/>\r\n  </clipPath>\r\n </defs>\r\n</svg>\r\n"
     },
     "metadata": {},
     "execution_count": 2
    }
   ],
   "source": [
    "qc = QuantumCircuit(2)\n",
    "qc.h(0)\n",
    "qc.x(1)\n",
    "qc.draw()"
   ]
  },
  {
   "cell_type": "code",
   "execution_count": 3,
   "metadata": {},
   "outputs": [],
   "source": [
    "\"\"\"手で計算する代わりにQiskitのunitary_simulatorを使用すると計算をしてくれます。\n",
    "unitary simulatorは、回路にある全てのゲートを乗算して量子回路全体を表現する一つのユニタリー行列にしてくれます。\n",
    "\"\"\"\n",
    "backend = Aer.get_backend('unitary_simulator')\n",
    "unitary = execute(qc,backend).result().get_unitary()"
   ]
  },
  {
   "cell_type": "code",
   "execution_count": 6,
   "metadata": {},
   "outputs": [
    {
     "output_type": "display_data",
     "data": {
      "text/plain": "<IPython.core.display.Math object>",
      "text/latex": "$\\displaystyle \n\\text{Circuit = }\n\\begin{bmatrix}\n0 & 0 & \\tfrac{1}{\\sqrt{2}} & \\tfrac{1}{\\sqrt{2}}  \\\\\n0 & 0 & \\tfrac{1}{\\sqrt{2}} & -\\tfrac{1}{\\sqrt{2}}  \\\\\n\\tfrac{1}{\\sqrt{2}} & \\tfrac{1}{\\sqrt{2}} & 0 & 0  \\\\\n\\tfrac{1}{\\sqrt{2}} & -\\tfrac{1}{\\sqrt{2}} & 0 & 0  \\\\\n\\end{bmatrix}\n$$\n$"
     },
     "metadata": {}
    }
   ],
   "source": [
    "# In Jupyter Notebooks we can display this nicely using Latex.\n",
    "# If not using Jupyter Notebooks you may need to remove the \n",
    "# array_to_latex function and use print(unitary) instead.\n",
    "array_to_latex(unitary, pretext=\"\\\\text{Circuit = }\\n\")"
   ]
  },
  {
   "cell_type": "code",
   "execution_count": 7,
   "metadata": {},
   "outputs": [
    {
     "output_type": "execute_result",
     "data": {
      "text/plain": [
       "<Figure size 146.652x144.48 with 1 Axes>"
      ],
      "image/svg+xml": "<?xml version=\"1.0\" encoding=\"utf-8\" standalone=\"no\"?>\r\n<!DOCTYPE svg PUBLIC \"-//W3C//DTD SVG 1.1//EN\"\r\n  \"http://www.w3.org/Graphics/SVG/1.1/DTD/svg11.dtd\">\r\n<svg height=\"123.4824pt\" version=\"1.1\" viewBox=\"0 0 125.122272 123.4824\" width=\"125.122272pt\" xmlns=\"http://www.w3.org/2000/svg\" xmlns:xlink=\"http://www.w3.org/1999/xlink\">\r\n <metadata>\r\n  <rdf:RDF xmlns:cc=\"http://creativecommons.org/ns#\" xmlns:dc=\"http://purl.org/dc/elements/1.1/\" xmlns:rdf=\"http://www.w3.org/1999/02/22-rdf-syntax-ns#\">\r\n   <cc:Work>\r\n    <dc:type rdf:resource=\"http://purl.org/dc/dcmitype/StillImage\"/>\r\n    <dc:date>2021-06-06T15:40:18.029680</dc:date>\r\n    <dc:format>image/svg+xml</dc:format>\r\n    <dc:creator>\r\n     <cc:Agent>\r\n      <dc:title>Matplotlib v3.4.2, https://matplotlib.org/</dc:title>\r\n     </cc:Agent>\r\n    </dc:creator>\r\n   </cc:Work>\r\n  </rdf:RDF>\r\n </metadata>\r\n <defs>\r\n  <style type=\"text/css\">*{stroke-linecap:butt;stroke-linejoin:round;}</style>\r\n </defs>\r\n <g id=\"figure_1\">\r\n  <g id=\"patch_1\">\r\n   <path d=\"M 0 123.4824 \r\nL 125.122272 123.4824 \r\nL 125.122272 0 \r\nL 0 0 \r\nz\r\n\" style=\"fill:#ffffff;\"/>\r\n  </g>\r\n  <g id=\"axes_1\">\r\n   <g id=\"line2d_1\">\r\n    <path clip-path=\"url(#p7e2a8e23b1)\" d=\"M 63.381072 43.5608 \r\nL 113.377172 43.5608 \r\n\" style=\"fill:none;stroke:#000000;stroke-linecap:square;stroke-width:2;\"/>\r\n   </g>\r\n   <g id=\"line2d_2\">\r\n    <path clip-path=\"url(#p7e2a8e23b1)\" d=\"M 63.381072 89.0118 \r\nL 113.377172 89.0118 \r\n\" style=\"fill:none;stroke:#000000;stroke-linecap:square;stroke-width:2;\"/>\r\n   </g>\r\n   <g id=\"patch_2\">\r\n    <path clip-path=\"url(#p7e2a8e23b1)\" d=\"M 73.153037 103.783375 \r\nL 102.696187 103.783375 \r\nL 102.696187 74.240225 \r\nL 73.153037 74.240225 \r\nz\r\n\" style=\"fill:#05bab6;stroke:#05bab6;stroke-linejoin:miter;stroke-width:1.5;\"/>\r\n   </g>\r\n   <g id=\"text_1\">\r\n    <g clip-path=\"url(#p7e2a8e23b1)\">\r\n     <!-- X -->\r\n     <g transform=\"translate(83.472112 92.598988)scale(0.13 -0.13)\">\r\n      <defs>\r\n       <path d=\"M 403 4666 \r\nL 1081 4666 \r\nL 2241 2931 \r\nL 3406 4666 \r\nL 4084 4666 \r\nL 2584 2425 \r\nL 4184 0 \r\nL 3506 0 \r\nL 2194 1984 \r\nL 872 0 \r\nL 191 0 \r\nL 1856 2491 \r\nL 403 4666 \r\nz\r\n\" id=\"DejaVuSans-58\" transform=\"scale(0.015625)\"/>\r\n      </defs>\r\n      <use xlink:href=\"#DejaVuSans-58\"/>\r\n     </g>\r\n    </g>\r\n   </g>\r\n   <g id=\"text_2\">\r\n    <g clip-path=\"url(#p7e2a8e23b1)\">\r\n     <!-- ${q}_{0}$ -->\r\n     <g transform=\"translate(36.253372 48.011777)scale(0.1625 -0.1625)\">\r\n      <defs>\r\n       <path d=\"M 2669 525 \r\nQ 2438 222 2123 65 \r\nQ 1809 -91 1428 -91 \r\nQ 897 -91 595 267 \r\nQ 294 625 294 1253 \r\nQ 294 1759 480 2231 \r\nQ 666 2703 1013 3078 \r\nQ 1238 3322 1530 3453 \r\nQ 1822 3584 2144 3584 \r\nQ 2531 3584 2781 3431 \r\nQ 3031 3278 3144 2969 \r\nL 3244 3494 \r\nL 3822 3494 \r\nL 2888 -1319 \r\nL 2309 -1319 \r\nL 2669 525 \r\nz\r\nM 891 1338 \r\nQ 891 875 1084 633 \r\nQ 1278 391 1644 391 \r\nQ 2188 391 2572 911 \r\nQ 2956 1431 2956 2175 \r\nQ 2956 2625 2757 2864 \r\nQ 2559 3103 2188 3103 \r\nQ 1916 3103 1684 2976 \r\nQ 1453 2850 1281 2606 \r\nQ 1100 2350 995 2006 \r\nQ 891 1663 891 1338 \r\nz\r\n\" id=\"DejaVuSans-Oblique-71\" transform=\"scale(0.015625)\"/>\r\n       <path d=\"M 2034 4250 \r\nQ 1547 4250 1301 3770 \r\nQ 1056 3291 1056 2328 \r\nQ 1056 1369 1301 889 \r\nQ 1547 409 2034 409 \r\nQ 2525 409 2770 889 \r\nQ 3016 1369 3016 2328 \r\nQ 3016 3291 2770 3770 \r\nQ 2525 4250 2034 4250 \r\nz\r\nM 2034 4750 \r\nQ 2819 4750 3233 4129 \r\nQ 3647 3509 3647 2328 \r\nQ 3647 1150 3233 529 \r\nQ 2819 -91 2034 -91 \r\nQ 1250 -91 836 529 \r\nQ 422 1150 422 2328 \r\nQ 422 3509 836 4129 \r\nQ 1250 4750 2034 4750 \r\nz\r\n\" id=\"DejaVuSans-30\" transform=\"scale(0.015625)\"/>\r\n      </defs>\r\n      <use xlink:href=\"#DejaVuSans-Oblique-71\"/>\r\n      <use transform=\"translate(63.476562 -16.40625)scale(0.7)\" xlink:href=\"#DejaVuSans-30\"/>\r\n     </g>\r\n    </g>\r\n   </g>\r\n   <g id=\"text_3\">\r\n    <g clip-path=\"url(#p7e2a8e23b1)\">\r\n     <!-- ${q}_{1}$ -->\r\n     <g transform=\"translate(36.253372 93.462777)scale(0.1625 -0.1625)\">\r\n      <defs>\r\n       <path d=\"M 794 531 \r\nL 1825 531 \r\nL 1825 4091 \r\nL 703 3866 \r\nL 703 4441 \r\nL 1819 4666 \r\nL 2450 4666 \r\nL 2450 531 \r\nL 3481 531 \r\nL 3481 0 \r\nL 794 0 \r\nL 794 531 \r\nz\r\n\" id=\"DejaVuSans-31\" transform=\"scale(0.015625)\"/>\r\n      </defs>\r\n      <use xlink:href=\"#DejaVuSans-Oblique-71\"/>\r\n      <use transform=\"translate(63.476562 -16.40625)scale(0.7)\" xlink:href=\"#DejaVuSans-31\"/>\r\n     </g>\r\n    </g>\r\n   </g>\r\n  </g>\r\n </g>\r\n <defs>\r\n  <clipPath id=\"p7e2a8e23b1\">\r\n   <rect height=\"109.0824\" width=\"110.722272\" x=\"7.2\" y=\"7.2\"/>\r\n  </clipPath>\r\n </defs>\r\n</svg>\r\n"
     },
     "metadata": {},
     "execution_count": 7
    }
   ],
   "source": [
    "\"\"\"1量子ビットのみにゲートを適用する場合（以下の回路など）、単位行列を使用してテンソル積を実行します。\n",
    "例：X⊗I\n",
    "\"\"\"\n",
    "qc = QuantumCircuit(2)\n",
    "qc.x(1)\n",
    "qc.draw()"
   ]
  },
  {
   "cell_type": "code",
   "execution_count": 9,
   "metadata": {},
   "outputs": [
    {
     "output_type": "display_data",
     "data": {
      "text/plain": "<IPython.core.display.Math object>",
      "text/latex": "$\\displaystyle \n\\text{Circuit = } \\begin{bmatrix}\n0 & 0 & 1 & 0  \\\\\n0 & 0 & 0 & 1  \\\\\n1 & 0 & 0 & 0  \\\\\n0 & 1 & 0 & 0  \\\\\n\\end{bmatrix}\n$$\n$"
     },
     "metadata": {}
    }
   ],
   "source": [
    "# Simulate the unitary\n",
    "backend = Aer.get_backend('unitary_simulator')\n",
    "unitary = execute(qc,backend).result().get_unitary()\n",
    "# Display the results:\n",
    "array_to_latex(unitary, pretext=\"\\\\text{Circuit = } \")"
   ]
  },
  {
   "source": [
    "# 2.1 練習問題:"
   ],
   "cell_type": "markdown",
   "metadata": {}
  },
  {
   "cell_type": "code",
   "execution_count": 10,
   "metadata": {},
   "outputs": [
    {
     "output_type": "execute_result",
     "data": {
      "text/plain": [
       "<Figure size 146.797x204.68 with 1 Axes>"
      ],
      "image/svg+xml": "<?xml version=\"1.0\" encoding=\"utf-8\" standalone=\"no\"?>\r\n<!DOCTYPE svg PUBLIC \"-//W3C//DTD SVG 1.1//EN\"\r\n  \"http://www.w3.org/Graphics/SVG/1.1/DTD/svg11.dtd\">\r\n<svg height=\"168.9334pt\" version=\"1.1\" viewBox=\"0 0 125.232036 168.9334\" width=\"125.232036pt\" xmlns=\"http://www.w3.org/2000/svg\" xmlns:xlink=\"http://www.w3.org/1999/xlink\">\r\n <metadata>\r\n  <rdf:RDF xmlns:cc=\"http://creativecommons.org/ns#\" xmlns:dc=\"http://purl.org/dc/elements/1.1/\" xmlns:rdf=\"http://www.w3.org/1999/02/22-rdf-syntax-ns#\">\r\n   <cc:Work>\r\n    <dc:type rdf:resource=\"http://purl.org/dc/dcmitype/StillImage\"/>\r\n    <dc:date>2021-06-06T15:42:31.507933</dc:date>\r\n    <dc:format>image/svg+xml</dc:format>\r\n    <dc:creator>\r\n     <cc:Agent>\r\n      <dc:title>Matplotlib v3.4.2, https://matplotlib.org/</dc:title>\r\n     </cc:Agent>\r\n    </dc:creator>\r\n   </cc:Work>\r\n  </rdf:RDF>\r\n </metadata>\r\n <defs>\r\n  <style type=\"text/css\">*{stroke-linecap:butt;stroke-linejoin:round;}</style>\r\n </defs>\r\n <g id=\"figure_1\">\r\n  <g id=\"patch_1\">\r\n   <path d=\"M 0 168.9334 \r\nL 125.232036 168.9334 \r\nL 125.232036 0 \r\nL 0 0 \r\nz\r\n\" style=\"fill:#ffffff;\"/>\r\n  </g>\r\n  <g id=\"axes_1\">\r\n   <g id=\"line2d_1\">\r\n    <path clip-path=\"url(#p8f09cc35c8)\" d=\"M 63.490836 43.5608 \r\nL 113.486936 43.5608 \r\n\" style=\"fill:none;stroke:#000000;stroke-linecap:square;stroke-width:2;\"/>\r\n   </g>\r\n   <g id=\"line2d_2\">\r\n    <path clip-path=\"url(#p8f09cc35c8)\" d=\"M 63.490836 89.0118 \r\nL 113.486936 89.0118 \r\n\" style=\"fill:none;stroke:#000000;stroke-linecap:square;stroke-width:2;\"/>\r\n   </g>\r\n   <g id=\"line2d_3\">\r\n    <path clip-path=\"url(#p8f09cc35c8)\" d=\"M 63.490836 134.4628 \r\nL 113.486936 134.4628 \r\n\" style=\"fill:none;stroke:#000000;stroke-linecap:square;stroke-width:2;\"/>\r\n   </g>\r\n   <g id=\"patch_2\">\r\n    <path clip-path=\"url(#p8f09cc35c8)\" d=\"M 73.262801 58.332375 \r\nL 102.805951 58.332375 \r\nL 102.805951 28.789225 \r\nL 73.262801 28.789225 \r\nz\r\n\" style=\"fill:#6fa4ff;stroke:#6fa4ff;stroke-linejoin:miter;stroke-width:1.5;\"/>\r\n   </g>\r\n   <g id=\"patch_3\">\r\n    <path clip-path=\"url(#p8f09cc35c8)\" d=\"M 73.262801 103.783375 \r\nL 102.805951 103.783375 \r\nL 102.805951 74.240225 \r\nL 73.262801 74.240225 \r\nz\r\n\" style=\"fill:#05bab6;stroke:#05bab6;stroke-linejoin:miter;stroke-width:1.5;\"/>\r\n   </g>\r\n   <g id=\"patch_4\">\r\n    <path clip-path=\"url(#p8f09cc35c8)\" d=\"M 73.262801 149.234375 \r\nL 102.805951 149.234375 \r\nL 102.805951 119.691225 \r\nL 73.262801 119.691225 \r\nz\r\n\" style=\"fill:#05bab6;stroke:#05bab6;stroke-linejoin:miter;stroke-width:1.5;\"/>\r\n   </g>\r\n   <g id=\"text_1\">\r\n    <g clip-path=\"url(#p8f09cc35c8)\">\r\n     <!-- H -->\r\n     <g transform=\"translate(83.146173 47.147987)scale(0.13 -0.13)\">\r\n      <defs>\r\n       <path d=\"M 628 4666 \r\nL 1259 4666 \r\nL 1259 2753 \r\nL 3553 2753 \r\nL 3553 4666 \r\nL 4184 4666 \r\nL 4184 0 \r\nL 3553 0 \r\nL 3553 2222 \r\nL 1259 2222 \r\nL 1259 0 \r\nL 628 0 \r\nL 628 4666 \r\nz\r\n\" id=\"DejaVuSans-48\" transform=\"scale(0.015625)\"/>\r\n      </defs>\r\n      <use xlink:href=\"#DejaVuSans-48\"/>\r\n     </g>\r\n    </g>\r\n   </g>\r\n   <g id=\"text_2\">\r\n    <g clip-path=\"url(#p8f09cc35c8)\">\r\n     <!-- Z -->\r\n     <g transform=\"translate(83.581876 92.598987)scale(0.13 -0.13)\">\r\n      <defs>\r\n       <path d=\"M 359 4666 \r\nL 4025 4666 \r\nL 4025 4184 \r\nL 1075 531 \r\nL 4097 531 \r\nL 4097 0 \r\nL 288 0 \r\nL 288 481 \r\nL 3238 4134 \r\nL 359 4134 \r\nL 359 4666 \r\nz\r\n\" id=\"DejaVuSans-5a\" transform=\"scale(0.015625)\"/>\r\n      </defs>\r\n      <use xlink:href=\"#DejaVuSans-5a\"/>\r\n     </g>\r\n    </g>\r\n   </g>\r\n   <g id=\"text_3\">\r\n    <g clip-path=\"url(#p8f09cc35c8)\">\r\n     <!-- X -->\r\n     <g transform=\"translate(83.581876 138.049987)scale(0.13 -0.13)\">\r\n      <defs>\r\n       <path d=\"M 403 4666 \r\nL 1081 4666 \r\nL 2241 2931 \r\nL 3406 4666 \r\nL 4084 4666 \r\nL 2584 2425 \r\nL 4184 0 \r\nL 3506 0 \r\nL 2194 1984 \r\nL 872 0 \r\nL 191 0 \r\nL 1856 2491 \r\nL 403 4666 \r\nz\r\n\" id=\"DejaVuSans-58\" transform=\"scale(0.015625)\"/>\r\n      </defs>\r\n      <use xlink:href=\"#DejaVuSans-58\"/>\r\n     </g>\r\n    </g>\r\n   </g>\r\n   <g id=\"text_4\">\r\n    <g clip-path=\"url(#p8f09cc35c8)\">\r\n     <!-- ${q}_{0}$ -->\r\n     <g transform=\"translate(36.363136 48.011777)scale(0.1625 -0.1625)\">\r\n      <defs>\r\n       <path d=\"M 2669 525 \r\nQ 2438 222 2123 65 \r\nQ 1809 -91 1428 -91 \r\nQ 897 -91 595 267 \r\nQ 294 625 294 1253 \r\nQ 294 1759 480 2231 \r\nQ 666 2703 1013 3078 \r\nQ 1238 3322 1530 3453 \r\nQ 1822 3584 2144 3584 \r\nQ 2531 3584 2781 3431 \r\nQ 3031 3278 3144 2969 \r\nL 3244 3494 \r\nL 3822 3494 \r\nL 2888 -1319 \r\nL 2309 -1319 \r\nL 2669 525 \r\nz\r\nM 891 1338 \r\nQ 891 875 1084 633 \r\nQ 1278 391 1644 391 \r\nQ 2188 391 2572 911 \r\nQ 2956 1431 2956 2175 \r\nQ 2956 2625 2757 2864 \r\nQ 2559 3103 2188 3103 \r\nQ 1916 3103 1684 2976 \r\nQ 1453 2850 1281 2606 \r\nQ 1100 2350 995 2006 \r\nQ 891 1663 891 1338 \r\nz\r\n\" id=\"DejaVuSans-Oblique-71\" transform=\"scale(0.015625)\"/>\r\n       <path d=\"M 2034 4250 \r\nQ 1547 4250 1301 3770 \r\nQ 1056 3291 1056 2328 \r\nQ 1056 1369 1301 889 \r\nQ 1547 409 2034 409 \r\nQ 2525 409 2770 889 \r\nQ 3016 1369 3016 2328 \r\nQ 3016 3291 2770 3770 \r\nQ 2525 4250 2034 4250 \r\nz\r\nM 2034 4750 \r\nQ 2819 4750 3233 4129 \r\nQ 3647 3509 3647 2328 \r\nQ 3647 1150 3233 529 \r\nQ 2819 -91 2034 -91 \r\nQ 1250 -91 836 529 \r\nQ 422 1150 422 2328 \r\nQ 422 3509 836 4129 \r\nQ 1250 4750 2034 4750 \r\nz\r\n\" id=\"DejaVuSans-30\" transform=\"scale(0.015625)\"/>\r\n      </defs>\r\n      <use xlink:href=\"#DejaVuSans-Oblique-71\"/>\r\n      <use transform=\"translate(63.476562 -16.40625)scale(0.7)\" xlink:href=\"#DejaVuSans-30\"/>\r\n     </g>\r\n    </g>\r\n   </g>\r\n   <g id=\"text_5\">\r\n    <g clip-path=\"url(#p8f09cc35c8)\">\r\n     <!-- ${q}_{1}$ -->\r\n     <g transform=\"translate(36.363136 93.462777)scale(0.1625 -0.1625)\">\r\n      <defs>\r\n       <path d=\"M 794 531 \r\nL 1825 531 \r\nL 1825 4091 \r\nL 703 3866 \r\nL 703 4441 \r\nL 1819 4666 \r\nL 2450 4666 \r\nL 2450 531 \r\nL 3481 531 \r\nL 3481 0 \r\nL 794 0 \r\nL 794 531 \r\nz\r\n\" id=\"DejaVuSans-31\" transform=\"scale(0.015625)\"/>\r\n      </defs>\r\n      <use xlink:href=\"#DejaVuSans-Oblique-71\"/>\r\n      <use transform=\"translate(63.476562 -16.40625)scale(0.7)\" xlink:href=\"#DejaVuSans-31\"/>\r\n     </g>\r\n    </g>\r\n   </g>\r\n   <g id=\"text_6\">\r\n    <g clip-path=\"url(#p8f09cc35c8)\">\r\n     <!-- ${q}_{2}$ -->\r\n     <g transform=\"translate(36.363136 138.913777)scale(0.1625 -0.1625)\">\r\n      <defs>\r\n       <path d=\"M 1228 531 \r\nL 3431 531 \r\nL 3431 0 \r\nL 469 0 \r\nL 469 531 \r\nQ 828 903 1448 1529 \r\nQ 2069 2156 2228 2338 \r\nQ 2531 2678 2651 2914 \r\nQ 2772 3150 2772 3378 \r\nQ 2772 3750 2511 3984 \r\nQ 2250 4219 1831 4219 \r\nQ 1534 4219 1204 4116 \r\nQ 875 4013 500 3803 \r\nL 500 4441 \r\nQ 881 4594 1212 4672 \r\nQ 1544 4750 1819 4750 \r\nQ 2544 4750 2975 4387 \r\nQ 3406 4025 3406 3419 \r\nQ 3406 3131 3298 2873 \r\nQ 3191 2616 2906 2266 \r\nQ 2828 2175 2409 1742 \r\nQ 1991 1309 1228 531 \r\nz\r\n\" id=\"DejaVuSans-32\" transform=\"scale(0.015625)\"/>\r\n      </defs>\r\n      <use xlink:href=\"#DejaVuSans-Oblique-71\"/>\r\n      <use transform=\"translate(63.476562 -16.40625)scale(0.7)\" xlink:href=\"#DejaVuSans-32\"/>\r\n     </g>\r\n    </g>\r\n   </g>\r\n  </g>\r\n </g>\r\n <defs>\r\n  <clipPath id=\"p8f09cc35c8\">\r\n   <rect height=\"154.5334\" width=\"110.832036\" x=\"7.2\" y=\"7.2\"/>\r\n  </clipPath>\r\n </defs>\r\n</svg>\r\n"
     },
     "metadata": {},
     "execution_count": 10
    }
   ],
   "source": [
    "\"\"\"(1)\n",
    "次の一連のゲートにより作成される単一量子ビットユニタリー ( U ) を計算せよ。 \n",
    "U=XZH\n",
    "結果の確認にはQisikitのunitary simulatorを使用すること。\n",
    "\"\"\"\n",
    "qc = QuantumCircuit(3)\n",
    "qc.h(0)\n",
    "qc.z(1)\n",
    "qc.x(2)\n",
    "qc.draw()"
   ]
  },
  {
   "cell_type": "code",
   "execution_count": 12,
   "metadata": {},
   "outputs": [
    {
     "output_type": "display_data",
     "data": {
      "text/plain": "<IPython.core.display.Math object>",
      "text/latex": "$\\displaystyle \n\\text{circuit = }\\begin{bmatrix}\n0 & 0 & 0 & 0 & \\tfrac{1}{\\sqrt{2}} & \\tfrac{1}{\\sqrt{2}} & 0 & 0  \\\\\n0 & 0 & 0 & 0 & \\tfrac{1}{\\sqrt{2}} & -\\tfrac{1}{\\sqrt{2}} & 0 & 0  \\\\\n0 & 0 & 0 & 0 & 0 & 0 & -\\tfrac{1}{\\sqrt{2}} & -\\tfrac{1}{\\sqrt{2}}  \\\\\n0 & 0 & 0 & 0 & 0 & 0 & -\\tfrac{1}{\\sqrt{2}} & \\tfrac{1}{\\sqrt{2}}  \\\\\n\\tfrac{1}{\\sqrt{2}} & \\tfrac{1}{\\sqrt{2}} & 0 & 0 & 0 & 0 & 0 & 0  \\\\\n\\tfrac{1}{\\sqrt{2}} & -\\tfrac{1}{\\sqrt{2}} & 0 & 0 & 0 & 0 & 0 & 0  \\\\\n0 & 0 & -\\tfrac{1}{\\sqrt{2}} & -\\tfrac{1}{\\sqrt{2}} & 0 & 0 & 0 & 0  \\\\\n0 & 0 & -\\tfrac{1}{\\sqrt{2}} & \\tfrac{1}{\\sqrt{2}} & 0 & 0 & 0 & 0  \\\\\n\\end{bmatrix}\n$$\n$"
     },
     "metadata": {}
    }
   ],
   "source": [
    "backend = Aer.get_backend(\"unitary_simulator\")\n",
    "unitary = execute(qc, backend).result().get_unitary()\n",
    "\n",
    "array_to_latex(unitary, pretext=\"\\\\text{circuit = }\")"
   ]
  },
  {
   "source": [
    "# 3. 複数量子ビットゲート"
   ],
   "cell_type": "markdown",
   "metadata": {}
  },
  {
   "source": [
    "# 3.1 CNOTゲート "
   ],
   "cell_type": "markdown",
   "metadata": {}
  },
  {
   "cell_type": "code",
   "execution_count": 13,
   "metadata": {},
   "outputs": [
    {
     "output_type": "execute_result",
     "data": {
      "text/plain": [
       "<Figure size 146.652x144.48 with 1 Axes>"
      ],
      "image/svg+xml": "<?xml version=\"1.0\" encoding=\"utf-8\" standalone=\"no\"?>\r\n<!DOCTYPE svg PUBLIC \"-//W3C//DTD SVG 1.1//EN\"\r\n  \"http://www.w3.org/Graphics/SVG/1.1/DTD/svg11.dtd\">\r\n<svg height=\"123.4824pt\" version=\"1.1\" viewBox=\"0 0 125.122272 123.4824\" width=\"125.122272pt\" xmlns=\"http://www.w3.org/2000/svg\" xmlns:xlink=\"http://www.w3.org/1999/xlink\">\r\n <metadata>\r\n  <rdf:RDF xmlns:cc=\"http://creativecommons.org/ns#\" xmlns:dc=\"http://purl.org/dc/elements/1.1/\" xmlns:rdf=\"http://www.w3.org/1999/02/22-rdf-syntax-ns#\">\r\n   <cc:Work>\r\n    <dc:type rdf:resource=\"http://purl.org/dc/dcmitype/StillImage\"/>\r\n    <dc:date>2021-06-06T15:50:24.973264</dc:date>\r\n    <dc:format>image/svg+xml</dc:format>\r\n    <dc:creator>\r\n     <cc:Agent>\r\n      <dc:title>Matplotlib v3.4.2, https://matplotlib.org/</dc:title>\r\n     </cc:Agent>\r\n    </dc:creator>\r\n   </cc:Work>\r\n  </rdf:RDF>\r\n </metadata>\r\n <defs>\r\n  <style type=\"text/css\">*{stroke-linecap:butt;stroke-linejoin:round;}</style>\r\n </defs>\r\n <g id=\"figure_1\">\r\n  <g id=\"patch_1\">\r\n   <path d=\"M 0 123.4824 \r\nL 125.122272 123.4824 \r\nL 125.122272 0 \r\nL 0 0 \r\nz\r\n\" style=\"fill:#ffffff;\"/>\r\n  </g>\r\n  <g id=\"axes_1\">\r\n   <g id=\"line2d_1\">\r\n    <path clip-path=\"url(#p596594946c)\" d=\"M 63.381072 43.5608 \r\nL 113.377172 43.5608 \r\n\" style=\"fill:none;stroke:#000000;stroke-linecap:square;stroke-width:2;\"/>\r\n   </g>\r\n   <g id=\"line2d_2\">\r\n    <path clip-path=\"url(#p596594946c)\" d=\"M 63.381072 89.0118 \r\nL 113.377172 89.0118 \r\n\" style=\"fill:none;stroke:#000000;stroke-linecap:square;stroke-width:2;\"/>\r\n   </g>\r\n   <g id=\"line2d_3\">\r\n    <path clip-path=\"url(#p596594946c)\" d=\"M 87.924612 89.0118 \r\nL 87.924612 43.5608 \r\n\" style=\"fill:none;stroke:#6fa4ff;stroke-linecap:square;stroke-width:2;\"/>\r\n   </g>\r\n   <g id=\"patch_2\">\r\n    <path clip-path=\"url(#p596594946c)\" d=\"M 87.924612 47.992273 \r\nC 89.099852 47.992273 90.227116 47.525345 91.058136 46.694324 \r\nC 91.889157 45.863304 92.356085 44.73604 92.356085 43.5608 \r\nC 92.356085 42.38556 91.889157 41.258296 91.058136 40.427276 \r\nC 90.227116 39.596255 89.099852 39.129328 87.924612 39.129328 \r\nC 86.749372 39.129328 85.622108 39.596255 84.791088 40.427276 \r\nC 83.960067 41.258296 83.49314 42.38556 83.49314 43.5608 \r\nC 83.49314 44.73604 83.960067 45.863304 84.791088 46.694324 \r\nC 85.622108 47.525345 86.749372 47.992273 87.924612 47.992273 \r\nz\r\n\" style=\"fill:#6fa4ff;stroke:#6fa4ff;stroke-linejoin:miter;stroke-width:1.5;\"/>\r\n   </g>\r\n   <g id=\"patch_3\">\r\n    <path clip-path=\"url(#p596594946c)\" d=\"M 87.924612 99.351903 \r\nC 90.666839 99.351903 93.297121 98.262404 95.236169 96.323357 \r\nC 97.175216 94.384309 98.264715 91.754027 98.264715 89.0118 \r\nC 98.264715 86.269573 97.175216 83.639291 95.236169 81.700243 \r\nC 93.297121 79.761196 90.666839 78.671698 87.924612 78.671698 \r\nC 85.182385 78.671698 82.552103 79.761196 80.613055 81.700243 \r\nC 78.674008 83.639291 77.58451 86.269573 77.58451 89.0118 \r\nC 77.58451 91.754027 78.674008 94.384309 80.613055 96.323357 \r\nC 82.552103 98.262404 85.182385 99.351903 87.924612 99.351903 \r\nz\r\n\" style=\"fill:#6fa4ff;stroke:#6fa4ff;stroke-linejoin:miter;stroke-width:2;\"/>\r\n   </g>\r\n   <g id=\"line2d_4\">\r\n    <path clip-path=\"url(#p596594946c)\" d=\"M 87.924612 94.92043 \r\nL 87.924612 83.10317 \r\n\" style=\"fill:none;stroke:#ffffff;stroke-linecap:square;stroke-width:2;\"/>\r\n   </g>\r\n   <g id=\"line2d_5\">\r\n    <path clip-path=\"url(#p596594946c)\" d=\"M 82.015982 89.0118 \r\nL 93.833242 89.0118 \r\n\" style=\"fill:none;stroke:#ffffff;stroke-linecap:square;stroke-width:2;\"/>\r\n   </g>\r\n   <g id=\"text_1\">\r\n    <g clip-path=\"url(#p596594946c)\">\r\n     <!-- ${q}_{0}$ -->\r\n     <g transform=\"translate(36.253372 48.011777)scale(0.1625 -0.1625)\">\r\n      <defs>\r\n       <path d=\"M 2669 525 \r\nQ 2438 222 2123 65 \r\nQ 1809 -91 1428 -91 \r\nQ 897 -91 595 267 \r\nQ 294 625 294 1253 \r\nQ 294 1759 480 2231 \r\nQ 666 2703 1013 3078 \r\nQ 1238 3322 1530 3453 \r\nQ 1822 3584 2144 3584 \r\nQ 2531 3584 2781 3431 \r\nQ 3031 3278 3144 2969 \r\nL 3244 3494 \r\nL 3822 3494 \r\nL 2888 -1319 \r\nL 2309 -1319 \r\nL 2669 525 \r\nz\r\nM 891 1338 \r\nQ 891 875 1084 633 \r\nQ 1278 391 1644 391 \r\nQ 2188 391 2572 911 \r\nQ 2956 1431 2956 2175 \r\nQ 2956 2625 2757 2864 \r\nQ 2559 3103 2188 3103 \r\nQ 1916 3103 1684 2976 \r\nQ 1453 2850 1281 2606 \r\nQ 1100 2350 995 2006 \r\nQ 891 1663 891 1338 \r\nz\r\n\" id=\"DejaVuSans-Oblique-71\" transform=\"scale(0.015625)\"/>\r\n       <path d=\"M 2034 4250 \r\nQ 1547 4250 1301 3770 \r\nQ 1056 3291 1056 2328 \r\nQ 1056 1369 1301 889 \r\nQ 1547 409 2034 409 \r\nQ 2525 409 2770 889 \r\nQ 3016 1369 3016 2328 \r\nQ 3016 3291 2770 3770 \r\nQ 2525 4250 2034 4250 \r\nz\r\nM 2034 4750 \r\nQ 2819 4750 3233 4129 \r\nQ 3647 3509 3647 2328 \r\nQ 3647 1150 3233 529 \r\nQ 2819 -91 2034 -91 \r\nQ 1250 -91 836 529 \r\nQ 422 1150 422 2328 \r\nQ 422 3509 836 4129 \r\nQ 1250 4750 2034 4750 \r\nz\r\n\" id=\"DejaVuSans-30\" transform=\"scale(0.015625)\"/>\r\n      </defs>\r\n      <use xlink:href=\"#DejaVuSans-Oblique-71\"/>\r\n      <use transform=\"translate(63.476562 -16.40625)scale(0.7)\" xlink:href=\"#DejaVuSans-30\"/>\r\n     </g>\r\n    </g>\r\n   </g>\r\n   <g id=\"text_2\">\r\n    <g clip-path=\"url(#p596594946c)\">\r\n     <!-- ${q}_{1}$ -->\r\n     <g transform=\"translate(36.253372 93.462777)scale(0.1625 -0.1625)\">\r\n      <defs>\r\n       <path d=\"M 794 531 \r\nL 1825 531 \r\nL 1825 4091 \r\nL 703 3866 \r\nL 703 4441 \r\nL 1819 4666 \r\nL 2450 4666 \r\nL 2450 531 \r\nL 3481 531 \r\nL 3481 0 \r\nL 794 0 \r\nL 794 531 \r\nz\r\n\" id=\"DejaVuSans-31\" transform=\"scale(0.015625)\"/>\r\n      </defs>\r\n      <use xlink:href=\"#DejaVuSans-Oblique-71\"/>\r\n      <use transform=\"translate(63.476562 -16.40625)scale(0.7)\" xlink:href=\"#DejaVuSans-31\"/>\r\n     </g>\r\n    </g>\r\n   </g>\r\n  </g>\r\n </g>\r\n <defs>\r\n  <clipPath id=\"p596594946c\">\r\n   <rect height=\"109.0824\" width=\"110.722272\" x=\"7.2\" y=\"7.2\"/>\r\n  </clipPath>\r\n </defs>\r\n</svg>\r\n"
     },
     "metadata": {},
     "execution_count": 13
    }
   ],
   "source": [
    "qc = QuantumCircuit(2)\n",
    "# Apply CNOT\n",
    "qc.cx(0,1)\n",
    "# See the circuit:\n",
    "qc.draw()"
   ]
  },
  {
   "cell_type": "code",
   "execution_count": 14,
   "metadata": {},
   "outputs": [
    {
     "output_type": "execute_result",
     "data": {
      "text/plain": [
       "<Figure size 146.652x144.48 with 1 Axes>"
      ],
      "image/svg+xml": "<?xml version=\"1.0\" encoding=\"utf-8\" standalone=\"no\"?>\r\n<!DOCTYPE svg PUBLIC \"-//W3C//DTD SVG 1.1//EN\"\r\n  \"http://www.w3.org/Graphics/SVG/1.1/DTD/svg11.dtd\">\r\n<svg height=\"123.4824pt\" version=\"1.1\" viewBox=\"0 0 125.122272 123.4824\" width=\"125.122272pt\" xmlns=\"http://www.w3.org/2000/svg\" xmlns:xlink=\"http://www.w3.org/1999/xlink\">\r\n <metadata>\r\n  <rdf:RDF xmlns:cc=\"http://creativecommons.org/ns#\" xmlns:dc=\"http://purl.org/dc/elements/1.1/\" xmlns:rdf=\"http://www.w3.org/1999/02/22-rdf-syntax-ns#\">\r\n   <cc:Work>\r\n    <dc:type rdf:resource=\"http://purl.org/dc/dcmitype/StillImage\"/>\r\n    <dc:date>2021-06-06T15:55:43.894200</dc:date>\r\n    <dc:format>image/svg+xml</dc:format>\r\n    <dc:creator>\r\n     <cc:Agent>\r\n      <dc:title>Matplotlib v3.4.2, https://matplotlib.org/</dc:title>\r\n     </cc:Agent>\r\n    </dc:creator>\r\n   </cc:Work>\r\n  </rdf:RDF>\r\n </metadata>\r\n <defs>\r\n  <style type=\"text/css\">*{stroke-linecap:butt;stroke-linejoin:round;}</style>\r\n </defs>\r\n <g id=\"figure_1\">\r\n  <g id=\"patch_1\">\r\n   <path d=\"M 0 123.4824 \r\nL 125.122272 123.4824 \r\nL 125.122272 0 \r\nL 0 0 \r\nz\r\n\" style=\"fill:#ffffff;\"/>\r\n  </g>\r\n  <g id=\"axes_1\">\r\n   <g id=\"line2d_1\">\r\n    <path clip-path=\"url(#p3c1487e4f3)\" d=\"M 63.381072 43.5608 \r\nL 113.377172 43.5608 \r\n\" style=\"fill:none;stroke:#000000;stroke-linecap:square;stroke-width:2;\"/>\r\n   </g>\r\n   <g id=\"line2d_2\">\r\n    <path clip-path=\"url(#p3c1487e4f3)\" d=\"M 63.381072 89.0118 \r\nL 113.377172 89.0118 \r\n\" style=\"fill:none;stroke:#000000;stroke-linecap:square;stroke-width:2;\"/>\r\n   </g>\r\n   <g id=\"patch_2\">\r\n    <path clip-path=\"url(#p3c1487e4f3)\" d=\"M 73.153037 58.332375 \r\nL 102.696187 58.332375 \r\nL 102.696187 28.789225 \r\nL 73.153037 28.789225 \r\nz\r\n\" style=\"fill:#6fa4ff;stroke:#6fa4ff;stroke-linejoin:miter;stroke-width:1.5;\"/>\r\n   </g>\r\n   <g id=\"text_1\">\r\n    <g clip-path=\"url(#p3c1487e4f3)\">\r\n     <!-- H -->\r\n     <g transform=\"translate(83.036409 47.147988)scale(0.13 -0.13)\">\r\n      <defs>\r\n       <path d=\"M 628 4666 \r\nL 1259 4666 \r\nL 1259 2753 \r\nL 3553 2753 \r\nL 3553 4666 \r\nL 4184 4666 \r\nL 4184 0 \r\nL 3553 0 \r\nL 3553 2222 \r\nL 1259 2222 \r\nL 1259 0 \r\nL 628 0 \r\nL 628 4666 \r\nz\r\n\" id=\"DejaVuSans-48\" transform=\"scale(0.015625)\"/>\r\n      </defs>\r\n      <use xlink:href=\"#DejaVuSans-48\"/>\r\n     </g>\r\n    </g>\r\n   </g>\r\n   <g id=\"text_2\">\r\n    <g clip-path=\"url(#p3c1487e4f3)\">\r\n     <!-- ${q}_{0}$ -->\r\n     <g transform=\"translate(36.253372 48.011777)scale(0.1625 -0.1625)\">\r\n      <defs>\r\n       <path d=\"M 2669 525 \r\nQ 2438 222 2123 65 \r\nQ 1809 -91 1428 -91 \r\nQ 897 -91 595 267 \r\nQ 294 625 294 1253 \r\nQ 294 1759 480 2231 \r\nQ 666 2703 1013 3078 \r\nQ 1238 3322 1530 3453 \r\nQ 1822 3584 2144 3584 \r\nQ 2531 3584 2781 3431 \r\nQ 3031 3278 3144 2969 \r\nL 3244 3494 \r\nL 3822 3494 \r\nL 2888 -1319 \r\nL 2309 -1319 \r\nL 2669 525 \r\nz\r\nM 891 1338 \r\nQ 891 875 1084 633 \r\nQ 1278 391 1644 391 \r\nQ 2188 391 2572 911 \r\nQ 2956 1431 2956 2175 \r\nQ 2956 2625 2757 2864 \r\nQ 2559 3103 2188 3103 \r\nQ 1916 3103 1684 2976 \r\nQ 1453 2850 1281 2606 \r\nQ 1100 2350 995 2006 \r\nQ 891 1663 891 1338 \r\nz\r\n\" id=\"DejaVuSans-Oblique-71\" transform=\"scale(0.015625)\"/>\r\n       <path d=\"M 2034 4250 \r\nQ 1547 4250 1301 3770 \r\nQ 1056 3291 1056 2328 \r\nQ 1056 1369 1301 889 \r\nQ 1547 409 2034 409 \r\nQ 2525 409 2770 889 \r\nQ 3016 1369 3016 2328 \r\nQ 3016 3291 2770 3770 \r\nQ 2525 4250 2034 4250 \r\nz\r\nM 2034 4750 \r\nQ 2819 4750 3233 4129 \r\nQ 3647 3509 3647 2328 \r\nQ 3647 1150 3233 529 \r\nQ 2819 -91 2034 -91 \r\nQ 1250 -91 836 529 \r\nQ 422 1150 422 2328 \r\nQ 422 3509 836 4129 \r\nQ 1250 4750 2034 4750 \r\nz\r\n\" id=\"DejaVuSans-30\" transform=\"scale(0.015625)\"/>\r\n      </defs>\r\n      <use xlink:href=\"#DejaVuSans-Oblique-71\"/>\r\n      <use transform=\"translate(63.476562 -16.40625)scale(0.7)\" xlink:href=\"#DejaVuSans-30\"/>\r\n     </g>\r\n    </g>\r\n   </g>\r\n   <g id=\"text_3\">\r\n    <g clip-path=\"url(#p3c1487e4f3)\">\r\n     <!-- ${q}_{1}$ -->\r\n     <g transform=\"translate(36.253372 93.462777)scale(0.1625 -0.1625)\">\r\n      <defs>\r\n       <path d=\"M 794 531 \r\nL 1825 531 \r\nL 1825 4091 \r\nL 703 3866 \r\nL 703 4441 \r\nL 1819 4666 \r\nL 2450 4666 \r\nL 2450 531 \r\nL 3481 531 \r\nL 3481 0 \r\nL 794 0 \r\nL 794 531 \r\nz\r\n\" id=\"DejaVuSans-31\" transform=\"scale(0.015625)\"/>\r\n      </defs>\r\n      <use xlink:href=\"#DejaVuSans-Oblique-71\"/>\r\n      <use transform=\"translate(63.476562 -16.40625)scale(0.7)\" xlink:href=\"#DejaVuSans-31\"/>\r\n     </g>\r\n    </g>\r\n   </g>\r\n  </g>\r\n </g>\r\n <defs>\r\n  <clipPath id=\"p3c1487e4f3\">\r\n   <rect height=\"109.0824\" width=\"110.722272\" x=\"7.2\" y=\"7.2\"/>\r\n  </clipPath>\r\n </defs>\r\n</svg>\r\n"
     },
     "metadata": {},
     "execution_count": 14
    }
   ],
   "source": [
    "\"\"\" 量子ビットのCNOTゲート\n",
    "今度は重ね合わせ状態の量子ビットに対しての作用を見ていきましょう。1量子ビットを |+⟩ の状態にします。\n",
    "\"\"\"\n",
    "qc = QuantumCircuit(2)\n",
    "# Apply H-gate to the first:\n",
    "qc.h(0)\n",
    "qc.draw()"
   ]
  },
  {
   "cell_type": "code",
   "execution_count": 15,
   "metadata": {},
   "outputs": [
    {
     "output_type": "display_data",
     "data": {
      "text/plain": "<IPython.core.display.Math object>",
      "text/latex": "$\\displaystyle \n\\text{Statevector = }\\begin{bmatrix}\n\\tfrac{1}{\\sqrt{2}} \\\\\n\\tfrac{1}{\\sqrt{2}} \\\\\n0 \\\\\n0\n\\end{bmatrix}\n$"
     },
     "metadata": {}
    }
   ],
   "source": [
    "\"\"\"\n",
    "これは期待通りに \n",
    "|0⟩⊗|+⟩ = |0+⟩\n",
    "の状態を作ります。\n",
    "\"\"\"\n",
    "# Let's see the result:\n",
    "backend = Aer.get_backend('statevector_simulator')\n",
    "final_state = execute(qc,backend).result().get_statevector()\n",
    "# Print the statevector neatly:\n",
    "array_to_latex(final_state, pretext=\"\\\\text{Statevector = }\")"
   ]
  },
  {
   "cell_type": "code",
   "execution_count": 16,
   "metadata": {},
   "outputs": [
    {
     "output_type": "execute_result",
     "data": {
      "text/plain": [
       "<Figure size 206.852x144.48 with 1 Axes>"
      ],
      "image/svg+xml": "<?xml version=\"1.0\" encoding=\"utf-8\" standalone=\"no\"?>\r\n<!DOCTYPE svg PUBLIC \"-//W3C//DTD SVG 1.1//EN\"\r\n  \"http://www.w3.org/Graphics/SVG/1.1/DTD/svg11.dtd\">\r\n<svg height=\"123.4824pt\" version=\"1.1\" viewBox=\"0 0 170.573272 123.4824\" width=\"170.573272pt\" xmlns=\"http://www.w3.org/2000/svg\" xmlns:xlink=\"http://www.w3.org/1999/xlink\">\r\n <metadata>\r\n  <rdf:RDF xmlns:cc=\"http://creativecommons.org/ns#\" xmlns:dc=\"http://purl.org/dc/elements/1.1/\" xmlns:rdf=\"http://www.w3.org/1999/02/22-rdf-syntax-ns#\">\r\n   <cc:Work>\r\n    <dc:type rdf:resource=\"http://purl.org/dc/dcmitype/StillImage\"/>\r\n    <dc:date>2021-06-06T16:33:30.443112</dc:date>\r\n    <dc:format>image/svg+xml</dc:format>\r\n    <dc:creator>\r\n     <cc:Agent>\r\n      <dc:title>Matplotlib v3.4.2, https://matplotlib.org/</dc:title>\r\n     </cc:Agent>\r\n    </dc:creator>\r\n   </cc:Work>\r\n  </rdf:RDF>\r\n </metadata>\r\n <defs>\r\n  <style type=\"text/css\">*{stroke-linecap:butt;stroke-linejoin:round;}</style>\r\n </defs>\r\n <g id=\"figure_1\">\r\n  <g id=\"patch_1\">\r\n   <path d=\"M 0 123.4824 \r\nL 170.573272 123.4824 \r\nL 170.573272 0 \r\nL 0 0 \r\nz\r\n\" style=\"fill:#ffffff;\"/>\r\n  </g>\r\n  <g id=\"axes_1\">\r\n   <g id=\"line2d_1\">\r\n    <path clip-path=\"url(#pa1293979d9)\" d=\"M 63.381072 43.5608 \r\nL 158.828172 43.5608 \r\n\" style=\"fill:none;stroke:#000000;stroke-linecap:square;stroke-width:2;\"/>\r\n   </g>\r\n   <g id=\"line2d_2\">\r\n    <path clip-path=\"url(#pa1293979d9)\" d=\"M 63.381072 89.0118 \r\nL 158.828172 89.0118 \r\n\" style=\"fill:none;stroke:#000000;stroke-linecap:square;stroke-width:2;\"/>\r\n   </g>\r\n   <g id=\"line2d_3\">\r\n    <path clip-path=\"url(#pa1293979d9)\" d=\"M 133.375612 89.0118 \r\nL 133.375612 43.5608 \r\n\" style=\"fill:none;stroke:#6fa4ff;stroke-linecap:square;stroke-width:2;\"/>\r\n   </g>\r\n   <g id=\"patch_2\">\r\n    <path clip-path=\"url(#pa1293979d9)\" d=\"M 73.153037 58.332375 \r\nL 102.696187 58.332375 \r\nL 102.696187 28.789225 \r\nL 73.153037 28.789225 \r\nz\r\n\" style=\"fill:#6fa4ff;stroke:#6fa4ff;stroke-linejoin:miter;stroke-width:1.5;\"/>\r\n   </g>\r\n   <g id=\"patch_3\">\r\n    <path clip-path=\"url(#pa1293979d9)\" d=\"M 133.375612 47.992273 \r\nC 134.550852 47.992273 135.678116 47.525345 136.509136 46.694324 \r\nC 137.340157 45.863304 137.807085 44.73604 137.807085 43.5608 \r\nC 137.807085 42.38556 137.340157 41.258296 136.509136 40.427276 \r\nC 135.678116 39.596255 134.550852 39.129328 133.375612 39.129328 \r\nC 132.200372 39.129328 131.073108 39.596255 130.242088 40.427276 \r\nC 129.411067 41.258296 128.94414 42.38556 128.94414 43.5608 \r\nC 128.94414 44.73604 129.411067 45.863304 130.242088 46.694324 \r\nC 131.073108 47.525345 132.200372 47.992273 133.375612 47.992273 \r\nz\r\n\" style=\"fill:#6fa4ff;stroke:#6fa4ff;stroke-linejoin:miter;stroke-width:1.5;\"/>\r\n   </g>\r\n   <g id=\"patch_4\">\r\n    <path clip-path=\"url(#pa1293979d9)\" d=\"M 133.375612 99.351903 \r\nC 136.117839 99.351903 138.748121 98.262404 140.687169 96.323357 \r\nC 142.626216 94.384309 143.715715 91.754027 143.715715 89.0118 \r\nC 143.715715 86.269573 142.626216 83.639291 140.687169 81.700243 \r\nC 138.748121 79.761196 136.117839 78.671698 133.375612 78.671698 \r\nC 130.633385 78.671698 128.003103 79.761196 126.064055 81.700243 \r\nC 124.125008 83.639291 123.03551 86.269573 123.03551 89.0118 \r\nC 123.03551 91.754027 124.125008 94.384309 126.064055 96.323357 \r\nC 128.003103 98.262404 130.633385 99.351903 133.375612 99.351903 \r\nz\r\n\" style=\"fill:#6fa4ff;stroke:#6fa4ff;stroke-linejoin:miter;stroke-width:2;\"/>\r\n   </g>\r\n   <g id=\"line2d_4\">\r\n    <path clip-path=\"url(#pa1293979d9)\" d=\"M 133.375612 94.92043 \r\nL 133.375612 83.10317 \r\n\" style=\"fill:none;stroke:#ffffff;stroke-linecap:square;stroke-width:2;\"/>\r\n   </g>\r\n   <g id=\"line2d_5\">\r\n    <path clip-path=\"url(#pa1293979d9)\" d=\"M 127.466982 89.0118 \r\nL 139.284242 89.0118 \r\n\" style=\"fill:none;stroke:#ffffff;stroke-linecap:square;stroke-width:2;\"/>\r\n   </g>\r\n   <g id=\"text_1\">\r\n    <g clip-path=\"url(#pa1293979d9)\">\r\n     <!-- H -->\r\n     <g transform=\"translate(83.036409 47.147988)scale(0.13 -0.13)\">\r\n      <defs>\r\n       <path d=\"M 628 4666 \r\nL 1259 4666 \r\nL 1259 2753 \r\nL 3553 2753 \r\nL 3553 4666 \r\nL 4184 4666 \r\nL 4184 0 \r\nL 3553 0 \r\nL 3553 2222 \r\nL 1259 2222 \r\nL 1259 0 \r\nL 628 0 \r\nL 628 4666 \r\nz\r\n\" id=\"DejaVuSans-48\" transform=\"scale(0.015625)\"/>\r\n      </defs>\r\n      <use xlink:href=\"#DejaVuSans-48\"/>\r\n     </g>\r\n    </g>\r\n   </g>\r\n   <g id=\"text_2\">\r\n    <g clip-path=\"url(#pa1293979d9)\">\r\n     <!-- ${q}_{0}$ -->\r\n     <g transform=\"translate(36.253372 48.011777)scale(0.1625 -0.1625)\">\r\n      <defs>\r\n       <path d=\"M 2669 525 \r\nQ 2438 222 2123 65 \r\nQ 1809 -91 1428 -91 \r\nQ 897 -91 595 267 \r\nQ 294 625 294 1253 \r\nQ 294 1759 480 2231 \r\nQ 666 2703 1013 3078 \r\nQ 1238 3322 1530 3453 \r\nQ 1822 3584 2144 3584 \r\nQ 2531 3584 2781 3431 \r\nQ 3031 3278 3144 2969 \r\nL 3244 3494 \r\nL 3822 3494 \r\nL 2888 -1319 \r\nL 2309 -1319 \r\nL 2669 525 \r\nz\r\nM 891 1338 \r\nQ 891 875 1084 633 \r\nQ 1278 391 1644 391 \r\nQ 2188 391 2572 911 \r\nQ 2956 1431 2956 2175 \r\nQ 2956 2625 2757 2864 \r\nQ 2559 3103 2188 3103 \r\nQ 1916 3103 1684 2976 \r\nQ 1453 2850 1281 2606 \r\nQ 1100 2350 995 2006 \r\nQ 891 1663 891 1338 \r\nz\r\n\" id=\"DejaVuSans-Oblique-71\" transform=\"scale(0.015625)\"/>\r\n       <path d=\"M 2034 4250 \r\nQ 1547 4250 1301 3770 \r\nQ 1056 3291 1056 2328 \r\nQ 1056 1369 1301 889 \r\nQ 1547 409 2034 409 \r\nQ 2525 409 2770 889 \r\nQ 3016 1369 3016 2328 \r\nQ 3016 3291 2770 3770 \r\nQ 2525 4250 2034 4250 \r\nz\r\nM 2034 4750 \r\nQ 2819 4750 3233 4129 \r\nQ 3647 3509 3647 2328 \r\nQ 3647 1150 3233 529 \r\nQ 2819 -91 2034 -91 \r\nQ 1250 -91 836 529 \r\nQ 422 1150 422 2328 \r\nQ 422 3509 836 4129 \r\nQ 1250 4750 2034 4750 \r\nz\r\n\" id=\"DejaVuSans-30\" transform=\"scale(0.015625)\"/>\r\n      </defs>\r\n      <use xlink:href=\"#DejaVuSans-Oblique-71\"/>\r\n      <use transform=\"translate(63.476562 -16.40625)scale(0.7)\" xlink:href=\"#DejaVuSans-30\"/>\r\n     </g>\r\n    </g>\r\n   </g>\r\n   <g id=\"text_3\">\r\n    <g clip-path=\"url(#pa1293979d9)\">\r\n     <!-- ${q}_{1}$ -->\r\n     <g transform=\"translate(36.253372 93.462777)scale(0.1625 -0.1625)\">\r\n      <defs>\r\n       <path d=\"M 794 531 \r\nL 1825 531 \r\nL 1825 4091 \r\nL 703 3866 \r\nL 703 4441 \r\nL 1819 4666 \r\nL 2450 4666 \r\nL 2450 531 \r\nL 3481 531 \r\nL 3481 0 \r\nL 794 0 \r\nL 794 531 \r\nz\r\n\" id=\"DejaVuSans-31\" transform=\"scale(0.015625)\"/>\r\n      </defs>\r\n      <use xlink:href=\"#DejaVuSans-Oblique-71\"/>\r\n      <use transform=\"translate(63.476562 -16.40625)scale(0.7)\" xlink:href=\"#DejaVuSans-31\"/>\r\n     </g>\r\n    </g>\r\n   </g>\r\n  </g>\r\n </g>\r\n <defs>\r\n  <clipPath id=\"pa1293979d9\">\r\n   <rect height=\"109.0824\" width=\"156.173272\" x=\"7.2\" y=\"7.2\"/>\r\n  </clipPath>\r\n </defs>\r\n</svg>\r\n"
     },
     "metadata": {},
     "execution_count": 16
    }
   ],
   "source": [
    "\"\"\"CNOTゲートを適用するとどうなるか見てみましょう。\"\"\"\n",
    "qc = QuantumCircuit(2)\n",
    "# Apply H-gate to the first:\n",
    "qc.h(0)\n",
    "# Apply a CNOT:\n",
    "qc.cx(0,1)\n",
    "qc.draw()"
   ]
  },
  {
   "cell_type": "code",
   "execution_count": 17,
   "metadata": {},
   "outputs": [
    {
     "output_type": "display_data",
     "data": {
      "text/plain": "<IPython.core.display.Math object>",
      "text/latex": "$\\displaystyle \n\\text{Statevector = }\\begin{bmatrix}\n\\tfrac{1}{\\sqrt{2}} \\\\\n0 \\\\\n0 \\\\\n\\tfrac{1}{\\sqrt{2}}\n\\end{bmatrix}\n$"
     },
     "metadata": {}
    }
   ],
   "source": [
    "\"\"\"\n",
    "CNOT|0+⟩=1/√2(|00⟩+|11⟩)\n",
    "になる。\n",
    "これはもつれ状態になっており、大変興味深いです。もつれ状態については次節に進みましょう。\n",
    "\"\"\"\n",
    "# Let's see the result:\n",
    "backend = Aer.get_backend('statevector_simulator')\n",
    "final_state = execute(qc,backend).result().get_statevector()\n",
    "# Print the statevector neatly:\n",
    "array_to_latex(final_state, pretext=\"\\\\text{Statevector = }\")"
   ]
  },
  {
   "source": [
    "# 3.2 もつれ状態"
   ],
   "cell_type": "markdown",
   "metadata": {}
  },
  {
   "cell_type": "code",
   "execution_count": 18,
   "metadata": {},
   "outputs": [
    {
     "output_type": "execute_result",
     "data": {
      "text/plain": [
       "<Figure size 504x360 with 1 Axes>"
      ],
      "image/svg+xml": "<?xml version=\"1.0\" encoding=\"utf-8\" standalone=\"no\"?>\r\n<!DOCTYPE svg PUBLIC \"-//W3C//DTD SVG 1.1//EN\"\r\n  \"http://www.w3.org/Graphics/SVG/1.1/DTD/svg11.dtd\">\r\n<svg height=\"319.893689pt\" version=\"1.1\" viewBox=\"0 0 460.72125 319.893689\" width=\"460.72125pt\" xmlns=\"http://www.w3.org/2000/svg\" xmlns:xlink=\"http://www.w3.org/1999/xlink\">\r\n <metadata>\r\n  <rdf:RDF xmlns:cc=\"http://creativecommons.org/ns#\" xmlns:dc=\"http://purl.org/dc/elements/1.1/\" xmlns:rdf=\"http://www.w3.org/1999/02/22-rdf-syntax-ns#\">\r\n   <cc:Work>\r\n    <dc:type rdf:resource=\"http://purl.org/dc/dcmitype/StillImage\"/>\r\n    <dc:date>2021-06-06T16:47:49.093450</dc:date>\r\n    <dc:format>image/svg+xml</dc:format>\r\n    <dc:creator>\r\n     <cc:Agent>\r\n      <dc:title>Matplotlib v3.4.2, https://matplotlib.org/</dc:title>\r\n     </cc:Agent>\r\n    </dc:creator>\r\n   </cc:Work>\r\n  </rdf:RDF>\r\n </metadata>\r\n <defs>\r\n  <style type=\"text/css\">*{stroke-linecap:butt;stroke-linejoin:round;}</style>\r\n </defs>\r\n <g id=\"figure_1\">\r\n  <g id=\"patch_1\">\r\n   <path d=\"M 0 319.893689 \r\nL 460.72125 319.893689 \r\nL 460.72125 0 \r\nL 0 0 \r\nz\r\n\" style=\"fill:none;\"/>\r\n  </g>\r\n  <g id=\"axes_1\">\r\n   <g id=\"patch_2\">\r\n    <path d=\"M 62.92125 284.318906 \r\nL 453.52125 284.318906 \r\nL 453.52125 12.518906 \r\nL 62.92125 12.518906 \r\nz\r\n\" style=\"fill:#ffffff;\"/>\r\n   </g>\r\n   <g id=\"matplotlib.axis_1\">\r\n    <g id=\"xtick_1\">\r\n     <g id=\"line2d_1\">\r\n      <defs>\r\n       <path d=\"M 0 0 \r\nL 0 3.5 \r\n\" id=\"mf4e83a31c1\" style=\"stroke:#000000;stroke-width:0.8;\"/>\r\n      </defs>\r\n      <g>\r\n       <use style=\"stroke:#000000;stroke-width:0.8;\" x=\"139.857614\" xlink:href=\"#mf4e83a31c1\" y=\"284.318906\"/>\r\n      </g>\r\n     </g>\r\n     <g id=\"text_1\">\r\n      <!-- 00 -->\r\n      <g transform=\"translate(140.441219 311.697876)rotate(-70)scale(0.14 -0.14)\">\r\n       <defs>\r\n        <path d=\"M 2034 4250 \r\nQ 1547 4250 1301 3770 \r\nQ 1056 3291 1056 2328 \r\nQ 1056 1369 1301 889 \r\nQ 1547 409 2034 409 \r\nQ 2525 409 2770 889 \r\nQ 3016 1369 3016 2328 \r\nQ 3016 3291 2770 3770 \r\nQ 2525 4250 2034 4250 \r\nz\r\nM 2034 4750 \r\nQ 2819 4750 3233 4129 \r\nQ 3647 3509 3647 2328 \r\nQ 3647 1150 3233 529 \r\nQ 2819 -91 2034 -91 \r\nQ 1250 -91 836 529 \r\nQ 422 1150 422 2328 \r\nQ 422 3509 836 4129 \r\nQ 1250 4750 2034 4750 \r\nz\r\n\" id=\"DejaVuSans-30\" transform=\"scale(0.015625)\"/>\r\n       </defs>\r\n       <use xlink:href=\"#DejaVuSans-30\"/>\r\n       <use x=\"63.623047\" xlink:href=\"#DejaVuSans-30\"/>\r\n      </g>\r\n     </g>\r\n    </g>\r\n    <g id=\"xtick_2\">\r\n     <g id=\"line2d_2\">\r\n      <g>\r\n       <use style=\"stroke:#000000;stroke-width:0.8;\" x=\"376.584886\" xlink:href=\"#mf4e83a31c1\" y=\"284.318906\"/>\r\n      </g>\r\n     </g>\r\n     <g id=\"text_2\">\r\n      <!-- 11 -->\r\n      <g transform=\"translate(377.168492 311.697876)rotate(-70)scale(0.14 -0.14)\">\r\n       <defs>\r\n        <path d=\"M 794 531 \r\nL 1825 531 \r\nL 1825 4091 \r\nL 703 3866 \r\nL 703 4441 \r\nL 1819 4666 \r\nL 2450 4666 \r\nL 2450 531 \r\nL 3481 531 \r\nL 3481 0 \r\nL 794 0 \r\nL 794 531 \r\nz\r\n\" id=\"DejaVuSans-31\" transform=\"scale(0.015625)\"/>\r\n       </defs>\r\n       <use xlink:href=\"#DejaVuSans-31\"/>\r\n       <use x=\"63.623047\" xlink:href=\"#DejaVuSans-31\"/>\r\n      </g>\r\n     </g>\r\n    </g>\r\n   </g>\r\n   <g id=\"matplotlib.axis_2\">\r\n    <g id=\"ytick_1\">\r\n     <g id=\"line2d_3\">\r\n      <path clip-path=\"url(#pd7622263f2)\" d=\"M 62.92125 284.318906 \r\nL 453.52125 284.318906 \r\n\" style=\"fill:none;stroke:#b0b0b0;stroke-dasharray:2.96,1.28;stroke-dashoffset:0;stroke-width:0.8;\"/>\r\n     </g>\r\n     <g id=\"line2d_4\">\r\n      <defs>\r\n       <path d=\"M 0 0 \r\nL -3.5 0 \r\n\" id=\"m4b925b06fb\" style=\"stroke:#000000;stroke-width:0.8;\"/>\r\n      </defs>\r\n      <g>\r\n       <use style=\"stroke:#000000;stroke-width:0.8;\" x=\"62.92125\" xlink:href=\"#m4b925b06fb\" y=\"284.318906\"/>\r\n      </g>\r\n     </g>\r\n     <g id=\"text_3\">\r\n      <!-- 0.00 -->\r\n      <g transform=\"translate(24.749375 289.637812)scale(0.14 -0.14)\">\r\n       <defs>\r\n        <path d=\"M 684 794 \r\nL 1344 794 \r\nL 1344 0 \r\nL 684 0 \r\nL 684 794 \r\nz\r\n\" id=\"DejaVuSans-2e\" transform=\"scale(0.015625)\"/>\r\n       </defs>\r\n       <use xlink:href=\"#DejaVuSans-30\"/>\r\n       <use x=\"63.623047\" xlink:href=\"#DejaVuSans-2e\"/>\r\n       <use x=\"95.410156\" xlink:href=\"#DejaVuSans-30\"/>\r\n       <use x=\"159.033203\" xlink:href=\"#DejaVuSans-30\"/>\r\n      </g>\r\n     </g>\r\n    </g>\r\n    <g id=\"ytick_2\">\r\n     <g id=\"line2d_5\">\r\n      <path clip-path=\"url(#pd7622263f2)\" d=\"M 62.92125 216.368906 \r\nL 453.52125 216.368906 \r\n\" style=\"fill:none;stroke:#b0b0b0;stroke-dasharray:2.96,1.28;stroke-dashoffset:0;stroke-width:0.8;\"/>\r\n     </g>\r\n     <g id=\"line2d_6\">\r\n      <g>\r\n       <use style=\"stroke:#000000;stroke-width:0.8;\" x=\"62.92125\" xlink:href=\"#m4b925b06fb\" y=\"216.368906\"/>\r\n      </g>\r\n     </g>\r\n     <g id=\"text_4\">\r\n      <!-- 0.15 -->\r\n      <g transform=\"translate(24.749375 221.687812)scale(0.14 -0.14)\">\r\n       <defs>\r\n        <path d=\"M 691 4666 \r\nL 3169 4666 \r\nL 3169 4134 \r\nL 1269 4134 \r\nL 1269 2991 \r\nQ 1406 3038 1543 3061 \r\nQ 1681 3084 1819 3084 \r\nQ 2600 3084 3056 2656 \r\nQ 3513 2228 3513 1497 \r\nQ 3513 744 3044 326 \r\nQ 2575 -91 1722 -91 \r\nQ 1428 -91 1123 -41 \r\nQ 819 9 494 109 \r\nL 494 744 \r\nQ 775 591 1075 516 \r\nQ 1375 441 1709 441 \r\nQ 2250 441 2565 725 \r\nQ 2881 1009 2881 1497 \r\nQ 2881 1984 2565 2268 \r\nQ 2250 2553 1709 2553 \r\nQ 1456 2553 1204 2497 \r\nQ 953 2441 691 2322 \r\nL 691 4666 \r\nz\r\n\" id=\"DejaVuSans-35\" transform=\"scale(0.015625)\"/>\r\n       </defs>\r\n       <use xlink:href=\"#DejaVuSans-30\"/>\r\n       <use x=\"63.623047\" xlink:href=\"#DejaVuSans-2e\"/>\r\n       <use x=\"95.410156\" xlink:href=\"#DejaVuSans-31\"/>\r\n       <use x=\"159.033203\" xlink:href=\"#DejaVuSans-35\"/>\r\n      </g>\r\n     </g>\r\n    </g>\r\n    <g id=\"ytick_3\">\r\n     <g id=\"line2d_7\">\r\n      <path clip-path=\"url(#pd7622263f2)\" d=\"M 62.92125 148.418906 \r\nL 453.52125 148.418906 \r\n\" style=\"fill:none;stroke:#b0b0b0;stroke-dasharray:2.96,1.28;stroke-dashoffset:0;stroke-width:0.8;\"/>\r\n     </g>\r\n     <g id=\"line2d_8\">\r\n      <g>\r\n       <use style=\"stroke:#000000;stroke-width:0.8;\" x=\"62.92125\" xlink:href=\"#m4b925b06fb\" y=\"148.418906\"/>\r\n      </g>\r\n     </g>\r\n     <g id=\"text_5\">\r\n      <!-- 0.30 -->\r\n      <g transform=\"translate(24.749375 153.737812)scale(0.14 -0.14)\">\r\n       <defs>\r\n        <path d=\"M 2597 2516 \r\nQ 3050 2419 3304 2112 \r\nQ 3559 1806 3559 1356 \r\nQ 3559 666 3084 287 \r\nQ 2609 -91 1734 -91 \r\nQ 1441 -91 1130 -33 \r\nQ 819 25 488 141 \r\nL 488 750 \r\nQ 750 597 1062 519 \r\nQ 1375 441 1716 441 \r\nQ 2309 441 2620 675 \r\nQ 2931 909 2931 1356 \r\nQ 2931 1769 2642 2001 \r\nQ 2353 2234 1838 2234 \r\nL 1294 2234 \r\nL 1294 2753 \r\nL 1863 2753 \r\nQ 2328 2753 2575 2939 \r\nQ 2822 3125 2822 3475 \r\nQ 2822 3834 2567 4026 \r\nQ 2313 4219 1838 4219 \r\nQ 1578 4219 1281 4162 \r\nQ 984 4106 628 3988 \r\nL 628 4550 \r\nQ 988 4650 1302 4700 \r\nQ 1616 4750 1894 4750 \r\nQ 2613 4750 3031 4423 \r\nQ 3450 4097 3450 3541 \r\nQ 3450 3153 3228 2886 \r\nQ 3006 2619 2597 2516 \r\nz\r\n\" id=\"DejaVuSans-33\" transform=\"scale(0.015625)\"/>\r\n       </defs>\r\n       <use xlink:href=\"#DejaVuSans-30\"/>\r\n       <use x=\"63.623047\" xlink:href=\"#DejaVuSans-2e\"/>\r\n       <use x=\"95.410156\" xlink:href=\"#DejaVuSans-33\"/>\r\n       <use x=\"159.033203\" xlink:href=\"#DejaVuSans-30\"/>\r\n      </g>\r\n     </g>\r\n    </g>\r\n    <g id=\"ytick_4\">\r\n     <g id=\"line2d_9\">\r\n      <path clip-path=\"url(#pd7622263f2)\" d=\"M 62.92125 80.468906 \r\nL 453.52125 80.468906 \r\n\" style=\"fill:none;stroke:#b0b0b0;stroke-dasharray:2.96,1.28;stroke-dashoffset:0;stroke-width:0.8;\"/>\r\n     </g>\r\n     <g id=\"line2d_10\">\r\n      <g>\r\n       <use style=\"stroke:#000000;stroke-width:0.8;\" x=\"62.92125\" xlink:href=\"#m4b925b06fb\" y=\"80.468906\"/>\r\n      </g>\r\n     </g>\r\n     <g id=\"text_6\">\r\n      <!-- 0.45 -->\r\n      <g transform=\"translate(24.749375 85.787812)scale(0.14 -0.14)\">\r\n       <defs>\r\n        <path d=\"M 2419 4116 \r\nL 825 1625 \r\nL 2419 1625 \r\nL 2419 4116 \r\nz\r\nM 2253 4666 \r\nL 3047 4666 \r\nL 3047 1625 \r\nL 3713 1625 \r\nL 3713 1100 \r\nL 3047 1100 \r\nL 3047 0 \r\nL 2419 0 \r\nL 2419 1100 \r\nL 313 1100 \r\nL 313 1709 \r\nL 2253 4666 \r\nz\r\n\" id=\"DejaVuSans-34\" transform=\"scale(0.015625)\"/>\r\n       </defs>\r\n       <use xlink:href=\"#DejaVuSans-30\"/>\r\n       <use x=\"63.623047\" xlink:href=\"#DejaVuSans-2e\"/>\r\n       <use x=\"95.410156\" xlink:href=\"#DejaVuSans-34\"/>\r\n       <use x=\"159.033203\" xlink:href=\"#DejaVuSans-35\"/>\r\n      </g>\r\n     </g>\r\n    </g>\r\n    <g id=\"ytick_5\">\r\n     <g id=\"line2d_11\">\r\n      <path clip-path=\"url(#pd7622263f2)\" d=\"M 62.92125 12.518906 \r\nL 453.52125 12.518906 \r\n\" style=\"fill:none;stroke:#b0b0b0;stroke-dasharray:2.96,1.28;stroke-dashoffset:0;stroke-width:0.8;\"/>\r\n     </g>\r\n     <g id=\"line2d_12\">\r\n      <g>\r\n       <use style=\"stroke:#000000;stroke-width:0.8;\" x=\"62.92125\" xlink:href=\"#m4b925b06fb\" y=\"12.518906\"/>\r\n      </g>\r\n     </g>\r\n     <g id=\"text_7\">\r\n      <!-- 0.60 -->\r\n      <g transform=\"translate(24.749375 17.837812)scale(0.14 -0.14)\">\r\n       <defs>\r\n        <path d=\"M 2113 2584 \r\nQ 1688 2584 1439 2293 \r\nQ 1191 2003 1191 1497 \r\nQ 1191 994 1439 701 \r\nQ 1688 409 2113 409 \r\nQ 2538 409 2786 701 \r\nQ 3034 994 3034 1497 \r\nQ 3034 2003 2786 2293 \r\nQ 2538 2584 2113 2584 \r\nz\r\nM 3366 4563 \r\nL 3366 3988 \r\nQ 3128 4100 2886 4159 \r\nQ 2644 4219 2406 4219 \r\nQ 1781 4219 1451 3797 \r\nQ 1122 3375 1075 2522 \r\nQ 1259 2794 1537 2939 \r\nQ 1816 3084 2150 3084 \r\nQ 2853 3084 3261 2657 \r\nQ 3669 2231 3669 1497 \r\nQ 3669 778 3244 343 \r\nQ 2819 -91 2113 -91 \r\nQ 1303 -91 875 529 \r\nQ 447 1150 447 2328 \r\nQ 447 3434 972 4092 \r\nQ 1497 4750 2381 4750 \r\nQ 2619 4750 2861 4703 \r\nQ 3103 4656 3366 4563 \r\nz\r\n\" id=\"DejaVuSans-36\" transform=\"scale(0.015625)\"/>\r\n       </defs>\r\n       <use xlink:href=\"#DejaVuSans-30\"/>\r\n       <use x=\"63.623047\" xlink:href=\"#DejaVuSans-2e\"/>\r\n       <use x=\"95.410156\" xlink:href=\"#DejaVuSans-36\"/>\r\n       <use x=\"159.033203\" xlink:href=\"#DejaVuSans-30\"/>\r\n      </g>\r\n     </g>\r\n    </g>\r\n    <g id=\"text_8\">\r\n     <!-- Probabilities -->\r\n     <g transform=\"translate(17.837813 191.174687)rotate(-90)scale(0.14 -0.14)\">\r\n      <defs>\r\n       <path d=\"M 1259 4147 \r\nL 1259 2394 \r\nL 2053 2394 \r\nQ 2494 2394 2734 2622 \r\nQ 2975 2850 2975 3272 \r\nQ 2975 3691 2734 3919 \r\nQ 2494 4147 2053 4147 \r\nL 1259 4147 \r\nz\r\nM 628 4666 \r\nL 2053 4666 \r\nQ 2838 4666 3239 4311 \r\nQ 3641 3956 3641 3272 \r\nQ 3641 2581 3239 2228 \r\nQ 2838 1875 2053 1875 \r\nL 1259 1875 \r\nL 1259 0 \r\nL 628 0 \r\nL 628 4666 \r\nz\r\n\" id=\"DejaVuSans-50\" transform=\"scale(0.015625)\"/>\r\n       <path d=\"M 2631 2963 \r\nQ 2534 3019 2420 3045 \r\nQ 2306 3072 2169 3072 \r\nQ 1681 3072 1420 2755 \r\nQ 1159 2438 1159 1844 \r\nL 1159 0 \r\nL 581 0 \r\nL 581 3500 \r\nL 1159 3500 \r\nL 1159 2956 \r\nQ 1341 3275 1631 3429 \r\nQ 1922 3584 2338 3584 \r\nQ 2397 3584 2469 3576 \r\nQ 2541 3569 2628 3553 \r\nL 2631 2963 \r\nz\r\n\" id=\"DejaVuSans-72\" transform=\"scale(0.015625)\"/>\r\n       <path d=\"M 1959 3097 \r\nQ 1497 3097 1228 2736 \r\nQ 959 2375 959 1747 \r\nQ 959 1119 1226 758 \r\nQ 1494 397 1959 397 \r\nQ 2419 397 2687 759 \r\nQ 2956 1122 2956 1747 \r\nQ 2956 2369 2687 2733 \r\nQ 2419 3097 1959 3097 \r\nz\r\nM 1959 3584 \r\nQ 2709 3584 3137 3096 \r\nQ 3566 2609 3566 1747 \r\nQ 3566 888 3137 398 \r\nQ 2709 -91 1959 -91 \r\nQ 1206 -91 779 398 \r\nQ 353 888 353 1747 \r\nQ 353 2609 779 3096 \r\nQ 1206 3584 1959 3584 \r\nz\r\n\" id=\"DejaVuSans-6f\" transform=\"scale(0.015625)\"/>\r\n       <path d=\"M 3116 1747 \r\nQ 3116 2381 2855 2742 \r\nQ 2594 3103 2138 3103 \r\nQ 1681 3103 1420 2742 \r\nQ 1159 2381 1159 1747 \r\nQ 1159 1113 1420 752 \r\nQ 1681 391 2138 391 \r\nQ 2594 391 2855 752 \r\nQ 3116 1113 3116 1747 \r\nz\r\nM 1159 2969 \r\nQ 1341 3281 1617 3432 \r\nQ 1894 3584 2278 3584 \r\nQ 2916 3584 3314 3078 \r\nQ 3713 2572 3713 1747 \r\nQ 3713 922 3314 415 \r\nQ 2916 -91 2278 -91 \r\nQ 1894 -91 1617 61 \r\nQ 1341 213 1159 525 \r\nL 1159 0 \r\nL 581 0 \r\nL 581 4863 \r\nL 1159 4863 \r\nL 1159 2969 \r\nz\r\n\" id=\"DejaVuSans-62\" transform=\"scale(0.015625)\"/>\r\n       <path d=\"M 2194 1759 \r\nQ 1497 1759 1228 1600 \r\nQ 959 1441 959 1056 \r\nQ 959 750 1161 570 \r\nQ 1363 391 1709 391 \r\nQ 2188 391 2477 730 \r\nQ 2766 1069 2766 1631 \r\nL 2766 1759 \r\nL 2194 1759 \r\nz\r\nM 3341 1997 \r\nL 3341 0 \r\nL 2766 0 \r\nL 2766 531 \r\nQ 2569 213 2275 61 \r\nQ 1981 -91 1556 -91 \r\nQ 1019 -91 701 211 \r\nQ 384 513 384 1019 \r\nQ 384 1609 779 1909 \r\nQ 1175 2209 1959 2209 \r\nL 2766 2209 \r\nL 2766 2266 \r\nQ 2766 2663 2505 2880 \r\nQ 2244 3097 1772 3097 \r\nQ 1472 3097 1187 3025 \r\nQ 903 2953 641 2809 \r\nL 641 3341 \r\nQ 956 3463 1253 3523 \r\nQ 1550 3584 1831 3584 \r\nQ 2591 3584 2966 3190 \r\nQ 3341 2797 3341 1997 \r\nz\r\n\" id=\"DejaVuSans-61\" transform=\"scale(0.015625)\"/>\r\n       <path d=\"M 603 3500 \r\nL 1178 3500 \r\nL 1178 0 \r\nL 603 0 \r\nL 603 3500 \r\nz\r\nM 603 4863 \r\nL 1178 4863 \r\nL 1178 4134 \r\nL 603 4134 \r\nL 603 4863 \r\nz\r\n\" id=\"DejaVuSans-69\" transform=\"scale(0.015625)\"/>\r\n       <path d=\"M 603 4863 \r\nL 1178 4863 \r\nL 1178 0 \r\nL 603 0 \r\nL 603 4863 \r\nz\r\n\" id=\"DejaVuSans-6c\" transform=\"scale(0.015625)\"/>\r\n       <path d=\"M 1172 4494 \r\nL 1172 3500 \r\nL 2356 3500 \r\nL 2356 3053 \r\nL 1172 3053 \r\nL 1172 1153 \r\nQ 1172 725 1289 603 \r\nQ 1406 481 1766 481 \r\nL 2356 481 \r\nL 2356 0 \r\nL 1766 0 \r\nQ 1100 0 847 248 \r\nQ 594 497 594 1153 \r\nL 594 3053 \r\nL 172 3053 \r\nL 172 3500 \r\nL 594 3500 \r\nL 594 4494 \r\nL 1172 4494 \r\nz\r\n\" id=\"DejaVuSans-74\" transform=\"scale(0.015625)\"/>\r\n       <path d=\"M 3597 1894 \r\nL 3597 1613 \r\nL 953 1613 \r\nQ 991 1019 1311 708 \r\nQ 1631 397 2203 397 \r\nQ 2534 397 2845 478 \r\nQ 3156 559 3463 722 \r\nL 3463 178 \r\nQ 3153 47 2828 -22 \r\nQ 2503 -91 2169 -91 \r\nQ 1331 -91 842 396 \r\nQ 353 884 353 1716 \r\nQ 353 2575 817 3079 \r\nQ 1281 3584 2069 3584 \r\nQ 2775 3584 3186 3129 \r\nQ 3597 2675 3597 1894 \r\nz\r\nM 3022 2063 \r\nQ 3016 2534 2758 2815 \r\nQ 2500 3097 2075 3097 \r\nQ 1594 3097 1305 2825 \r\nQ 1016 2553 972 2059 \r\nL 3022 2063 \r\nz\r\n\" id=\"DejaVuSans-65\" transform=\"scale(0.015625)\"/>\r\n       <path d=\"M 2834 3397 \r\nL 2834 2853 \r\nQ 2591 2978 2328 3040 \r\nQ 2066 3103 1784 3103 \r\nQ 1356 3103 1142 2972 \r\nQ 928 2841 928 2578 \r\nQ 928 2378 1081 2264 \r\nQ 1234 2150 1697 2047 \r\nL 1894 2003 \r\nQ 2506 1872 2764 1633 \r\nQ 3022 1394 3022 966 \r\nQ 3022 478 2636 193 \r\nQ 2250 -91 1575 -91 \r\nQ 1294 -91 989 -36 \r\nQ 684 19 347 128 \r\nL 347 722 \r\nQ 666 556 975 473 \r\nQ 1284 391 1588 391 \r\nQ 1994 391 2212 530 \r\nQ 2431 669 2431 922 \r\nQ 2431 1156 2273 1281 \r\nQ 2116 1406 1581 1522 \r\nL 1381 1569 \r\nQ 847 1681 609 1914 \r\nQ 372 2147 372 2553 \r\nQ 372 3047 722 3315 \r\nQ 1072 3584 1716 3584 \r\nQ 2034 3584 2315 3537 \r\nQ 2597 3491 2834 3397 \r\nz\r\n\" id=\"DejaVuSans-73\" transform=\"scale(0.015625)\"/>\r\n      </defs>\r\n      <use xlink:href=\"#DejaVuSans-50\"/>\r\n      <use x=\"58.552734\" xlink:href=\"#DejaVuSans-72\"/>\r\n      <use x=\"97.416016\" xlink:href=\"#DejaVuSans-6f\"/>\r\n      <use x=\"158.597656\" xlink:href=\"#DejaVuSans-62\"/>\r\n      <use x=\"222.074219\" xlink:href=\"#DejaVuSans-61\"/>\r\n      <use x=\"283.353516\" xlink:href=\"#DejaVuSans-62\"/>\r\n      <use x=\"346.830078\" xlink:href=\"#DejaVuSans-69\"/>\r\n      <use x=\"374.613281\" xlink:href=\"#DejaVuSans-6c\"/>\r\n      <use x=\"402.396484\" xlink:href=\"#DejaVuSans-69\"/>\r\n      <use x=\"430.179688\" xlink:href=\"#DejaVuSans-74\"/>\r\n      <use x=\"469.388672\" xlink:href=\"#DejaVuSans-69\"/>\r\n      <use x=\"497.171875\" xlink:href=\"#DejaVuSans-65\"/>\r\n      <use x=\"558.695312\" xlink:href=\"#DejaVuSans-73\"/>\r\n     </g>\r\n    </g>\r\n   </g>\r\n   <g id=\"patch_3\">\r\n    <path clip-path=\"url(#pd7622263f2)\" d=\"M 80.675795 284.318906 \r\nL 199.039432 284.318906 \r\nL 199.039432 57.818906 \r\nL 80.675795 57.818906 \r\nz\r\n\" style=\"fill:#648fff;\"/>\r\n   </g>\r\n   <g id=\"patch_4\">\r\n    <path clip-path=\"url(#pd7622263f2)\" d=\"M 317.403068 284.318906 \r\nL 435.766705 284.318906 \r\nL 435.766705 57.818906 \r\nL 317.403068 57.818906 \r\nz\r\n\" style=\"fill:#648fff;\"/>\r\n   </g>\r\n   <g id=\"patch_5\">\r\n    <path d=\"M 62.92125 284.318906 \r\nL 62.92125 12.518906 \r\n\" style=\"fill:none;stroke:#000000;stroke-linecap:square;stroke-linejoin:miter;stroke-width:0.8;\"/>\r\n   </g>\r\n   <g id=\"patch_6\">\r\n    <path d=\"M 453.52125 284.318906 \r\nL 453.52125 12.518906 \r\n\" style=\"fill:none;stroke:#000000;stroke-linecap:square;stroke-linejoin:miter;stroke-width:0.8;\"/>\r\n   </g>\r\n   <g id=\"patch_7\">\r\n    <path d=\"M 62.92125 284.318906 \r\nL 453.52125 284.318906 \r\n\" style=\"fill:none;stroke:#000000;stroke-linecap:square;stroke-linejoin:miter;stroke-width:0.8;\"/>\r\n   </g>\r\n   <g id=\"patch_8\">\r\n    <path d=\"M 62.92125 12.518906 \r\nL 453.52125 12.518906 \r\n\" style=\"fill:none;stroke:#000000;stroke-linecap:square;stroke-linejoin:miter;stroke-width:0.8;\"/>\r\n   </g>\r\n   <g id=\"text_9\">\r\n    <!-- 0.500 -->\r\n    <g transform=\"translate(125.543551 44.414219)scale(0.1 -0.1)\">\r\n     <use xlink:href=\"#DejaVuSans-30\"/>\r\n     <use x=\"63.623047\" xlink:href=\"#DejaVuSans-2e\"/>\r\n     <use x=\"95.410156\" xlink:href=\"#DejaVuSans-35\"/>\r\n     <use x=\"159.033203\" xlink:href=\"#DejaVuSans-30\"/>\r\n     <use x=\"222.65625\" xlink:href=\"#DejaVuSans-30\"/>\r\n    </g>\r\n   </g>\r\n   <g id=\"text_10\">\r\n    <!-- 0.500 -->\r\n    <g transform=\"translate(362.270824 44.414219)scale(0.1 -0.1)\">\r\n     <use xlink:href=\"#DejaVuSans-30\"/>\r\n     <use x=\"63.623047\" xlink:href=\"#DejaVuSans-2e\"/>\r\n     <use x=\"95.410156\" xlink:href=\"#DejaVuSans-35\"/>\r\n     <use x=\"159.033203\" xlink:href=\"#DejaVuSans-30\"/>\r\n     <use x=\"222.65625\" xlink:href=\"#DejaVuSans-30\"/>\r\n    </g>\r\n   </g>\r\n  </g>\r\n </g>\r\n <defs>\r\n  <clipPath id=\"pd7622263f2\">\r\n   <rect height=\"271.8\" width=\"390.6\" x=\"62.92125\" y=\"12.518906\"/>\r\n  </clipPath>\r\n </defs>\r\n</svg>\r\n"
     },
     "metadata": {},
     "execution_count": 18
    }
   ],
   "source": [
    "\"\"\"ベル状態\n",
    "前節では以下の状態を作ることができることを見ました。:\n",
    "1/√2(|00⟩+|11⟩)\n",
    " \n",
    "これはベル状態として知られています。この状態は、50%の確率で |00⟩ の状態が観測され、50%の確率で |11⟩\n",
    " の状態が観測されます。最も興味深いことに、 |01⟩ または |10⟩\n",
    " が観測される確率は0% です。このことは、Qiskitで確認することができます。\n",
    "\"\"\"\n",
    "results = execute(qc,backend).result().get_counts()\n",
    "plot_histogram(results)"
   ]
  },
  {
   "source": [
    "# 3.3 練習問題:"
   ],
   "cell_type": "markdown",
   "metadata": {}
  },
  {
   "cell_type": "code",
   "execution_count": 19,
   "metadata": {},
   "outputs": [
    {
     "output_type": "execute_result",
     "data": {
      "text/plain": [
       "<Figure size 206.852x144.48 with 1 Axes>"
      ],
      "image/svg+xml": "<?xml version=\"1.0\" encoding=\"utf-8\" standalone=\"no\"?>\r\n<!DOCTYPE svg PUBLIC \"-//W3C//DTD SVG 1.1//EN\"\r\n  \"http://www.w3.org/Graphics/SVG/1.1/DTD/svg11.dtd\">\r\n<svg height=\"123.4824pt\" version=\"1.1\" viewBox=\"0 0 170.573272 123.4824\" width=\"170.573272pt\" xmlns=\"http://www.w3.org/2000/svg\" xmlns:xlink=\"http://www.w3.org/1999/xlink\">\r\n <metadata>\r\n  <rdf:RDF xmlns:cc=\"http://creativecommons.org/ns#\" xmlns:dc=\"http://purl.org/dc/elements/1.1/\" xmlns:rdf=\"http://www.w3.org/1999/02/22-rdf-syntax-ns#\">\r\n   <cc:Work>\r\n    <dc:type rdf:resource=\"http://purl.org/dc/dcmitype/StillImage\"/>\r\n    <dc:date>2021-06-06T17:02:53.636792</dc:date>\r\n    <dc:format>image/svg+xml</dc:format>\r\n    <dc:creator>\r\n     <cc:Agent>\r\n      <dc:title>Matplotlib v3.4.2, https://matplotlib.org/</dc:title>\r\n     </cc:Agent>\r\n    </dc:creator>\r\n   </cc:Work>\r\n  </rdf:RDF>\r\n </metadata>\r\n <defs>\r\n  <style type=\"text/css\">*{stroke-linecap:butt;stroke-linejoin:round;}</style>\r\n </defs>\r\n <g id=\"figure_1\">\r\n  <g id=\"patch_1\">\r\n   <path d=\"M 0 123.4824 \r\nL 170.573272 123.4824 \r\nL 170.573272 0 \r\nL 0 0 \r\nz\r\n\" style=\"fill:#ffffff;\"/>\r\n  </g>\r\n  <g id=\"axes_1\">\r\n   <g id=\"line2d_1\">\r\n    <path clip-path=\"url(#pe399d84e19)\" d=\"M 63.381072 43.5608 \r\nL 158.828172 43.5608 \r\n\" style=\"fill:none;stroke:#000000;stroke-linecap:square;stroke-width:2;\"/>\r\n   </g>\r\n   <g id=\"line2d_2\">\r\n    <path clip-path=\"url(#pe399d84e19)\" d=\"M 63.381072 89.0118 \r\nL 158.828172 89.0118 \r\n\" style=\"fill:none;stroke:#000000;stroke-linecap:square;stroke-width:2;\"/>\r\n   </g>\r\n   <g id=\"line2d_3\">\r\n    <path clip-path=\"url(#pe399d84e19)\" d=\"M 133.375612 89.0118 \r\nL 133.375612 43.5608 \r\n\" style=\"fill:none;stroke:#6fa4ff;stroke-linecap:square;stroke-width:2;\"/>\r\n   </g>\r\n   <g id=\"patch_2\">\r\n    <path clip-path=\"url(#pe399d84e19)\" d=\"M 73.153037 58.332375 \r\nL 102.696187 58.332375 \r\nL 102.696187 28.789225 \r\nL 73.153037 28.789225 \r\nz\r\n\" style=\"fill:#6fa4ff;stroke:#6fa4ff;stroke-linejoin:miter;stroke-width:1.5;\"/>\r\n   </g>\r\n   <g id=\"patch_3\">\r\n    <path clip-path=\"url(#pe399d84e19)\" d=\"M 73.153037 103.783375 \r\nL 102.696187 103.783375 \r\nL 102.696187 74.240225 \r\nL 73.153037 74.240225 \r\nz\r\n\" style=\"fill:#05bab6;stroke:#05bab6;stroke-linejoin:miter;stroke-width:1.5;\"/>\r\n   </g>\r\n   <g id=\"patch_4\">\r\n    <path clip-path=\"url(#pe399d84e19)\" d=\"M 133.375612 47.992273 \r\nC 134.550852 47.992273 135.678116 47.525345 136.509136 46.694324 \r\nC 137.340157 45.863304 137.807085 44.73604 137.807085 43.5608 \r\nC 137.807085 42.38556 137.340157 41.258296 136.509136 40.427276 \r\nC 135.678116 39.596255 134.550852 39.129328 133.375612 39.129328 \r\nC 132.200372 39.129328 131.073108 39.596255 130.242088 40.427276 \r\nC 129.411067 41.258296 128.94414 42.38556 128.94414 43.5608 \r\nC 128.94414 44.73604 129.411067 45.863304 130.242088 46.694324 \r\nC 131.073108 47.525345 132.200372 47.992273 133.375612 47.992273 \r\nz\r\n\" style=\"fill:#6fa4ff;stroke:#6fa4ff;stroke-linejoin:miter;stroke-width:1.5;\"/>\r\n   </g>\r\n   <g id=\"patch_5\">\r\n    <path clip-path=\"url(#pe399d84e19)\" d=\"M 133.375612 99.351903 \r\nC 136.117839 99.351903 138.748121 98.262404 140.687169 96.323357 \r\nC 142.626216 94.384309 143.715715 91.754027 143.715715 89.0118 \r\nC 143.715715 86.269573 142.626216 83.639291 140.687169 81.700243 \r\nC 138.748121 79.761196 136.117839 78.671698 133.375612 78.671698 \r\nC 130.633385 78.671698 128.003103 79.761196 126.064055 81.700243 \r\nC 124.125008 83.639291 123.03551 86.269573 123.03551 89.0118 \r\nC 123.03551 91.754027 124.125008 94.384309 126.064055 96.323357 \r\nC 128.003103 98.262404 130.633385 99.351903 133.375612 99.351903 \r\nz\r\n\" style=\"fill:#6fa4ff;stroke:#6fa4ff;stroke-linejoin:miter;stroke-width:2;\"/>\r\n   </g>\r\n   <g id=\"line2d_4\">\r\n    <path clip-path=\"url(#pe399d84e19)\" d=\"M 133.375612 94.92043 \r\nL 133.375612 83.10317 \r\n\" style=\"fill:none;stroke:#ffffff;stroke-linecap:square;stroke-width:2;\"/>\r\n   </g>\r\n   <g id=\"line2d_5\">\r\n    <path clip-path=\"url(#pe399d84e19)\" d=\"M 127.466982 89.0118 \r\nL 139.284242 89.0118 \r\n\" style=\"fill:none;stroke:#ffffff;stroke-linecap:square;stroke-width:2;\"/>\r\n   </g>\r\n   <g id=\"text_1\">\r\n    <g clip-path=\"url(#pe399d84e19)\">\r\n     <!-- H -->\r\n     <g transform=\"translate(83.036409 47.147988)scale(0.13 -0.13)\">\r\n      <defs>\r\n       <path d=\"M 628 4666 \r\nL 1259 4666 \r\nL 1259 2753 \r\nL 3553 2753 \r\nL 3553 4666 \r\nL 4184 4666 \r\nL 4184 0 \r\nL 3553 0 \r\nL 3553 2222 \r\nL 1259 2222 \r\nL 1259 0 \r\nL 628 0 \r\nL 628 4666 \r\nz\r\n\" id=\"DejaVuSans-48\" transform=\"scale(0.015625)\"/>\r\n      </defs>\r\n      <use xlink:href=\"#DejaVuSans-48\"/>\r\n     </g>\r\n    </g>\r\n   </g>\r\n   <g id=\"text_2\">\r\n    <g clip-path=\"url(#pe399d84e19)\">\r\n     <!-- X -->\r\n     <g transform=\"translate(83.472112 92.598988)scale(0.13 -0.13)\">\r\n      <defs>\r\n       <path d=\"M 403 4666 \r\nL 1081 4666 \r\nL 2241 2931 \r\nL 3406 4666 \r\nL 4084 4666 \r\nL 2584 2425 \r\nL 4184 0 \r\nL 3506 0 \r\nL 2194 1984 \r\nL 872 0 \r\nL 191 0 \r\nL 1856 2491 \r\nL 403 4666 \r\nz\r\n\" id=\"DejaVuSans-58\" transform=\"scale(0.015625)\"/>\r\n      </defs>\r\n      <use xlink:href=\"#DejaVuSans-58\"/>\r\n     </g>\r\n    </g>\r\n   </g>\r\n   <g id=\"text_3\">\r\n    <g clip-path=\"url(#pe399d84e19)\">\r\n     <!-- ${q}_{0}$ -->\r\n     <g transform=\"translate(36.253372 48.011777)scale(0.1625 -0.1625)\">\r\n      <defs>\r\n       <path d=\"M 2669 525 \r\nQ 2438 222 2123 65 \r\nQ 1809 -91 1428 -91 \r\nQ 897 -91 595 267 \r\nQ 294 625 294 1253 \r\nQ 294 1759 480 2231 \r\nQ 666 2703 1013 3078 \r\nQ 1238 3322 1530 3453 \r\nQ 1822 3584 2144 3584 \r\nQ 2531 3584 2781 3431 \r\nQ 3031 3278 3144 2969 \r\nL 3244 3494 \r\nL 3822 3494 \r\nL 2888 -1319 \r\nL 2309 -1319 \r\nL 2669 525 \r\nz\r\nM 891 1338 \r\nQ 891 875 1084 633 \r\nQ 1278 391 1644 391 \r\nQ 2188 391 2572 911 \r\nQ 2956 1431 2956 2175 \r\nQ 2956 2625 2757 2864 \r\nQ 2559 3103 2188 3103 \r\nQ 1916 3103 1684 2976 \r\nQ 1453 2850 1281 2606 \r\nQ 1100 2350 995 2006 \r\nQ 891 1663 891 1338 \r\nz\r\n\" id=\"DejaVuSans-Oblique-71\" transform=\"scale(0.015625)\"/>\r\n       <path d=\"M 2034 4250 \r\nQ 1547 4250 1301 3770 \r\nQ 1056 3291 1056 2328 \r\nQ 1056 1369 1301 889 \r\nQ 1547 409 2034 409 \r\nQ 2525 409 2770 889 \r\nQ 3016 1369 3016 2328 \r\nQ 3016 3291 2770 3770 \r\nQ 2525 4250 2034 4250 \r\nz\r\nM 2034 4750 \r\nQ 2819 4750 3233 4129 \r\nQ 3647 3509 3647 2328 \r\nQ 3647 1150 3233 529 \r\nQ 2819 -91 2034 -91 \r\nQ 1250 -91 836 529 \r\nQ 422 1150 422 2328 \r\nQ 422 3509 836 4129 \r\nQ 1250 4750 2034 4750 \r\nz\r\n\" id=\"DejaVuSans-30\" transform=\"scale(0.015625)\"/>\r\n      </defs>\r\n      <use xlink:href=\"#DejaVuSans-Oblique-71\"/>\r\n      <use transform=\"translate(63.476562 -16.40625)scale(0.7)\" xlink:href=\"#DejaVuSans-30\"/>\r\n     </g>\r\n    </g>\r\n   </g>\r\n   <g id=\"text_4\">\r\n    <g clip-path=\"url(#pe399d84e19)\">\r\n     <!-- ${q}_{1}$ -->\r\n     <g transform=\"translate(36.253372 93.462777)scale(0.1625 -0.1625)\">\r\n      <defs>\r\n       <path d=\"M 794 531 \r\nL 1825 531 \r\nL 1825 4091 \r\nL 703 3866 \r\nL 703 4441 \r\nL 1819 4666 \r\nL 2450 4666 \r\nL 2450 531 \r\nL 3481 531 \r\nL 3481 0 \r\nL 794 0 \r\nL 794 531 \r\nz\r\n\" id=\"DejaVuSans-31\" transform=\"scale(0.015625)\"/>\r\n      </defs>\r\n      <use xlink:href=\"#DejaVuSans-Oblique-71\"/>\r\n      <use transform=\"translate(63.476562 -16.40625)scale(0.7)\" xlink:href=\"#DejaVuSans-31\"/>\r\n     </g>\r\n    </g>\r\n   </g>\r\n  </g>\r\n </g>\r\n <defs>\r\n  <clipPath id=\"pe399d84e19\">\r\n   <rect height=\"109.0824\" width=\"156.173272\" x=\"7.2\" y=\"7.2\"/>\r\n  </clipPath>\r\n </defs>\r\n</svg>\r\n"
     },
     "metadata": {},
     "execution_count": 19
    }
   ],
   "source": [
    "\"\"\"(1)\n",
    "以下のベル状態を作り出す量子回路を作成せよ。  \n",
    "1/√2(|01⟩+|10⟩)\n",
    " 状態ベクトルシミュレーターを使用して結果を検証せよ。\n",
    "\n",
    "1/√2(|01⟩+|10⟩)\n",
    "= CNOT 1/√2(|11> + |10>)\n",
    "= CNOT 1/√2|1>(|1>+|0>)\n",
    "= CNOT |1>|+>\n",
    "= CNOT |1+>\n",
    "\"\"\"\n",
    "qc = QuantumCircuit(2)\n",
    "\n",
    "qc.h(0)\n",
    "qc.x(1)\n",
    "qc.cx(0, 1)\n",
    "\n",
    "qc.draw()"
   ]
  },
  {
   "cell_type": "code",
   "execution_count": 20,
   "metadata": {},
   "outputs": [
    {
     "output_type": "display_data",
     "data": {
      "text/plain": "<IPython.core.display.Math object>",
      "text/latex": "$\\displaystyle \n\\text{Statevector = }\\begin{bmatrix}\n0 \\\\\n\\tfrac{1}{\\sqrt{2}} \\\\\n\\tfrac{1}{\\sqrt{2}} \\\\\n0\n\\end{bmatrix}\n$"
     },
     "metadata": {}
    }
   ],
   "source": [
    "# Let's see the result:\n",
    "backend = Aer.get_backend('statevector_simulator')\n",
    "final_state = execute(qc,backend).result().get_statevector()\n",
    "# Print the statevector neatly:\n",
    "array_to_latex(final_state, pretext=\"\\\\text{Statevector = }\")"
   ]
  },
  {
   "cell_type": "code",
   "execution_count": 21,
   "metadata": {},
   "outputs": [
    {
     "output_type": "display_data",
     "data": {
      "text/plain": "<IPython.core.display.Math object>",
      "text/latex": "$\\displaystyle \n\\text{circuit = }\\begin{bmatrix}\n0 & 0 & \\tfrac{1}{\\sqrt{2}} & \\tfrac{1}{\\sqrt{2}}  \\\\\n\\tfrac{1}{\\sqrt{2}} & -\\tfrac{1}{\\sqrt{2}} & 0 & 0  \\\\\n\\tfrac{1}{\\sqrt{2}} & \\tfrac{1}{\\sqrt{2}} & 0 & 0  \\\\\n0 & 0 & \\tfrac{1}{\\sqrt{2}} & -\\tfrac{1}{\\sqrt{2}}  \\\\\n\\end{bmatrix}\n$$\n$"
     },
     "metadata": {}
    }
   ],
   "source": [
    "\"\"\"(2)\n",
    "設問1にて作成した回路は状態 |00⟩ を1/√2(|01⟩+|10⟩)\n",
    " に変換するものである。この回路のユニタリー行列をQiskitシミュレータを使用して計算せよ。このユニタリー行列が正しい変換を行えることを検証せよ。\n",
    "\"\"\"\n",
    "backend = Aer.get_backend(\"unitary_simulator\")\n",
    "unitary = execute(qc, backend).result().get_unitary()\n",
    "\n",
    "array_to_latex(unitary, pretext=\"\\\\text{circuit = }\")"
   ]
  },
  {
   "cell_type": "code",
   "execution_count": 33,
   "metadata": {},
   "outputs": [
    {
     "output_type": "execute_result",
     "data": {
      "text/plain": [
       "<Figure size 206.852x144.48 with 1 Axes>"
      ],
      "image/svg+xml": "<?xml version=\"1.0\" encoding=\"utf-8\" standalone=\"no\"?>\r\n<!DOCTYPE svg PUBLIC \"-//W3C//DTD SVG 1.1//EN\"\r\n  \"http://www.w3.org/Graphics/SVG/1.1/DTD/svg11.dtd\">\r\n<svg height=\"123.4824pt\" version=\"1.1\" viewBox=\"0 0 170.573272 123.4824\" width=\"170.573272pt\" xmlns=\"http://www.w3.org/2000/svg\" xmlns:xlink=\"http://www.w3.org/1999/xlink\">\r\n <metadata>\r\n  <rdf:RDF xmlns:cc=\"http://creativecommons.org/ns#\" xmlns:dc=\"http://purl.org/dc/elements/1.1/\" xmlns:rdf=\"http://www.w3.org/1999/02/22-rdf-syntax-ns#\">\r\n   <cc:Work>\r\n    <dc:type rdf:resource=\"http://purl.org/dc/dcmitype/StillImage\"/>\r\n    <dc:date>2021-06-06T20:40:04.556522</dc:date>\r\n    <dc:format>image/svg+xml</dc:format>\r\n    <dc:creator>\r\n     <cc:Agent>\r\n      <dc:title>Matplotlib v3.4.2, https://matplotlib.org/</dc:title>\r\n     </cc:Agent>\r\n    </dc:creator>\r\n   </cc:Work>\r\n  </rdf:RDF>\r\n </metadata>\r\n <defs>\r\n  <style type=\"text/css\">*{stroke-linecap:butt;stroke-linejoin:round;}</style>\r\n </defs>\r\n <g id=\"figure_1\">\r\n  <g id=\"patch_1\">\r\n   <path d=\"M 0 123.4824 \r\nL 170.573272 123.4824 \r\nL 170.573272 0 \r\nL 0 0 \r\nz\r\n\" style=\"fill:#ffffff;\"/>\r\n  </g>\r\n  <g id=\"axes_1\">\r\n   <g id=\"line2d_1\">\r\n    <path clip-path=\"url(#p817bbaaa3a)\" d=\"M 63.381072 43.5608 \r\nL 158.828172 43.5608 \r\n\" style=\"fill:none;stroke:#000000;stroke-linecap:square;stroke-width:2;\"/>\r\n   </g>\r\n   <g id=\"line2d_2\">\r\n    <path clip-path=\"url(#p817bbaaa3a)\" d=\"M 63.381072 89.0118 \r\nL 158.828172 89.0118 \r\n\" style=\"fill:none;stroke:#000000;stroke-linecap:square;stroke-width:2;\"/>\r\n   </g>\r\n   <g id=\"patch_2\">\r\n    <path clip-path=\"url(#p817bbaaa3a)\" d=\"M 69.42151 103.783375 \r\nL 151.878714 103.783375 \r\nL 151.878714 28.789225 \r\nL 69.42151 28.789225 \r\nz\r\n\" style=\"fill:#bb8bff;stroke:#bb8bff;stroke-linejoin:miter;stroke-width:1.5;\"/>\r\n   </g>\r\n   <g id=\"text_1\">\r\n    <g clip-path=\"url(#p817bbaaa3a)\">\r\n     <!-- 0 -->\r\n     <g transform=\"translate(72.60308 47.147988)scale(0.13 -0.13)\">\r\n      <defs>\r\n       <path d=\"M 2034 4250 \r\nQ 1547 4250 1301 3770 \r\nQ 1056 3291 1056 2328 \r\nQ 1056 1369 1301 889 \r\nQ 1547 409 2034 409 \r\nQ 2525 409 2770 889 \r\nQ 3016 1369 3016 2328 \r\nQ 3016 3291 2770 3770 \r\nQ 2525 4250 2034 4250 \r\nz\r\nM 2034 4750 \r\nQ 2819 4750 3233 4129 \r\nQ 3647 3509 3647 2328 \r\nQ 3647 1150 3233 529 \r\nQ 2819 -91 2034 -91 \r\nQ 1250 -91 836 529 \r\nQ 422 1150 422 2328 \r\nQ 422 3509 836 4129 \r\nQ 1250 4750 2034 4750 \r\nz\r\n\" id=\"DejaVuSans-30\" transform=\"scale(0.015625)\"/>\r\n      </defs>\r\n      <use xlink:href=\"#DejaVuSans-30\"/>\r\n     </g>\r\n    </g>\r\n   </g>\r\n   <g id=\"text_2\">\r\n    <g clip-path=\"url(#p817bbaaa3a)\">\r\n     <!-- 1 -->\r\n     <g transform=\"translate(72.60308 92.598988)scale(0.13 -0.13)\">\r\n      <defs>\r\n       <path d=\"M 794 531 \r\nL 1825 531 \r\nL 1825 4091 \r\nL 703 3866 \r\nL 703 4441 \r\nL 1819 4666 \r\nL 2450 4666 \r\nL 2450 531 \r\nL 3481 531 \r\nL 3481 0 \r\nL 794 0 \r\nL 794 531 \r\nz\r\n\" id=\"DejaVuSans-31\" transform=\"scale(0.015625)\"/>\r\n      </defs>\r\n      <use xlink:href=\"#DejaVuSans-31\"/>\r\n     </g>\r\n    </g>\r\n   </g>\r\n   <g id=\"text_3\">\r\n    <g clip-path=\"url(#p817bbaaa3a)\">\r\n     <!-- circuit-100 -->\r\n     <g transform=\"translate(80.9448 69.873488)scale(0.13 -0.13)\">\r\n      <defs>\r\n       <path d=\"M 3122 3366 \r\nL 3122 2828 \r\nQ 2878 2963 2633 3030 \r\nQ 2388 3097 2138 3097 \r\nQ 1578 3097 1268 2742 \r\nQ 959 2388 959 1747 \r\nQ 959 1106 1268 751 \r\nQ 1578 397 2138 397 \r\nQ 2388 397 2633 464 \r\nQ 2878 531 3122 666 \r\nL 3122 134 \r\nQ 2881 22 2623 -34 \r\nQ 2366 -91 2075 -91 \r\nQ 1284 -91 818 406 \r\nQ 353 903 353 1747 \r\nQ 353 2603 823 3093 \r\nQ 1294 3584 2113 3584 \r\nQ 2378 3584 2631 3529 \r\nQ 2884 3475 3122 3366 \r\nz\r\n\" id=\"DejaVuSans-63\" transform=\"scale(0.015625)\"/>\r\n       <path d=\"M 603 3500 \r\nL 1178 3500 \r\nL 1178 0 \r\nL 603 0 \r\nL 603 3500 \r\nz\r\nM 603 4863 \r\nL 1178 4863 \r\nL 1178 4134 \r\nL 603 4134 \r\nL 603 4863 \r\nz\r\n\" id=\"DejaVuSans-69\" transform=\"scale(0.015625)\"/>\r\n       <path d=\"M 2631 2963 \r\nQ 2534 3019 2420 3045 \r\nQ 2306 3072 2169 3072 \r\nQ 1681 3072 1420 2755 \r\nQ 1159 2438 1159 1844 \r\nL 1159 0 \r\nL 581 0 \r\nL 581 3500 \r\nL 1159 3500 \r\nL 1159 2956 \r\nQ 1341 3275 1631 3429 \r\nQ 1922 3584 2338 3584 \r\nQ 2397 3584 2469 3576 \r\nQ 2541 3569 2628 3553 \r\nL 2631 2963 \r\nz\r\n\" id=\"DejaVuSans-72\" transform=\"scale(0.015625)\"/>\r\n       <path d=\"M 544 1381 \r\nL 544 3500 \r\nL 1119 3500 \r\nL 1119 1403 \r\nQ 1119 906 1312 657 \r\nQ 1506 409 1894 409 \r\nQ 2359 409 2629 706 \r\nQ 2900 1003 2900 1516 \r\nL 2900 3500 \r\nL 3475 3500 \r\nL 3475 0 \r\nL 2900 0 \r\nL 2900 538 \r\nQ 2691 219 2414 64 \r\nQ 2138 -91 1772 -91 \r\nQ 1169 -91 856 284 \r\nQ 544 659 544 1381 \r\nz\r\nM 1991 3584 \r\nL 1991 3584 \r\nz\r\n\" id=\"DejaVuSans-75\" transform=\"scale(0.015625)\"/>\r\n       <path d=\"M 1172 4494 \r\nL 1172 3500 \r\nL 2356 3500 \r\nL 2356 3053 \r\nL 1172 3053 \r\nL 1172 1153 \r\nQ 1172 725 1289 603 \r\nQ 1406 481 1766 481 \r\nL 2356 481 \r\nL 2356 0 \r\nL 1766 0 \r\nQ 1100 0 847 248 \r\nQ 594 497 594 1153 \r\nL 594 3053 \r\nL 172 3053 \r\nL 172 3500 \r\nL 594 3500 \r\nL 594 4494 \r\nL 1172 4494 \r\nz\r\n\" id=\"DejaVuSans-74\" transform=\"scale(0.015625)\"/>\r\n       <path d=\"M 313 2009 \r\nL 1997 2009 \r\nL 1997 1497 \r\nL 313 1497 \r\nL 313 2009 \r\nz\r\n\" id=\"DejaVuSans-2d\" transform=\"scale(0.015625)\"/>\r\n      </defs>\r\n      <use xlink:href=\"#DejaVuSans-63\"/>\r\n      <use x=\"54.980469\" xlink:href=\"#DejaVuSans-69\"/>\r\n      <use x=\"82.763672\" xlink:href=\"#DejaVuSans-72\"/>\r\n      <use x=\"121.626953\" xlink:href=\"#DejaVuSans-63\"/>\r\n      <use x=\"176.607422\" xlink:href=\"#DejaVuSans-75\"/>\r\n      <use x=\"239.986328\" xlink:href=\"#DejaVuSans-69\"/>\r\n      <use x=\"267.769531\" xlink:href=\"#DejaVuSans-74\"/>\r\n      <use x=\"306.978516\" xlink:href=\"#DejaVuSans-2d\"/>\r\n      <use x=\"343.0625\" xlink:href=\"#DejaVuSans-31\"/>\r\n      <use x=\"406.685547\" xlink:href=\"#DejaVuSans-30\"/>\r\n      <use x=\"470.308594\" xlink:href=\"#DejaVuSans-30\"/>\r\n     </g>\r\n    </g>\r\n   </g>\r\n   <g id=\"text_4\">\r\n    <g clip-path=\"url(#p817bbaaa3a)\">\r\n     <!-- ${q}_{0}$ -->\r\n     <g transform=\"translate(36.253372 48.011777)scale(0.1625 -0.1625)\">\r\n      <defs>\r\n       <path d=\"M 2669 525 \r\nQ 2438 222 2123 65 \r\nQ 1809 -91 1428 -91 \r\nQ 897 -91 595 267 \r\nQ 294 625 294 1253 \r\nQ 294 1759 480 2231 \r\nQ 666 2703 1013 3078 \r\nQ 1238 3322 1530 3453 \r\nQ 1822 3584 2144 3584 \r\nQ 2531 3584 2781 3431 \r\nQ 3031 3278 3144 2969 \r\nL 3244 3494 \r\nL 3822 3494 \r\nL 2888 -1319 \r\nL 2309 -1319 \r\nL 2669 525 \r\nz\r\nM 891 1338 \r\nQ 891 875 1084 633 \r\nQ 1278 391 1644 391 \r\nQ 2188 391 2572 911 \r\nQ 2956 1431 2956 2175 \r\nQ 2956 2625 2757 2864 \r\nQ 2559 3103 2188 3103 \r\nQ 1916 3103 1684 2976 \r\nQ 1453 2850 1281 2606 \r\nQ 1100 2350 995 2006 \r\nQ 891 1663 891 1338 \r\nz\r\n\" id=\"DejaVuSans-Oblique-71\" transform=\"scale(0.015625)\"/>\r\n      </defs>\r\n      <use xlink:href=\"#DejaVuSans-Oblique-71\"/>\r\n      <use transform=\"translate(63.476562 -16.40625)scale(0.7)\" xlink:href=\"#DejaVuSans-30\"/>\r\n     </g>\r\n    </g>\r\n   </g>\r\n   <g id=\"text_5\">\r\n    <g clip-path=\"url(#p817bbaaa3a)\">\r\n     <!-- ${q}_{1}$ -->\r\n     <g transform=\"translate(36.253372 93.462777)scale(0.1625 -0.1625)\">\r\n      <use xlink:href=\"#DejaVuSans-Oblique-71\"/>\r\n      <use transform=\"translate(63.476562 -16.40625)scale(0.7)\" xlink:href=\"#DejaVuSans-31\"/>\r\n     </g>\r\n    </g>\r\n   </g>\r\n  </g>\r\n </g>\r\n <defs>\r\n  <clipPath id=\"p817bbaaa3a\">\r\n   <rect height=\"109.0824\" width=\"156.173272\" x=\"7.2\" y=\"7.2\"/>\r\n  </clipPath>\r\n </defs>\r\n</svg>\r\n"
     },
     "metadata": {},
     "execution_count": 33
    }
   ],
   "source": [
    "#  (1)で作ったqcを、新しく作ったqc2にappendして、シミュレータで動作を確認する。\n",
    "qc2 = QuantumCircuit(2)\n",
    "\n",
    "qc2.append(qc, [0, 1])\n",
    "\n",
    "qc2.draw()"
   ]
  },
  {
   "cell_type": "code",
   "execution_count": 34,
   "metadata": {},
   "outputs": [
    {
     "output_type": "display_data",
     "data": {
      "text/plain": "<IPython.core.display.Math object>",
      "text/latex": "$\\displaystyle \n\\text{Statevector = }\\begin{bmatrix}\n0 \\\\\n\\tfrac{1}{\\sqrt{2}} \\\\\n\\tfrac{1}{\\sqrt{2}} \\\\\n0\n\\end{bmatrix}\n$"
     },
     "metadata": {}
    }
   ],
   "source": [
    "# Let's see the result:\n",
    "backend2 = Aer.get_backend('statevector_simulator')\n",
    "final_state2 = execute(qc2,backend2).result().get_statevector()\n",
    "# Print the statevector neatly:\n",
    "array_to_latex(final_state2, pretext=\"\\\\text{Statevector = }\")"
   ]
  },
  {
   "cell_type": "code",
   "execution_count": null,
   "metadata": {},
   "outputs": [],
   "source": []
  }
 ]
}