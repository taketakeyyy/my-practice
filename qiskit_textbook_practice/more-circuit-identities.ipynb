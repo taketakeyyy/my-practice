{
 "metadata": {
  "language_info": {
   "codemirror_mode": {
    "name": "ipython",
    "version": 3
   },
   "file_extension": ".py",
   "mimetype": "text/x-python",
   "name": "python",
   "nbconvert_exporter": "python",
   "pygments_lexer": "ipython3",
   "version": "3.8.5"
  },
  "orig_nbformat": 2,
  "kernelspec": {
   "name": "qiskit_textbook_practice_venv",
   "display_name": "qiskit_textbook_practice_venv",
   "language": "python"
  }
 },
 "nbformat": 4,
 "nbformat_minor": 2,
 "cells": [
  {
   "source": [
    "# さらなる回路の等価性"
   ],
   "cell_type": "markdown",
   "metadata": {}
  },
  {
   "cell_type": "code",
   "execution_count": 1,
   "metadata": {},
   "outputs": [],
   "source": [
    "\"\"\"色々準備\"\"\"\n",
    "from qiskit import QuantumCircuit\n",
    "from qiskit.circuit import Gate\n",
    "from math import pi"
   ]
  },
  {
   "source": [
    "# 1. 制御ZをCNOTから作成する"
   ],
   "cell_type": "markdown",
   "metadata": {}
  },
  {
   "cell_type": "code",
   "execution_count": 2,
   "metadata": {},
   "outputs": [],
   "source": [
    "qc = QuantumCircuit(2)\n",
    "c = 0\n",
    "t = 1"
   ]
  },
  {
   "cell_type": "code",
   "execution_count": 3,
   "metadata": {},
   "outputs": [
    {
     "output_type": "execute_result",
     "data": {
      "text/plain": [
       "<Figure size 146.652x144.48 with 1 Axes>"
      ],
      "image/svg+xml": "<?xml version=\"1.0\" encoding=\"utf-8\" standalone=\"no\"?>\r\n<!DOCTYPE svg PUBLIC \"-//W3C//DTD SVG 1.1//EN\"\r\n  \"http://www.w3.org/Graphics/SVG/1.1/DTD/svg11.dtd\">\r\n<svg height=\"123.4824pt\" version=\"1.1\" viewBox=\"0 0 125.122272 123.4824\" width=\"125.122272pt\" xmlns=\"http://www.w3.org/2000/svg\" xmlns:xlink=\"http://www.w3.org/1999/xlink\">\r\n <metadata>\r\n  <rdf:RDF xmlns:cc=\"http://creativecommons.org/ns#\" xmlns:dc=\"http://purl.org/dc/elements/1.1/\" xmlns:rdf=\"http://www.w3.org/1999/02/22-rdf-syntax-ns#\">\r\n   <cc:Work>\r\n    <dc:type rdf:resource=\"http://purl.org/dc/dcmitype/StillImage\"/>\r\n    <dc:date>2021-06-09T11:47:43.954809</dc:date>\r\n    <dc:format>image/svg+xml</dc:format>\r\n    <dc:creator>\r\n     <cc:Agent>\r\n      <dc:title>Matplotlib v3.4.2, https://matplotlib.org/</dc:title>\r\n     </cc:Agent>\r\n    </dc:creator>\r\n   </cc:Work>\r\n  </rdf:RDF>\r\n </metadata>\r\n <defs>\r\n  <style type=\"text/css\">*{stroke-linecap:butt;stroke-linejoin:round;}</style>\r\n </defs>\r\n <g id=\"figure_1\">\r\n  <g id=\"patch_1\">\r\n   <path d=\"M 0 123.4824 \r\nL 125.122272 123.4824 \r\nL 125.122272 0 \r\nL 0 0 \r\nz\r\n\" style=\"fill:#ffffff;\"/>\r\n  </g>\r\n  <g id=\"axes_1\">\r\n   <g id=\"line2d_1\">\r\n    <path clip-path=\"url(#p6ff6a6e68b)\" d=\"M 63.381072 43.5608 \r\nL 113.377172 43.5608 \r\n\" style=\"fill:none;stroke:#000000;stroke-linecap:square;stroke-width:2;\"/>\r\n   </g>\r\n   <g id=\"line2d_2\">\r\n    <path clip-path=\"url(#p6ff6a6e68b)\" d=\"M 63.381072 89.0118 \r\nL 113.377172 89.0118 \r\n\" style=\"fill:none;stroke:#000000;stroke-linecap:square;stroke-width:2;\"/>\r\n   </g>\r\n   <g id=\"line2d_3\">\r\n    <path clip-path=\"url(#p6ff6a6e68b)\" d=\"M 87.924612 89.0118 \r\nL 87.924612 43.5608 \r\n\" style=\"fill:none;stroke:#6fa4ff;stroke-linecap:square;stroke-width:2;\"/>\r\n   </g>\r\n   <g id=\"patch_2\">\r\n    <path clip-path=\"url(#p6ff6a6e68b)\" d=\"M 87.924612 47.992273 \r\nC 89.099852 47.992273 90.227116 47.525345 91.058136 46.694324 \r\nC 91.889157 45.863304 92.356085 44.73604 92.356085 43.5608 \r\nC 92.356085 42.38556 91.889157 41.258296 91.058136 40.427276 \r\nC 90.227116 39.596255 89.099852 39.129328 87.924612 39.129328 \r\nC 86.749372 39.129328 85.622108 39.596255 84.791088 40.427276 \r\nC 83.960067 41.258296 83.49314 42.38556 83.49314 43.5608 \r\nC 83.49314 44.73604 83.960067 45.863304 84.791088 46.694324 \r\nC 85.622108 47.525345 86.749372 47.992273 87.924612 47.992273 \r\nz\r\n\" style=\"fill:#6fa4ff;stroke:#6fa4ff;stroke-linejoin:miter;stroke-width:1.5;\"/>\r\n   </g>\r\n   <g id=\"patch_3\">\r\n    <path clip-path=\"url(#p6ff6a6e68b)\" d=\"M 87.924612 93.443273 \r\nC 89.099852 93.443273 90.227116 92.976345 91.058136 92.145324 \r\nC 91.889157 91.314304 92.356085 90.18704 92.356085 89.0118 \r\nC 92.356085 87.83656 91.889157 86.709296 91.058136 85.878276 \r\nC 90.227116 85.047255 89.099852 84.580328 87.924612 84.580328 \r\nC 86.749372 84.580328 85.622108 85.047255 84.791088 85.878276 \r\nC 83.960067 86.709296 83.49314 87.83656 83.49314 89.0118 \r\nC 83.49314 90.18704 83.960067 91.314304 84.791088 92.145324 \r\nC 85.622108 92.976345 86.749372 93.443273 87.924612 93.443273 \r\nz\r\n\" style=\"fill:#6fa4ff;stroke:#6fa4ff;stroke-linejoin:miter;stroke-width:1.5;\"/>\r\n   </g>\r\n   <g id=\"text_1\">\r\n    <g clip-path=\"url(#p6ff6a6e68b)\">\r\n     <!-- ${q}_{0}$ -->\r\n     <g transform=\"translate(36.253372 48.011777)scale(0.1625 -0.1625)\">\r\n      <defs>\r\n       <path d=\"M 2669 525 \r\nQ 2438 222 2123 65 \r\nQ 1809 -91 1428 -91 \r\nQ 897 -91 595 267 \r\nQ 294 625 294 1253 \r\nQ 294 1759 480 2231 \r\nQ 666 2703 1013 3078 \r\nQ 1238 3322 1530 3453 \r\nQ 1822 3584 2144 3584 \r\nQ 2531 3584 2781 3431 \r\nQ 3031 3278 3144 2969 \r\nL 3244 3494 \r\nL 3822 3494 \r\nL 2888 -1319 \r\nL 2309 -1319 \r\nL 2669 525 \r\nz\r\nM 891 1338 \r\nQ 891 875 1084 633 \r\nQ 1278 391 1644 391 \r\nQ 2188 391 2572 911 \r\nQ 2956 1431 2956 2175 \r\nQ 2956 2625 2757 2864 \r\nQ 2559 3103 2188 3103 \r\nQ 1916 3103 1684 2976 \r\nQ 1453 2850 1281 2606 \r\nQ 1100 2350 995 2006 \r\nQ 891 1663 891 1338 \r\nz\r\n\" id=\"DejaVuSans-Oblique-71\" transform=\"scale(0.015625)\"/>\r\n       <path d=\"M 2034 4250 \r\nQ 1547 4250 1301 3770 \r\nQ 1056 3291 1056 2328 \r\nQ 1056 1369 1301 889 \r\nQ 1547 409 2034 409 \r\nQ 2525 409 2770 889 \r\nQ 3016 1369 3016 2328 \r\nQ 3016 3291 2770 3770 \r\nQ 2525 4250 2034 4250 \r\nz\r\nM 2034 4750 \r\nQ 2819 4750 3233 4129 \r\nQ 3647 3509 3647 2328 \r\nQ 3647 1150 3233 529 \r\nQ 2819 -91 2034 -91 \r\nQ 1250 -91 836 529 \r\nQ 422 1150 422 2328 \r\nQ 422 3509 836 4129 \r\nQ 1250 4750 2034 4750 \r\nz\r\n\" id=\"DejaVuSans-30\" transform=\"scale(0.015625)\"/>\r\n      </defs>\r\n      <use xlink:href=\"#DejaVuSans-Oblique-71\"/>\r\n      <use transform=\"translate(63.476562 -16.40625)scale(0.7)\" xlink:href=\"#DejaVuSans-30\"/>\r\n     </g>\r\n    </g>\r\n   </g>\r\n   <g id=\"text_2\">\r\n    <g clip-path=\"url(#p6ff6a6e68b)\">\r\n     <!-- ${q}_{1}$ -->\r\n     <g transform=\"translate(36.253372 93.462777)scale(0.1625 -0.1625)\">\r\n      <defs>\r\n       <path d=\"M 794 531 \r\nL 1825 531 \r\nL 1825 4091 \r\nL 703 3866 \r\nL 703 4441 \r\nL 1819 4666 \r\nL 2450 4666 \r\nL 2450 531 \r\nL 3481 531 \r\nL 3481 0 \r\nL 794 0 \r\nL 794 531 \r\nz\r\n\" id=\"DejaVuSans-31\" transform=\"scale(0.015625)\"/>\r\n      </defs>\r\n      <use xlink:href=\"#DejaVuSans-Oblique-71\"/>\r\n      <use transform=\"translate(63.476562 -16.40625)scale(0.7)\" xlink:href=\"#DejaVuSans-31\"/>\r\n     </g>\r\n    </g>\r\n   </g>\r\n  </g>\r\n </g>\r\n <defs>\r\n  <clipPath id=\"p6ff6a6e68b\">\r\n   <rect height=\"109.0824\" width=\"110.722272\" x=\"7.2\" y=\"7.2\"/>\r\n  </clipPath>\r\n </defs>\r\n</svg>\r\n"
     },
     "metadata": {},
     "execution_count": 3
    }
   ],
   "source": [
    "# 制御Z\n",
    "qc.cz(c,t)\n",
    "qc.draw()"
   ]
  },
  {
   "cell_type": "code",
   "execution_count": null,
   "metadata": {},
   "outputs": [],
   "source": []
  }
 ]
}